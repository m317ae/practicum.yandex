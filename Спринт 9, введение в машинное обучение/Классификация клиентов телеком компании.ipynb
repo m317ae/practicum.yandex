{
 "cells": [
  {
   "cell_type": "markdown",
   "metadata": {},
   "source": [
    "# Рекомендация тарифов"
   ]
  },
  {
   "cell_type": "markdown",
   "metadata": {},
   "source": [
    "В вашем распоряжении данные о поведении клиентов, которые уже перешли на эти тарифы (из проекта курса «Статистический анализ данных»). Нужно построить модель для задачи классификации, которая выберет подходящий тариф. Предобработка данных не понадобится — вы её уже сделали.\n",
    "\n",
    "Постройте модель с максимально большим значением *accuracy*. Чтобы сдать проект успешно, нужно довести долю правильных ответов по крайней мере до 0.75. Проверьте *accuracy* на тестовой выборке самостоятельно."
   ]
  },
  {
   "cell_type": "markdown",
   "metadata": {},
   "source": [
    "## Откройте и изучите файл"
   ]
  },
  {
   "cell_type": "code",
   "execution_count": 38,
   "metadata": {},
   "outputs": [],
   "source": [
    "import pandas as pd\n",
    "from sklearn.ensemble import RandomForestClassifier\n",
    "from sklearn.tree import DecisionTreeClassifier\n",
    "from sklearn.linear_model import LogisticRegression \n",
    "\n",
    "from sklearn.metrics import accuracy_score\n",
    "from sklearn.model_selection import train_test_split\n",
    "from sklearn.dummy import DummyClassifier\n",
    "\n",
    "from sklearn.metrics import recall_score\n",
    "from sklearn.metrics import precision_score\n",
    "from sklearn.metrics import f1_score\n",
    "\n",
    "import matplotlib.pyplot as plt \n",
    "from sklearn.datasets import load_iris\n",
    "from sklearn import tree"
   ]
  },
  {
   "cell_type": "code",
   "execution_count": 2,
   "metadata": {},
   "outputs": [],
   "source": [
    "df  = pd.read_csv('/datasets/users_behavior.csv')"
   ]
  },
  {
   "cell_type": "code",
   "execution_count": 3,
   "metadata": {},
   "outputs": [
    {
     "name": "stdout",
     "output_type": "stream",
     "text": [
      "<class 'pandas.core.frame.DataFrame'>\n",
      "RangeIndex: 3214 entries, 0 to 3213\n",
      "Data columns (total 5 columns):\n",
      " #   Column    Non-Null Count  Dtype  \n",
      "---  ------    --------------  -----  \n",
      " 0   calls     3214 non-null   float64\n",
      " 1   minutes   3214 non-null   float64\n",
      " 2   messages  3214 non-null   float64\n",
      " 3   mb_used   3214 non-null   float64\n",
      " 4   is_ultra  3214 non-null   int64  \n",
      "dtypes: float64(4), int64(1)\n",
      "memory usage: 125.7 KB\n"
     ]
    }
   ],
   "source": [
    "df.info()"
   ]
  },
  {
   "cell_type": "markdown",
   "metadata": {},
   "source": [
    "Датасет состоит из 4_х колонок по 3214 строк. Пропусков нет, все данные численные. Ознакомимся с данными"
   ]
  },
  {
   "cell_type": "code",
   "execution_count": 4,
   "metadata": {},
   "outputs": [
    {
     "data": {
      "text/html": [
       "<div>\n",
       "<style scoped>\n",
       "    .dataframe tbody tr th:only-of-type {\n",
       "        vertical-align: middle;\n",
       "    }\n",
       "\n",
       "    .dataframe tbody tr th {\n",
       "        vertical-align: top;\n",
       "    }\n",
       "\n",
       "    .dataframe thead th {\n",
       "        text-align: right;\n",
       "    }\n",
       "</style>\n",
       "<table border=\"1\" class=\"dataframe\">\n",
       "  <thead>\n",
       "    <tr style=\"text-align: right;\">\n",
       "      <th></th>\n",
       "      <th>calls</th>\n",
       "      <th>minutes</th>\n",
       "      <th>messages</th>\n",
       "      <th>mb_used</th>\n",
       "      <th>is_ultra</th>\n",
       "    </tr>\n",
       "  </thead>\n",
       "  <tbody>\n",
       "    <tr>\n",
       "      <th>0</th>\n",
       "      <td>40.0</td>\n",
       "      <td>311.90</td>\n",
       "      <td>83.0</td>\n",
       "      <td>19915.42</td>\n",
       "      <td>0</td>\n",
       "    </tr>\n",
       "    <tr>\n",
       "      <th>1</th>\n",
       "      <td>85.0</td>\n",
       "      <td>516.75</td>\n",
       "      <td>56.0</td>\n",
       "      <td>22696.96</td>\n",
       "      <td>0</td>\n",
       "    </tr>\n",
       "    <tr>\n",
       "      <th>2</th>\n",
       "      <td>77.0</td>\n",
       "      <td>467.66</td>\n",
       "      <td>86.0</td>\n",
       "      <td>21060.45</td>\n",
       "      <td>0</td>\n",
       "    </tr>\n",
       "    <tr>\n",
       "      <th>3</th>\n",
       "      <td>106.0</td>\n",
       "      <td>745.53</td>\n",
       "      <td>81.0</td>\n",
       "      <td>8437.39</td>\n",
       "      <td>1</td>\n",
       "    </tr>\n",
       "    <tr>\n",
       "      <th>4</th>\n",
       "      <td>66.0</td>\n",
       "      <td>418.74</td>\n",
       "      <td>1.0</td>\n",
       "      <td>14502.75</td>\n",
       "      <td>0</td>\n",
       "    </tr>\n",
       "  </tbody>\n",
       "</table>\n",
       "</div>"
      ],
      "text/plain": [
       "   calls  minutes  messages   mb_used  is_ultra\n",
       "0   40.0   311.90      83.0  19915.42         0\n",
       "1   85.0   516.75      56.0  22696.96         0\n",
       "2   77.0   467.66      86.0  21060.45         0\n",
       "3  106.0   745.53      81.0   8437.39         1\n",
       "4   66.0   418.74       1.0  14502.75         0"
      ]
     },
     "execution_count": 4,
     "metadata": {},
     "output_type": "execute_result"
    }
   ],
   "source": [
    "df.head()"
   ]
  },
  {
   "cell_type": "code",
   "execution_count": 5,
   "metadata": {},
   "outputs": [
    {
     "data": {
      "text/html": [
       "<div>\n",
       "<style scoped>\n",
       "    .dataframe tbody tr th:only-of-type {\n",
       "        vertical-align: middle;\n",
       "    }\n",
       "\n",
       "    .dataframe tbody tr th {\n",
       "        vertical-align: top;\n",
       "    }\n",
       "\n",
       "    .dataframe thead th {\n",
       "        text-align: right;\n",
       "    }\n",
       "</style>\n",
       "<table border=\"1\" class=\"dataframe\">\n",
       "  <thead>\n",
       "    <tr style=\"text-align: right;\">\n",
       "      <th></th>\n",
       "      <th>calls</th>\n",
       "      <th>minutes</th>\n",
       "      <th>messages</th>\n",
       "      <th>mb_used</th>\n",
       "      <th>is_ultra</th>\n",
       "    </tr>\n",
       "  </thead>\n",
       "  <tbody>\n",
       "    <tr>\n",
       "      <th>count</th>\n",
       "      <td>3214.000000</td>\n",
       "      <td>3214.000000</td>\n",
       "      <td>3214.000000</td>\n",
       "      <td>3214.000000</td>\n",
       "      <td>3214.000000</td>\n",
       "    </tr>\n",
       "    <tr>\n",
       "      <th>mean</th>\n",
       "      <td>63.038892</td>\n",
       "      <td>438.208787</td>\n",
       "      <td>38.281269</td>\n",
       "      <td>17207.673836</td>\n",
       "      <td>0.306472</td>\n",
       "    </tr>\n",
       "    <tr>\n",
       "      <th>std</th>\n",
       "      <td>33.236368</td>\n",
       "      <td>234.569872</td>\n",
       "      <td>36.148326</td>\n",
       "      <td>7570.968246</td>\n",
       "      <td>0.461100</td>\n",
       "    </tr>\n",
       "    <tr>\n",
       "      <th>min</th>\n",
       "      <td>0.000000</td>\n",
       "      <td>0.000000</td>\n",
       "      <td>0.000000</td>\n",
       "      <td>0.000000</td>\n",
       "      <td>0.000000</td>\n",
       "    </tr>\n",
       "    <tr>\n",
       "      <th>25%</th>\n",
       "      <td>40.000000</td>\n",
       "      <td>274.575000</td>\n",
       "      <td>9.000000</td>\n",
       "      <td>12491.902500</td>\n",
       "      <td>0.000000</td>\n",
       "    </tr>\n",
       "    <tr>\n",
       "      <th>50%</th>\n",
       "      <td>62.000000</td>\n",
       "      <td>430.600000</td>\n",
       "      <td>30.000000</td>\n",
       "      <td>16943.235000</td>\n",
       "      <td>0.000000</td>\n",
       "    </tr>\n",
       "    <tr>\n",
       "      <th>75%</th>\n",
       "      <td>82.000000</td>\n",
       "      <td>571.927500</td>\n",
       "      <td>57.000000</td>\n",
       "      <td>21424.700000</td>\n",
       "      <td>1.000000</td>\n",
       "    </tr>\n",
       "    <tr>\n",
       "      <th>max</th>\n",
       "      <td>244.000000</td>\n",
       "      <td>1632.060000</td>\n",
       "      <td>224.000000</td>\n",
       "      <td>49745.730000</td>\n",
       "      <td>1.000000</td>\n",
       "    </tr>\n",
       "  </tbody>\n",
       "</table>\n",
       "</div>"
      ],
      "text/plain": [
       "             calls      minutes     messages       mb_used     is_ultra\n",
       "count  3214.000000  3214.000000  3214.000000   3214.000000  3214.000000\n",
       "mean     63.038892   438.208787    38.281269  17207.673836     0.306472\n",
       "std      33.236368   234.569872    36.148326   7570.968246     0.461100\n",
       "min       0.000000     0.000000     0.000000      0.000000     0.000000\n",
       "25%      40.000000   274.575000     9.000000  12491.902500     0.000000\n",
       "50%      62.000000   430.600000    30.000000  16943.235000     0.000000\n",
       "75%      82.000000   571.927500    57.000000  21424.700000     1.000000\n",
       "max     244.000000  1632.060000   224.000000  49745.730000     1.000000"
      ]
     },
     "execution_count": 5,
     "metadata": {},
     "output_type": "execute_result"
    }
   ],
   "source": [
    "df.describe()"
   ]
  },
  {
   "cell_type": "markdown",
   "metadata": {},
   "source": [
    "Проверим df на явные дубли"
   ]
  },
  {
   "cell_type": "code",
   "execution_count": 6,
   "metadata": {},
   "outputs": [
    {
     "data": {
      "text/plain": [
       "0"
      ]
     },
     "execution_count": 6,
     "metadata": {},
     "output_type": "execute_result"
    }
   ],
   "source": [
    "df.duplicated().sum()"
   ]
  },
  {
   "cell_type": "markdown",
   "metadata": {},
   "source": [
    "Вывод: данные уже предподотолены для исследования, их можно исползовать"
   ]
  },
  {
   "cell_type": "markdown",
   "metadata": {},
   "source": [
    "## Разбейте данные на выборки"
   ]
  },
  {
   "cell_type": "markdown",
   "metadata": {},
   "source": [
    "Задача состоит в построении модели, которая на основании потребленных услуг(потребностей абонента) подберет оптимальный тариф. Целевым признаком зададим столбец \"is_ultra\". Остальные столбцы отнесем в особенности"
   ]
  },
  {
   "cell_type": "code",
   "execution_count": 7,
   "metadata": {},
   "outputs": [],
   "source": [
    "target = df['is_ultra']\n",
    "features = df.drop(['is_ultra'], axis=1)"
   ]
  },
  {
   "cell_type": "code",
   "execution_count": 8,
   "metadata": {},
   "outputs": [
    {
     "data": {
      "text/plain": [
       "0    0\n",
       "1    0\n",
       "2    0\n",
       "3    1\n",
       "4    0\n",
       "Name: is_ultra, dtype: int64"
      ]
     },
     "execution_count": 8,
     "metadata": {},
     "output_type": "execute_result"
    }
   ],
   "source": [
    "target.head()"
   ]
  },
  {
   "cell_type": "code",
   "execution_count": 9,
   "metadata": {},
   "outputs": [
    {
     "data": {
      "text/html": [
       "<div>\n",
       "<style scoped>\n",
       "    .dataframe tbody tr th:only-of-type {\n",
       "        vertical-align: middle;\n",
       "    }\n",
       "\n",
       "    .dataframe tbody tr th {\n",
       "        vertical-align: top;\n",
       "    }\n",
       "\n",
       "    .dataframe thead th {\n",
       "        text-align: right;\n",
       "    }\n",
       "</style>\n",
       "<table border=\"1\" class=\"dataframe\">\n",
       "  <thead>\n",
       "    <tr style=\"text-align: right;\">\n",
       "      <th></th>\n",
       "      <th>calls</th>\n",
       "      <th>minutes</th>\n",
       "      <th>messages</th>\n",
       "      <th>mb_used</th>\n",
       "    </tr>\n",
       "  </thead>\n",
       "  <tbody>\n",
       "    <tr>\n",
       "      <th>0</th>\n",
       "      <td>40.0</td>\n",
       "      <td>311.90</td>\n",
       "      <td>83.0</td>\n",
       "      <td>19915.42</td>\n",
       "    </tr>\n",
       "    <tr>\n",
       "      <th>1</th>\n",
       "      <td>85.0</td>\n",
       "      <td>516.75</td>\n",
       "      <td>56.0</td>\n",
       "      <td>22696.96</td>\n",
       "    </tr>\n",
       "    <tr>\n",
       "      <th>2</th>\n",
       "      <td>77.0</td>\n",
       "      <td>467.66</td>\n",
       "      <td>86.0</td>\n",
       "      <td>21060.45</td>\n",
       "    </tr>\n",
       "    <tr>\n",
       "      <th>3</th>\n",
       "      <td>106.0</td>\n",
       "      <td>745.53</td>\n",
       "      <td>81.0</td>\n",
       "      <td>8437.39</td>\n",
       "    </tr>\n",
       "    <tr>\n",
       "      <th>4</th>\n",
       "      <td>66.0</td>\n",
       "      <td>418.74</td>\n",
       "      <td>1.0</td>\n",
       "      <td>14502.75</td>\n",
       "    </tr>\n",
       "  </tbody>\n",
       "</table>\n",
       "</div>"
      ],
      "text/plain": [
       "   calls  minutes  messages   mb_used\n",
       "0   40.0   311.90      83.0  19915.42\n",
       "1   85.0   516.75      56.0  22696.96\n",
       "2   77.0   467.66      86.0  21060.45\n",
       "3  106.0   745.53      81.0   8437.39\n",
       "4   66.0   418.74       1.0  14502.75"
      ]
     },
     "execution_count": 9,
     "metadata": {},
     "output_type": "execute_result"
    }
   ],
   "source": [
    "features.head()"
   ]
  },
  {
   "cell_type": "markdown",
   "metadata": {},
   "source": [
    "Разобъем данные на 3 выборки: 1) теренировочная - на ней будем обучатьмодель; 2) валидационная - для проверки адекватности модели; 3) тестовая - для провеки модели. Сначала разделим данные на обучающую и тестовую в отношении 6/4, за тем разделим тестовую выборку на тестовую и валидационную 1/1"
   ]
  },
  {
   "cell_type": "code",
   "execution_count": 10,
   "metadata": {},
   "outputs": [],
   "source": [
    "features_train, features_pre_test, target_train, target_pre_test = train_test_split(features, target, test_size=0.4, random_state=5)"
   ]
  },
  {
   "cell_type": "code",
   "execution_count": 11,
   "metadata": {},
   "outputs": [],
   "source": [
    "features_valid, features_test, target_valid, target_test = train_test_split(features_pre_test, target_pre_test, test_size=0.5, random_state=5)"
   ]
  },
  {
   "cell_type": "markdown",
   "metadata": {},
   "source": [
    "Проверим правильность разбиения"
   ]
  },
  {
   "cell_type": "code",
   "execution_count": 12,
   "metadata": {},
   "outputs": [
    {
     "data": {
      "text/plain": [
       "2.998444790046656"
      ]
     },
     "execution_count": 12,
     "metadata": {},
     "output_type": "execute_result"
    }
   ],
   "source": [
    "len(features_train)/len(features_valid)"
   ]
  },
  {
   "cell_type": "code",
   "execution_count": 13,
   "metadata": {},
   "outputs": [
    {
     "data": {
      "text/plain": [
       "2.998444790046656"
      ]
     },
     "execution_count": 13,
     "metadata": {},
     "output_type": "execute_result"
    }
   ],
   "source": [
    "len(target_train)/len(target_test)"
   ]
  },
  {
   "cell_type": "markdown",
   "metadata": {},
   "source": [
    "Пропорции соблюдены, можно двигаться дальше"
   ]
  },
  {
   "cell_type": "markdown",
   "metadata": {},
   "source": [
    "## Исследуйте модели"
   ]
  },
  {
   "cell_type": "markdown",
   "metadata": {},
   "source": [
    "Задачей исследования является классификация данных. Выбирать лучшую модель будем из трех: 1) DecisionTreeClassifier; 2) RandomForestClassifier; 3) LogisticRegression "
   ]
  },
  {
   "cell_type": "markdown",
   "metadata": {},
   "source": [
    "#### DecisionTreeClassifier"
   ]
  },
  {
   "cell_type": "code",
   "execution_count": 1,
   "metadata": {},
   "outputs": [
    {
     "ename": "NameError",
     "evalue": "name 'DecisionTreeClassifier' is not defined",
     "output_type": "error",
     "traceback": [
      "\u001b[0;31m---------------------------------------------------------------------------\u001b[0m",
      "\u001b[0;31mNameError\u001b[0m                                 Traceback (most recent call last)",
      "\u001b[0;32m<timed exec>\u001b[0m in \u001b[0;36m<module>\u001b[0;34m\u001b[0m\n",
      "\u001b[0;31mNameError\u001b[0m: name 'DecisionTreeClassifier' is not defined"
     ]
    }
   ],
   "source": [
    "%%time\n",
    "best_model_dtc = None\n",
    "best_acc_dtc = 0\n",
    "best_depth_dtc = 0\n",
    "acc_list=[]\n",
    "depth_list=[]\n",
    "\n",
    "for i_dtc in range(1, 11): # в цикле подставим в дерево разные глубины от 1 до 10\n",
    "    model_dtc = DecisionTreeClassifier(random_state=5, max_depth = i_dtc) \n",
    "    model_dtc.fit(features_train, target_train)\n",
    "    predictions_dtc = model_dtc.predict(features_valid) # обучим модель на валидационной выборке\n",
    "    result_dtc = accuracy_score(target_valid, predictions_dtc) # подсчитаем accuracy модели по предсказанию и валидационной целевой выборке\n",
    "\n",
    "    acc_list.append(result_dtc)\n",
    "    depth_list.append(i_dtc)\n",
    "\n",
    "    if result_dtc > best_acc_dtc:\n",
    "        best_model_dtc = model_dtc\n",
    "        best_acc_dtc = result_dtc\n",
    "        best_depth_dtc = i_dtc\n",
    "        \n",
    "print(\"accuracy лучшей модели:\", best_acc_dtc)\n",
    "print(\"глубина лучшей модели:\", best_depth_dtc)\n",
    "\n",
    "plt.plot(depth_list, acc_list)\n",
    "plt.title('Зависимость accurency от глубины дерева')\n",
    "plt.xlabel('Глубина дерева')\n",
    "plt.ylabel('Значение accurency')\n",
    "plt.show()\n"
   ]
  },
  {
   "cell_type": "markdown",
   "metadata": {},
   "source": [
    "Для модели \"Решающее дерево\" лучшим, стал результат точности = 0.8. Он был достигнут с глубиной дерева = 6. Всего было перебрано 10 вариантов глубины"
   ]
  },
  {
   "cell_type": "code",
   "execution_count": 43,
   "metadata": {},
   "outputs": [
    {
     "data": {
      "text/plain": [
       "[Text(167.4, 181.2, 'X[3] <= 25992.225\\ngini = 0.429\\nsamples = 1928\\nvalue = [1326, 602]'),\n",
       " Text(83.7, 108.72, 'X[0] <= 104.5\\ngini = 0.376\\nsamples = 1710\\nvalue = [1281, 429]'),\n",
       " Text(41.85, 36.23999999999998, 'gini = 0.33\\nsamples = 1586\\nvalue = [1255, 331]'),\n",
       " Text(125.55000000000001, 36.23999999999998, 'gini = 0.331\\nsamples = 124\\nvalue = [26, 98]'),\n",
       " Text(251.10000000000002, 108.72, 'X[1] <= 560.73\\ngini = 0.328\\nsamples = 218\\nvalue = [45, 173]'),\n",
       " Text(209.25, 36.23999999999998, 'gini = 0.426\\nsamples = 117\\nvalue = [36, 81]'),\n",
       " Text(292.95, 36.23999999999998, 'gini = 0.162\\nsamples = 101\\nvalue = [9, 92]')]"
      ]
     },
     "execution_count": 43,
     "metadata": {},
     "output_type": "execute_result"
    },
    {
     "data": {
      "image/png": "[encoded data removed]",
      "text/plain": [
       "<Figure size 432x288 with 1 Axes>"
      ]
     },
     "metadata": {
      "needs_background": "light"
     },
     "output_type": "display_data"
    }
   ],
   "source": [
    "model_test_visual = DecisionTreeClassifier(random_state=5, max_depth = 2)\n",
    "model_test_visual.fit(features_train, target_train)\n",
    "tree.plot_tree(model_test_visual)"
   ]
  },
  {
   "cell_type": "markdown",
   "metadata": {},
   "source": [
    "##### RandomForestClassifier"
   ]
  },
  {
   "cell_type": "code",
   "execution_count": 23,
   "metadata": {},
   "outputs": [
    {
     "name": "stdout",
     "output_type": "stream",
     "text": [
      "Accuracy наилучшей модели: 0.8102643856920684\n",
      "при количестве оценщиков: 8\n",
      "и глубине деревьев: 5\n",
      "CPU times: user 4.3 s, sys: 40 ms, total: 4.34 s\n",
      "Wall time: 4.34 s\n"
     ]
    }
   ],
   "source": [
    "%%time\n",
    "best_model_rf = None\n",
    "best_result_rf = 0\n",
    "best_est_rf = 0\n",
    "best_depth_rf = 0\n",
    "for i_rf in range(1,15): #итератор i_rf используем для подбора оптимальной глубины деревьев\n",
    "    for est_rf in range(1, 15): #итератор est_rf используем для подбора оптимального кол-ва деревьев\n",
    "        model_rf = RandomForestClassifier(random_state=5, n_estimators=est_rf, max_depth=i_rf) #передамим в гиперпараметры итераторы 2_х вложенных циклов\n",
    "        model_rf.fit(features_train, target_train) # обучим модель на тренировочной выборке\n",
    "        result_rf = model_rf.score(features_valid, target_valid) # оценим качество модели\n",
    "        if result_rf > best_result_rf:\n",
    "            best_model_rf = model_rf #сохраняем лучшую модель,\n",
    "            best_result_rf = result_rf  #лучшую точность\n",
    "            best_est_rf = est_rf #лучшее кол-во деревьев\n",
    "            best_depth_rf = i_rf #лучшую глубину\n",
    " \n",
    "print(\"Accuracy наилучшей модели:\", best_result_rf)\n",
    "print(\"при количестве оценщиков:\", best_est_rf)\n",
    "print(\"и глубине деревьев:\", best_depth_rf)"
   ]
  },
  {
   "cell_type": "markdown",
   "metadata": {},
   "source": [
    "####  LogisticRegression"
   ]
  },
  {
   "cell_type": "code",
   "execution_count": 25,
   "metadata": {},
   "outputs": [
    {
     "name": "stdout",
     "output_type": "stream",
     "text": [
      "0.7573872472783826\n",
      "CPU times: user 31.9 ms, sys: 0 ns, total: 31.9 ms\n",
      "Wall time: 30 ms\n"
     ]
    }
   ],
   "source": [
    "%%time\n",
    "model_lr = LogisticRegression(random_state=5, solver='lbfgs', max_iter=1000) \n",
    "model_lr.fit(features_train, target_train) \n",
    "print(model_lr.score(features_valid, target_valid))"
   ]
  },
  {
   "cell_type": "markdown",
   "metadata": {},
   "source": [
    "Логистическая регрессия дала точность 0.7573872472783826"
   ]
  },
  {
   "cell_type": "markdown",
   "metadata": {},
   "source": [
    "Вывод: мы рассмотрели 3 модели с различными гиперпараметрами. Из них наилучшие результаты на валидационной выборке показала модель случайного леса с 8_ю деревьями при глубине делава в 5 узлов. Ее мы и будем использовать в дальнейшем. Стоит отметить, что логистическая регрессия показала наименьший результат точности"
   ]
  },
  {
   "cell_type": "markdown",
   "metadata": {},
   "source": [
    "## Проверьте модель на тестовой выборке"
   ]
  },
  {
   "cell_type": "code",
   "execution_count": 22,
   "metadata": {},
   "outputs": [
    {
     "name": "stdout",
     "output_type": "stream",
     "text": [
      "0.7853810264385692\n",
      "0.02488335925349916\n",
      "0.465\n",
      "0.296875\n",
      "0.24437299035369778\n"
     ]
    }
   ],
   "source": [
    "finish_model_forest = RandomForestClassifier(random_state=5, n_estimators= 8, max_depth= 5)\n",
    "finish_model_forest.fit(features_train, target_train)\n",
    "result_finish_model_forest = model_rf.score(features_test, target_test)\n",
    "predicted_valid_rf = finish_model_forest.predict(features_test)\n",
    "print(result_finish_model_forest)\n",
    "print(best_result_rf - result_finish_model_forest)\n",
    "print(recall_score(target_test, predicted_valid_rf))\n",
    "print(precision_score(target_valid, predicted_valid_rf))\n",
    "print(f1_score(target_valid, predicted_valid_rf))"
   ]
  },
  {
   "cell_type": "markdown",
   "metadata": {},
   "source": [
    "Вывод: лучшая модель, отобранная на валидационной выборке показала на 2,5% меньше точности на тестовой выборке. Тем не менее достигнуто значение точности 78%, что является хорошим результатом "
   ]
  },
  {
   "cell_type": "markdown",
   "metadata": {},
   "source": [
    "## (бонус) Проверьте модели на адекватность"
   ]
  },
  {
   "cell_type": "markdown",
   "metadata": {},
   "source": [
    "Проверку на адекватность выполним с путем сравнения нашей модели с dummy моделью, которая предсказывает наиболее часто встречающийся класс."
   ]
  },
  {
   "cell_type": "code",
   "execution_count": null,
   "metadata": {},
   "outputs": [],
   "source": [
    "bease_model = DummyClassifier(random_state=5)\n",
    "bease_model.fit(features_train, target_train)\n",
    "dummy_acc = bease_model.score(features_test, target_test)\n",
    "dummy_acc"
   ]
  },
  {
   "cell_type": "markdown",
   "metadata": {},
   "source": [
    "Простейшая модель на тестовой выборке показала результат точности 69%, тогда, как выбранная и настроенная RandomForestClassifier показала 78% на той же выборке. Можно сделать вывод, что модель прошла проверку на адекватность."
   ]
  },
  {
   "cell_type": "markdown",
   "metadata": {},
   "source": [
    "#### Общий вывод:"
   ]
  },
  {
   "cell_type": "markdown",
   "metadata": {},
   "source": [
    "В рамках проектра поставлена задача построения модели для классификации, которая выберет для абонента новый подходящий тариф на основе потребляемых ранее услуг. Для реализации предоставлены данные о тарифных предпочтениях абонентов в новой тарифной линейке. Предоставленные данные полные, не потребовали предобработки. \n",
    "\n",
    "В ходе выполнения проекта рассмотрены 3 модели: 1) Решающее дерево, 2) Случайный лес, 3) Логистическая регрессия. Путем подбора  различных гиперпараметров и сравнения результатов выялено, что с поставленной задачей наилучшим образом справляется модель \"Случайный лес\" с количеством деревьев 8 и глубиной 5. Побдор модели выпонен на датасете, разбитом на ттренировочную, валидационную и тестовую выборки в пропорции 3:1:1. Модель Случайный лес с побобранными гиперпараметрами была проверена на тестовой выборке и показала 78% точности. Далее была выполнена проверка на адекватность с применением дамми модели, которая подтвердила адекватность случайного леса. \n",
    "\n",
    "Итог: лучшей моледью для решения текущей задачи по рекомендации тарифов является \"Случайный лес\", 8 деревьев, 3 узла."
   ]
  }
 ],
 "metadata": {
  "ExecuteTimeLog": [
   {
    "duration": 1142,
    "start_time": "2022-10-31T14:40:57.133Z"
   },
   {
    "duration": 100,
    "start_time": "2022-10-31T14:41:52.521Z"
   },
   {
    "duration": 19,
    "start_time": "2022-10-31T14:41:53.717Z"
   },
   {
    "duration": 13,
    "start_time": "2022-10-31T14:54:43.994Z"
   },
   {
    "duration": 53,
    "start_time": "2022-11-02T13:03:24.710Z"
   },
   {
    "duration": 1252,
    "start_time": "2022-11-02T13:03:30.301Z"
   },
   {
    "duration": 75,
    "start_time": "2022-11-02T13:03:31.556Z"
   },
   {
    "duration": 14,
    "start_time": "2022-11-02T13:03:31.633Z"
   },
   {
    "duration": 28,
    "start_time": "2022-11-02T13:03:31.649Z"
   },
   {
    "duration": 4,
    "start_time": "2022-11-02T13:08:40.264Z"
   },
   {
    "duration": 10,
    "start_time": "2022-11-02T13:08:56.375Z"
   },
   {
    "duration": 6,
    "start_time": "2022-11-02T13:09:02.115Z"
   },
   {
    "duration": 10,
    "start_time": "2022-11-02T13:09:08.955Z"
   },
   {
    "duration": 25,
    "start_time": "2022-11-02T13:27:05.369Z"
   },
   {
    "duration": 7,
    "start_time": "2022-11-02T13:33:29.934Z"
   },
   {
    "duration": 83,
    "start_time": "2022-11-02T13:34:20.019Z"
   },
   {
    "duration": 6,
    "start_time": "2022-11-02T13:38:42.556Z"
   },
   {
    "duration": 17,
    "start_time": "2022-11-02T13:42:08.280Z"
   },
   {
    "duration": 5,
    "start_time": "2022-11-02T13:56:37.124Z"
   },
   {
    "duration": 5,
    "start_time": "2022-11-02T14:07:55.035Z"
   },
   {
    "duration": 5,
    "start_time": "2022-11-02T14:09:09.023Z"
   },
   {
    "duration": 6,
    "start_time": "2022-11-02T14:12:49.659Z"
   },
   {
    "duration": 5,
    "start_time": "2022-11-02T14:13:49.578Z"
   },
   {
    "duration": 4,
    "start_time": "2022-11-02T14:14:49.918Z"
   },
   {
    "duration": 5,
    "start_time": "2022-11-02T14:29:51.143Z"
   },
   {
    "duration": 4,
    "start_time": "2022-11-02T14:36:36.964Z"
   },
   {
    "duration": 70,
    "start_time": "2022-11-02T14:36:57.439Z"
   },
   {
    "duration": 4,
    "start_time": "2022-11-02T14:39:14.292Z"
   },
   {
    "duration": 4,
    "start_time": "2022-11-02T14:39:15.614Z"
   },
   {
    "duration": 77,
    "start_time": "2022-11-02T15:07:13.531Z"
   },
   {
    "duration": 34,
    "start_time": "2022-11-02T15:08:04.280Z"
   },
   {
    "duration": 69,
    "start_time": "2022-11-02T15:08:12.449Z"
   },
   {
    "duration": 109,
    "start_time": "2022-11-02T15:08:16.377Z"
   },
   {
    "duration": 92,
    "start_time": "2022-11-02T15:08:19.331Z"
   },
   {
    "duration": 166,
    "start_time": "2022-11-02T15:08:23.076Z"
   },
   {
    "duration": 67,
    "start_time": "2022-11-02T15:08:27.971Z"
   },
   {
    "duration": 73,
    "start_time": "2022-11-02T15:10:24.383Z"
   },
   {
    "duration": 74,
    "start_time": "2022-11-02T15:10:51.346Z"
   },
   {
    "duration": 69,
    "start_time": "2022-11-02T15:10:57.038Z"
   },
   {
    "duration": 74,
    "start_time": "2022-11-02T15:17:17.459Z"
   },
   {
    "duration": 73,
    "start_time": "2022-11-02T15:17:58.089Z"
   },
   {
    "duration": 72,
    "start_time": "2022-11-02T15:18:48.623Z"
   },
   {
    "duration": 103,
    "start_time": "2022-11-02T15:24:03.393Z"
   },
   {
    "duration": 93,
    "start_time": "2022-11-02T15:24:13.248Z"
   },
   {
    "duration": 80,
    "start_time": "2022-11-02T15:24:30.606Z"
   },
   {
    "duration": 272,
    "start_time": "2022-11-02T15:25:58.752Z"
   },
   {
    "duration": 288,
    "start_time": "2022-11-02T15:32:51.532Z"
   },
   {
    "duration": 955,
    "start_time": "2022-11-02T15:32:58.794Z"
   },
   {
    "duration": 286,
    "start_time": "2022-11-02T15:33:39.707Z"
   },
   {
    "duration": 1084,
    "start_time": "2022-11-02T15:33:48.521Z"
   },
   {
    "duration": 303,
    "start_time": "2022-11-02T15:34:11.198Z"
   },
   {
    "duration": 46,
    "start_time": "2022-11-02T15:34:55.161Z"
   },
   {
    "duration": 66,
    "start_time": "2022-11-02T15:34:58.472Z"
   },
   {
    "duration": 118,
    "start_time": "2022-11-02T15:35:01.915Z"
   },
   {
    "duration": 124,
    "start_time": "2022-11-02T15:35:04.419Z"
   },
   {
    "duration": 164,
    "start_time": "2022-11-02T15:35:07.232Z"
   },
   {
    "duration": 198,
    "start_time": "2022-11-02T15:35:09.179Z"
   },
   {
    "duration": 230,
    "start_time": "2022-11-02T15:35:11.074Z"
   },
   {
    "duration": 280,
    "start_time": "2022-11-02T15:35:13.417Z"
   },
   {
    "duration": 292,
    "start_time": "2022-11-02T15:35:30.673Z"
   },
   {
    "duration": 501,
    "start_time": "2022-11-02T15:35:39.462Z"
   },
   {
    "duration": 513,
    "start_time": "2022-11-02T15:36:10.908Z"
   },
   {
    "duration": 506,
    "start_time": "2022-11-02T15:37:14.026Z"
   },
   {
    "duration": 7338,
    "start_time": "2022-11-02T15:40:38.279Z"
   },
   {
    "duration": 4971,
    "start_time": "2022-11-02T15:41:05.843Z"
   },
   {
    "duration": 83,
    "start_time": "2022-11-02T15:42:19.590Z"
   },
   {
    "duration": 5083,
    "start_time": "2022-11-02T15:42:29.114Z"
   },
   {
    "duration": 43,
    "start_time": "2022-11-02T15:50:00.716Z"
   },
   {
    "duration": 38,
    "start_time": "2022-11-02T16:00:04.421Z"
   },
   {
    "duration": 35,
    "start_time": "2022-11-02T16:03:29.644Z"
   },
   {
    "duration": 32,
    "start_time": "2022-11-02T16:04:11.391Z"
   },
   {
    "duration": 1044,
    "start_time": "2022-11-03T07:20:08.637Z"
   },
   {
    "duration": 82,
    "start_time": "2022-11-03T07:20:09.685Z"
   },
   {
    "duration": 11,
    "start_time": "2022-11-03T07:20:09.769Z"
   },
   {
    "duration": 17,
    "start_time": "2022-11-03T07:20:09.782Z"
   },
   {
    "duration": 22,
    "start_time": "2022-11-03T07:20:09.801Z"
   },
   {
    "duration": 5,
    "start_time": "2022-11-03T07:20:09.825Z"
   },
   {
    "duration": 8,
    "start_time": "2022-11-03T07:20:09.832Z"
   },
   {
    "duration": 8,
    "start_time": "2022-11-03T07:20:09.841Z"
   },
   {
    "duration": 10,
    "start_time": "2022-11-03T07:20:09.851Z"
   },
   {
    "duration": 7,
    "start_time": "2022-11-03T07:20:09.863Z"
   },
   {
    "duration": 5,
    "start_time": "2022-11-03T07:20:09.871Z"
   },
   {
    "duration": 6,
    "start_time": "2022-11-03T07:20:09.877Z"
   },
   {
    "duration": 23,
    "start_time": "2022-11-03T07:20:09.884Z"
   },
   {
    "duration": 74,
    "start_time": "2022-11-03T07:20:09.909Z"
   },
   {
    "duration": 4111,
    "start_time": "2022-11-03T07:20:09.985Z"
   },
   {
    "duration": 33,
    "start_time": "2022-11-03T07:20:14.098Z"
   },
   {
    "duration": 25,
    "start_time": "2022-11-03T07:20:14.132Z"
   },
   {
    "duration": 3,
    "start_time": "2022-11-03T07:35:47.702Z"
   },
   {
    "duration": 5,
    "start_time": "2022-11-03T07:38:45.915Z"
   },
   {
    "duration": 69,
    "start_time": "2022-11-03T07:44:07.022Z"
   },
   {
    "duration": 5,
    "start_time": "2022-11-03T07:54:57.620Z"
   },
   {
    "duration": 5,
    "start_time": "2022-11-03T07:54:58.184Z"
   },
   {
    "duration": 5,
    "start_time": "2022-11-03T07:54:58.693Z"
   },
   {
    "duration": 6,
    "start_time": "2022-11-03T07:54:59.154Z"
   },
   {
    "duration": 5,
    "start_time": "2022-11-03T07:54:59.554Z"
   },
   {
    "duration": 6,
    "start_time": "2022-11-03T07:54:59.875Z"
   },
   {
    "duration": 4,
    "start_time": "2022-11-03T07:54:59.998Z"
   },
   {
    "duration": 6,
    "start_time": "2022-11-03T07:55:00.147Z"
   },
   {
    "duration": 5,
    "start_time": "2022-11-03T07:55:00.460Z"
   },
   {
    "duration": 6,
    "start_time": "2022-11-03T07:55:00.571Z"
   },
   {
    "duration": 5,
    "start_time": "2022-11-03T07:55:00.869Z"
   },
   {
    "duration": 6,
    "start_time": "2022-11-03T07:55:00.982Z"
   },
   {
    "duration": 5,
    "start_time": "2022-11-03T07:55:01.277Z"
   },
   {
    "duration": 5,
    "start_time": "2022-11-03T07:55:01.383Z"
   },
   {
    "duration": 5,
    "start_time": "2022-11-03T07:55:01.649Z"
   },
   {
    "duration": 5,
    "start_time": "2022-11-03T07:55:01.756Z"
   },
   {
    "duration": 87,
    "start_time": "2022-11-03T07:55:13.921Z"
   },
   {
    "duration": 6,
    "start_time": "2022-11-03T07:55:17.715Z"
   },
   {
    "duration": 5,
    "start_time": "2022-11-03T07:55:18.855Z"
   },
   {
    "duration": 1564,
    "start_time": "2022-11-03T08:09:25.416Z"
   },
   {
    "duration": 30,
    "start_time": "2022-11-03T08:09:26.982Z"
   },
   {
    "duration": 10,
    "start_time": "2022-11-03T08:09:27.016Z"
   },
   {
    "duration": 18,
    "start_time": "2022-11-03T08:09:27.028Z"
   },
   {
    "duration": 22,
    "start_time": "2022-11-03T08:09:27.047Z"
   },
   {
    "duration": 6,
    "start_time": "2022-11-03T08:09:27.070Z"
   },
   {
    "duration": 8,
    "start_time": "2022-11-03T08:09:27.078Z"
   },
   {
    "duration": 7,
    "start_time": "2022-11-03T08:09:27.088Z"
   },
   {
    "duration": 30,
    "start_time": "2022-11-03T08:09:27.097Z"
   },
   {
    "duration": 8,
    "start_time": "2022-11-03T08:09:27.128Z"
   },
   {
    "duration": 6,
    "start_time": "2022-11-03T08:09:27.137Z"
   },
   {
    "duration": 5,
    "start_time": "2022-11-03T08:09:27.144Z"
   },
   {
    "duration": 4,
    "start_time": "2022-11-03T08:09:27.151Z"
   },
   {
    "duration": 76,
    "start_time": "2022-11-03T08:09:27.157Z"
   },
   {
    "duration": 4289,
    "start_time": "2022-11-03T08:09:27.234Z"
   },
   {
    "duration": 34,
    "start_time": "2022-11-03T08:09:31.525Z"
   },
   {
    "duration": 28,
    "start_time": "2022-11-03T08:09:31.560Z"
   },
   {
    "duration": 6,
    "start_time": "2022-11-03T08:09:31.589Z"
   },
   {
    "duration": 91,
    "start_time": "2022-11-10T07:10:24.885Z"
   },
   {
    "duration": 44,
    "start_time": "2022-11-10T10:26:40.307Z"
   },
   {
    "duration": 1063,
    "start_time": "2022-11-10T10:26:49.834Z"
   },
   {
    "duration": 69,
    "start_time": "2022-11-10T10:26:50.898Z"
   },
   {
    "duration": 11,
    "start_time": "2022-11-10T10:26:50.968Z"
   },
   {
    "duration": 15,
    "start_time": "2022-11-10T10:26:50.982Z"
   },
   {
    "duration": 26,
    "start_time": "2022-11-10T10:26:50.999Z"
   },
   {
    "duration": 7,
    "start_time": "2022-11-10T10:26:51.027Z"
   },
   {
    "duration": 7,
    "start_time": "2022-11-10T10:26:51.035Z"
   },
   {
    "duration": 12,
    "start_time": "2022-11-10T10:26:51.043Z"
   },
   {
    "duration": 11,
    "start_time": "2022-11-10T10:26:51.056Z"
   },
   {
    "duration": 14,
    "start_time": "2022-11-10T10:26:51.069Z"
   },
   {
    "duration": 6,
    "start_time": "2022-11-10T10:26:51.084Z"
   },
   {
    "duration": 11,
    "start_time": "2022-11-10T10:26:51.092Z"
   },
   {
    "duration": 5,
    "start_time": "2022-11-10T10:26:51.105Z"
   },
   {
    "duration": 67,
    "start_time": "2022-11-10T10:26:51.112Z"
   },
   {
    "duration": 4260,
    "start_time": "2022-11-10T10:26:51.181Z"
   },
   {
    "duration": 36,
    "start_time": "2022-11-10T10:26:55.443Z"
   },
   {
    "duration": 125,
    "start_time": "2022-11-10T10:26:55.480Z"
   },
   {
    "duration": 0,
    "start_time": "2022-11-10T10:26:55.607Z"
   },
   {
    "duration": 3,
    "start_time": "2022-11-10T10:27:23.429Z"
   },
   {
    "duration": 31,
    "start_time": "2022-11-10T10:27:29.993Z"
   },
   {
    "duration": 3,
    "start_time": "2022-11-10T10:28:35.963Z"
   },
   {
    "duration": 3,
    "start_time": "2022-11-10T10:28:37.997Z"
   },
   {
    "duration": 33,
    "start_time": "2022-11-10T10:28:54.501Z"
   },
   {
    "duration": 4349,
    "start_time": "2022-11-10T10:41:09.766Z"
   },
   {
    "duration": 61,
    "start_time": "2022-11-10T10:41:21.330Z"
   },
   {
    "duration": 33,
    "start_time": "2022-11-10T10:41:57.239Z"
   },
   {
    "duration": 59,
    "start_time": "2022-11-10T10:57:56.444Z"
   },
   {
    "duration": 62,
    "start_time": "2022-11-10T10:58:05.084Z"
   },
   {
    "duration": 70,
    "start_time": "2022-11-10T10:58:40.192Z"
   },
   {
    "duration": 346,
    "start_time": "2022-11-10T10:59:16.031Z"
   },
   {
    "duration": 166,
    "start_time": "2022-11-10T10:59:46.428Z"
   },
   {
    "duration": 158,
    "start_time": "2022-11-10T10:59:58.754Z"
   },
   {
    "duration": 152,
    "start_time": "2022-11-10T11:00:31.677Z"
   },
   {
    "duration": 210,
    "start_time": "2022-11-10T11:00:43.171Z"
   },
   {
    "duration": 164,
    "start_time": "2022-11-10T11:01:21.897Z"
   },
   {
    "duration": 180,
    "start_time": "2022-11-10T11:02:17.915Z"
   },
   {
    "duration": 243,
    "start_time": "2022-11-10T11:03:10.728Z"
   },
   {
    "duration": 162,
    "start_time": "2022-11-10T11:03:58.416Z"
   },
   {
    "duration": 33,
    "start_time": "2022-11-10T11:06:39.802Z"
   },
   {
    "duration": 2418,
    "start_time": "2022-11-10T11:07:28.423Z"
   },
   {
    "duration": 172,
    "start_time": "2022-11-10T11:08:11.863Z"
   },
   {
    "duration": 2280,
    "start_time": "2022-11-10T11:08:54.918Z"
   },
   {
    "duration": 410,
    "start_time": "2022-11-10T11:09:27.934Z"
   },
   {
    "duration": 284,
    "start_time": "2022-11-10T11:09:52.405Z"
   },
   {
    "duration": 100,
    "start_time": "2022-11-16T11:26:58.688Z"
   }
  ],
  "hide_input": false,
  "kernelspec": {
   "display_name": "Python 3 (ipykernel)",
   "language": "python",
   "name": "python3"
  },
  "language_info": {
   "codemirror_mode": {
    "name": "ipython",
    "version": 3
   },
   "file_extension": ".py",
   "mimetype": "text/x-python",
   "name": "python",
   "nbconvert_exporter": "python",
   "pygments_lexer": "ipython3",
   "version": "3.9.12"
  },
  "toc": {
   "base_numbering": 1,
   "nav_menu": {},
   "number_sections": true,
   "sideBar": true,
   "skip_h1_title": true,
   "title_cell": "Table of Contents",
   "title_sidebar": "Contents",
   "toc_cell": false,
   "toc_position": {},
   "toc_section_display": true,
   "toc_window_display": true
  }
 },
 "nbformat": 4,
 "nbformat_minor": 2
}
