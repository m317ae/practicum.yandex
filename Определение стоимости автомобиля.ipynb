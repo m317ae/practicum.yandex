{
 "cells": [
  {
   "cell_type": "markdown",
   "id": "b1ef2fb5",
   "metadata": {},
   "source": [
    "## Задача"
   ]
  },
  {
   "cell_type": "markdown",
   "id": "c9074f29",
   "metadata": {},
   "source": [
    "***Описание проекта:***\n",
    "Сервис по продаже автомобилей с пробегом «Не бит, не крашен» разрабатывает приложение для привлечения новых клиентов. В нём можно быстро узнать рыночную стоимость своего автомобиля. В вашем распоряжении исторические данные: технические характеристики, комплектации и цены автомобилей. Вам нужно построить модель для определения стоимости. "
   ]
  },
  {
   "cell_type": "markdown",
   "id": "fe5e37bc",
   "metadata": {},
   "source": [
    "## Предподготовка данных"
   ]
  },
  {
   "cell_type": "code",
   "execution_count": 1,
   "id": "97d6aa0e",
   "metadata": {},
   "outputs": [
    {
     "name": "stdout",
     "output_type": "stream",
     "text": [
      "Requirement already satisfied: lightgbm in c:\\anaconda\\lib\\site-packages (3.3.5)\n",
      "Requirement already satisfied: numpy in c:\\anaconda\\lib\\site-packages (from lightgbm) (1.21.5)\n",
      "Requirement already satisfied: scipy in c:\\anaconda\\lib\\site-packages (from lightgbm) (1.7.3)\n",
      "Requirement already satisfied: wheel in c:\\anaconda\\lib\\site-packages (from lightgbm) (0.37.1)\n",
      "Requirement already satisfied: scikit-learn!=0.22.0 in c:\\anaconda\\lib\\site-packages (from lightgbm) (1.0.2)\n",
      "Requirement already satisfied: joblib>=0.11 in c:\\anaconda\\lib\\site-packages (from scikit-learn!=0.22.0->lightgbm) (1.1.0)\n",
      "Requirement already satisfied: threadpoolctl>=2.0.0 in c:\\anaconda\\lib\\site-packages (from scikit-learn!=0.22.0->lightgbm) (2.2.0)\n"
     ]
    }
   ],
   "source": [
    "!pip install lightgbm"
   ]
  },
  {
   "cell_type": "code",
   "execution_count": 2,
   "id": "fe0de35d",
   "metadata": {},
   "outputs": [],
   "source": [
    "import pandas as pd\n",
    "import seaborn as sns\n",
    "import numpy as np\n",
    "from sklearn.model_selection import train_test_split\n",
    "from sklearn.linear_model import LinearRegression\n",
    "from sklearn.metrics import mean_squared_error\n",
    "from lightgbm import LGBMRegressor\n",
    "from sklearn.model_selection import GridSearchCV\n",
    "from scipy.stats import randint\n",
    "from sklearn.model_selection import RandomizedSearchCV\n",
    "import matplotlib.pyplot as plt\n",
    "from sklearn.model_selection import cross_val_score"
   ]
  },
  {
   "cell_type": "code",
   "execution_count": 4,
   "id": "d8bad352",
   "metadata": {},
   "outputs": [
    {
     "data": {
      "text/html": [
       "<div>\n",
       "<style scoped>\n",
       "    .dataframe tbody tr th:only-of-type {\n",
       "        vertical-align: middle;\n",
       "    }\n",
       "\n",
       "    .dataframe tbody tr th {\n",
       "        vertical-align: top;\n",
       "    }\n",
       "\n",
       "    .dataframe thead th {\n",
       "        text-align: right;\n",
       "    }\n",
       "</style>\n",
       "<table border=\"1\" class=\"dataframe\">\n",
       "  <thead>\n",
       "    <tr style=\"text-align: right;\">\n",
       "      <th></th>\n",
       "      <th>DateCrawled</th>\n",
       "      <th>Price</th>\n",
       "      <th>VehicleType</th>\n",
       "      <th>RegistrationYear</th>\n",
       "      <th>Gearbox</th>\n",
       "      <th>Power</th>\n",
       "      <th>Model</th>\n",
       "      <th>Kilometer</th>\n",
       "      <th>RegistrationMonth</th>\n",
       "      <th>FuelType</th>\n",
       "      <th>Brand</th>\n",
       "      <th>Repaired</th>\n",
       "      <th>DateCreated</th>\n",
       "      <th>NumberOfPictures</th>\n",
       "      <th>PostalCode</th>\n",
       "      <th>LastSeen</th>\n",
       "    </tr>\n",
       "  </thead>\n",
       "  <tbody>\n",
       "    <tr>\n",
       "      <th>0</th>\n",
       "      <td>2016-03-24 11:52:17</td>\n",
       "      <td>480</td>\n",
       "      <td>NaN</td>\n",
       "      <td>1993</td>\n",
       "      <td>manual</td>\n",
       "      <td>0</td>\n",
       "      <td>golf</td>\n",
       "      <td>150000</td>\n",
       "      <td>0</td>\n",
       "      <td>petrol</td>\n",
       "      <td>volkswagen</td>\n",
       "      <td>NaN</td>\n",
       "      <td>2016-03-24 00:00:00</td>\n",
       "      <td>0</td>\n",
       "      <td>70435</td>\n",
       "      <td>2016-04-07 03:16:57</td>\n",
       "    </tr>\n",
       "    <tr>\n",
       "      <th>1</th>\n",
       "      <td>2016-03-24 10:58:45</td>\n",
       "      <td>18300</td>\n",
       "      <td>coupe</td>\n",
       "      <td>2011</td>\n",
       "      <td>manual</td>\n",
       "      <td>190</td>\n",
       "      <td>NaN</td>\n",
       "      <td>125000</td>\n",
       "      <td>5</td>\n",
       "      <td>gasoline</td>\n",
       "      <td>audi</td>\n",
       "      <td>yes</td>\n",
       "      <td>2016-03-24 00:00:00</td>\n",
       "      <td>0</td>\n",
       "      <td>66954</td>\n",
       "      <td>2016-04-07 01:46:50</td>\n",
       "    </tr>\n",
       "    <tr>\n",
       "      <th>2</th>\n",
       "      <td>2016-03-14 12:52:21</td>\n",
       "      <td>9800</td>\n",
       "      <td>suv</td>\n",
       "      <td>2004</td>\n",
       "      <td>auto</td>\n",
       "      <td>163</td>\n",
       "      <td>grand</td>\n",
       "      <td>125000</td>\n",
       "      <td>8</td>\n",
       "      <td>gasoline</td>\n",
       "      <td>jeep</td>\n",
       "      <td>NaN</td>\n",
       "      <td>2016-03-14 00:00:00</td>\n",
       "      <td>0</td>\n",
       "      <td>90480</td>\n",
       "      <td>2016-04-05 12:47:46</td>\n",
       "    </tr>\n",
       "    <tr>\n",
       "      <th>3</th>\n",
       "      <td>2016-03-17 16:54:04</td>\n",
       "      <td>1500</td>\n",
       "      <td>small</td>\n",
       "      <td>2001</td>\n",
       "      <td>manual</td>\n",
       "      <td>75</td>\n",
       "      <td>golf</td>\n",
       "      <td>150000</td>\n",
       "      <td>6</td>\n",
       "      <td>petrol</td>\n",
       "      <td>volkswagen</td>\n",
       "      <td>no</td>\n",
       "      <td>2016-03-17 00:00:00</td>\n",
       "      <td>0</td>\n",
       "      <td>91074</td>\n",
       "      <td>2016-03-17 17:40:17</td>\n",
       "    </tr>\n",
       "    <tr>\n",
       "      <th>4</th>\n",
       "      <td>2016-03-31 17:25:20</td>\n",
       "      <td>3600</td>\n",
       "      <td>small</td>\n",
       "      <td>2008</td>\n",
       "      <td>manual</td>\n",
       "      <td>69</td>\n",
       "      <td>fabia</td>\n",
       "      <td>90000</td>\n",
       "      <td>7</td>\n",
       "      <td>gasoline</td>\n",
       "      <td>skoda</td>\n",
       "      <td>no</td>\n",
       "      <td>2016-03-31 00:00:00</td>\n",
       "      <td>0</td>\n",
       "      <td>60437</td>\n",
       "      <td>2016-04-06 10:17:21</td>\n",
       "    </tr>\n",
       "  </tbody>\n",
       "</table>\n",
       "</div>"
      ],
      "text/plain": [
       "           DateCrawled  Price VehicleType  RegistrationYear Gearbox  Power  \\\n",
       "0  2016-03-24 11:52:17    480         NaN              1993  manual      0   \n",
       "1  2016-03-24 10:58:45  18300       coupe              2011  manual    190   \n",
       "2  2016-03-14 12:52:21   9800         suv              2004    auto    163   \n",
       "3  2016-03-17 16:54:04   1500       small              2001  manual     75   \n",
       "4  2016-03-31 17:25:20   3600       small              2008  manual     69   \n",
       "\n",
       "   Model  Kilometer  RegistrationMonth  FuelType       Brand Repaired  \\\n",
       "0   golf     150000                  0    petrol  volkswagen      NaN   \n",
       "1    NaN     125000                  5  gasoline        audi      yes   \n",
       "2  grand     125000                  8  gasoline        jeep      NaN   \n",
       "3   golf     150000                  6    petrol  volkswagen       no   \n",
       "4  fabia      90000                  7  gasoline       skoda       no   \n",
       "\n",
       "           DateCreated  NumberOfPictures  PostalCode             LastSeen  \n",
       "0  2016-03-24 00:00:00                 0       70435  2016-04-07 03:16:57  \n",
       "1  2016-03-24 00:00:00                 0       66954  2016-04-07 01:46:50  \n",
       "2  2016-03-14 00:00:00                 0       90480  2016-04-05 12:47:46  \n",
       "3  2016-03-17 00:00:00                 0       91074  2016-03-17 17:40:17  \n",
       "4  2016-03-31 00:00:00                 0       60437  2016-04-06 10:17:21  "
      ]
     },
     "execution_count": 4,
     "metadata": {},
     "output_type": "execute_result"
    }
   ],
   "source": [
    "df = pd.read_csv(\"C://Users/Владислав/Desktop/Новая папка/Data sceince/Проект численные методы/autos.csv\")\n",
    "df.head()"
   ]
  },
  {
   "cell_type": "code",
   "execution_count": 5,
   "id": "ca743cc7",
   "metadata": {},
   "outputs": [
    {
     "name": "stdout",
     "output_type": "stream",
     "text": [
      "<class 'pandas.core.frame.DataFrame'>\n",
      "RangeIndex: 354369 entries, 0 to 354368\n",
      "Data columns (total 16 columns):\n",
      " #   Column             Non-Null Count   Dtype \n",
      "---  ------             --------------   ----- \n",
      " 0   DateCrawled        354369 non-null  object\n",
      " 1   Price              354369 non-null  int64 \n",
      " 2   VehicleType        316879 non-null  object\n",
      " 3   RegistrationYear   354369 non-null  int64 \n",
      " 4   Gearbox            334536 non-null  object\n",
      " 5   Power              354369 non-null  int64 \n",
      " 6   Model              334664 non-null  object\n",
      " 7   Kilometer          354369 non-null  int64 \n",
      " 8   RegistrationMonth  354369 non-null  int64 \n",
      " 9   FuelType           321474 non-null  object\n",
      " 10  Brand              354369 non-null  object\n",
      " 11  Repaired           283215 non-null  object\n",
      " 12  DateCreated        354369 non-null  object\n",
      " 13  NumberOfPictures   354369 non-null  int64 \n",
      " 14  PostalCode         354369 non-null  int64 \n",
      " 15  LastSeen           354369 non-null  object\n",
      "dtypes: int64(7), object(9)\n",
      "memory usage: 43.3+ MB\n"
     ]
    }
   ],
   "source": [
    "df.info()"
   ]
  },
  {
   "cell_type": "code",
   "execution_count": 6,
   "id": "618a8aec",
   "metadata": {},
   "outputs": [
    {
     "data": {
      "text/plain": [
       "Repaired             0.200791\n",
       "VehicleType          0.105794\n",
       "FuelType             0.092827\n",
       "Gearbox              0.055967\n",
       "Model                0.055606\n",
       "DateCrawled          0.000000\n",
       "Price                0.000000\n",
       "RegistrationYear     0.000000\n",
       "Power                0.000000\n",
       "Kilometer            0.000000\n",
       "RegistrationMonth    0.000000\n",
       "Brand                0.000000\n",
       "DateCreated          0.000000\n",
       "NumberOfPictures     0.000000\n",
       "PostalCode           0.000000\n",
       "LastSeen             0.000000\n",
       "dtype: float64"
      ]
     },
     "execution_count": 6,
     "metadata": {},
     "output_type": "execute_result"
    }
   ],
   "source": [
    "((df.isna().sum())/df.shape[0]).sort_values(ascending=False)"
   ]
  },
  {
   "cell_type": "markdown",
   "id": "3a5cd2ea",
   "metadata": {},
   "source": [
    "Наибольшее количество пропусков (2%) в информации о наличии дтп у автомобилей. 1% пропусков в информации о типе кузова и типе двигателя. Учитывая объем данных такое количество пропусков не критично для обучения"
   ]
  },
  {
   "cell_type": "markdown",
   "id": "10ead6ce",
   "metadata": {},
   "source": [
    "Посмотрим на распределение данных"
   ]
  },
  {
   "cell_type": "code",
   "execution_count": 7,
   "id": "06c58c9d",
   "metadata": {},
   "outputs": [
    {
     "data": {
      "text/html": [
       "<div>\n",
       "<style scoped>\n",
       "    .dataframe tbody tr th:only-of-type {\n",
       "        vertical-align: middle;\n",
       "    }\n",
       "\n",
       "    .dataframe tbody tr th {\n",
       "        vertical-align: top;\n",
       "    }\n",
       "\n",
       "    .dataframe thead th {\n",
       "        text-align: right;\n",
       "    }\n",
       "</style>\n",
       "<table border=\"1\" class=\"dataframe\">\n",
       "  <thead>\n",
       "    <tr style=\"text-align: right;\">\n",
       "      <th></th>\n",
       "      <th>Price</th>\n",
       "      <th>RegistrationYear</th>\n",
       "      <th>Power</th>\n",
       "      <th>Kilometer</th>\n",
       "      <th>RegistrationMonth</th>\n",
       "      <th>NumberOfPictures</th>\n",
       "      <th>PostalCode</th>\n",
       "    </tr>\n",
       "  </thead>\n",
       "  <tbody>\n",
       "    <tr>\n",
       "      <th>count</th>\n",
       "      <td>354369.000000</td>\n",
       "      <td>354369.000000</td>\n",
       "      <td>354369.000000</td>\n",
       "      <td>354369.000000</td>\n",
       "      <td>354369.000000</td>\n",
       "      <td>354369.0</td>\n",
       "      <td>354369.000000</td>\n",
       "    </tr>\n",
       "    <tr>\n",
       "      <th>mean</th>\n",
       "      <td>4416.656776</td>\n",
       "      <td>2004.234448</td>\n",
       "      <td>110.094337</td>\n",
       "      <td>128211.172535</td>\n",
       "      <td>5.714645</td>\n",
       "      <td>0.0</td>\n",
       "      <td>50508.689087</td>\n",
       "    </tr>\n",
       "    <tr>\n",
       "      <th>std</th>\n",
       "      <td>4514.158514</td>\n",
       "      <td>90.227958</td>\n",
       "      <td>189.850405</td>\n",
       "      <td>37905.341530</td>\n",
       "      <td>3.726421</td>\n",
       "      <td>0.0</td>\n",
       "      <td>25783.096248</td>\n",
       "    </tr>\n",
       "    <tr>\n",
       "      <th>min</th>\n",
       "      <td>0.000000</td>\n",
       "      <td>1000.000000</td>\n",
       "      <td>0.000000</td>\n",
       "      <td>5000.000000</td>\n",
       "      <td>0.000000</td>\n",
       "      <td>0.0</td>\n",
       "      <td>1067.000000</td>\n",
       "    </tr>\n",
       "    <tr>\n",
       "      <th>25%</th>\n",
       "      <td>1050.000000</td>\n",
       "      <td>1999.000000</td>\n",
       "      <td>69.000000</td>\n",
       "      <td>125000.000000</td>\n",
       "      <td>3.000000</td>\n",
       "      <td>0.0</td>\n",
       "      <td>30165.000000</td>\n",
       "    </tr>\n",
       "    <tr>\n",
       "      <th>50%</th>\n",
       "      <td>2700.000000</td>\n",
       "      <td>2003.000000</td>\n",
       "      <td>105.000000</td>\n",
       "      <td>150000.000000</td>\n",
       "      <td>6.000000</td>\n",
       "      <td>0.0</td>\n",
       "      <td>49413.000000</td>\n",
       "    </tr>\n",
       "    <tr>\n",
       "      <th>75%</th>\n",
       "      <td>6400.000000</td>\n",
       "      <td>2008.000000</td>\n",
       "      <td>143.000000</td>\n",
       "      <td>150000.000000</td>\n",
       "      <td>9.000000</td>\n",
       "      <td>0.0</td>\n",
       "      <td>71083.000000</td>\n",
       "    </tr>\n",
       "    <tr>\n",
       "      <th>max</th>\n",
       "      <td>20000.000000</td>\n",
       "      <td>9999.000000</td>\n",
       "      <td>20000.000000</td>\n",
       "      <td>150000.000000</td>\n",
       "      <td>12.000000</td>\n",
       "      <td>0.0</td>\n",
       "      <td>99998.000000</td>\n",
       "    </tr>\n",
       "  </tbody>\n",
       "</table>\n",
       "</div>"
      ],
      "text/plain": [
       "               Price  RegistrationYear          Power      Kilometer  \\\n",
       "count  354369.000000     354369.000000  354369.000000  354369.000000   \n",
       "mean     4416.656776       2004.234448     110.094337  128211.172535   \n",
       "std      4514.158514         90.227958     189.850405   37905.341530   \n",
       "min         0.000000       1000.000000       0.000000    5000.000000   \n",
       "25%      1050.000000       1999.000000      69.000000  125000.000000   \n",
       "50%      2700.000000       2003.000000     105.000000  150000.000000   \n",
       "75%      6400.000000       2008.000000     143.000000  150000.000000   \n",
       "max     20000.000000       9999.000000   20000.000000  150000.000000   \n",
       "\n",
       "       RegistrationMonth  NumberOfPictures     PostalCode  \n",
       "count      354369.000000          354369.0  354369.000000  \n",
       "mean            5.714645               0.0   50508.689087  \n",
       "std             3.726421               0.0   25783.096248  \n",
       "min             0.000000               0.0    1067.000000  \n",
       "25%             3.000000               0.0   30165.000000  \n",
       "50%             6.000000               0.0   49413.000000  \n",
       "75%             9.000000               0.0   71083.000000  \n",
       "max            12.000000               0.0   99998.000000  "
      ]
     },
     "execution_count": 7,
     "metadata": {},
     "output_type": "execute_result"
    }
   ],
   "source": [
    "df.describe()"
   ]
  },
  {
   "cell_type": "markdown",
   "id": "c9e81253",
   "metadata": {},
   "source": [
    "Есть некоторые аномалии в виде выбросов цены, мощности и некорректных дат выпуска авто. Рассмотрим подробнее и исправим"
   ]
  },
  {
   "cell_type": "code",
   "execution_count": 8,
   "id": "8f7e48b9",
   "metadata": {},
   "outputs": [
    {
     "name": "stderr",
     "output_type": "stream",
     "text": [
      "C:\\anaconda\\lib\\site-packages\\seaborn\\_decorators.py:36: FutureWarning: Pass the following variable as a keyword arg: x. From version 0.12, the only valid positional argument will be `data`, and passing other arguments without an explicit keyword will result in an error or misinterpretation.\n",
      "  warnings.warn(\n"
     ]
    },
    {
     "data": {
      "text/plain": [
       "Text(0.5, 1.0, 'Распределение значений стоимости автомобиля')"
      ]
     },
     "execution_count": 8,
     "metadata": {},
     "output_type": "execute_result"
    },
    {
     "data": {
      "image/png": "[encoded data removed]",
      "text/plain": [
       "<Figure size 432x288 with 1 Axes>"
      ]
     },
     "metadata": {
      "needs_background": "light"
     },
     "output_type": "display_data"
    }
   ],
   "source": [
    "sns.boxplot(df['Price']) \n",
    "plt.title('Распределение значений стоимости автомобиля', fontsize=15)"
   ]
  },
  {
   "cell_type": "markdown",
   "id": "f116714a",
   "metadata": {},
   "source": [
    "Сделаем срез, отбросив выбросы по цене"
   ]
  },
  {
   "cell_type": "code",
   "execution_count": 9,
   "id": "cf8bfa77",
   "metadata": {},
   "outputs": [
    {
     "data": {
      "text/plain": [
       "pandas.core.frame.DataFrame"
      ]
     },
     "execution_count": 9,
     "metadata": {},
     "output_type": "execute_result"
    }
   ],
   "source": [
    "df = df[(df[\"Price\"]>=100)] \n",
    "type(df)"
   ]
  },
  {
   "cell_type": "code",
   "execution_count": 10,
   "id": "5328bd8e",
   "metadata": {},
   "outputs": [
    {
     "data": {
      "text/plain": [
       "pandas.core.frame.DataFrame"
      ]
     },
     "execution_count": 10,
     "metadata": {},
     "output_type": "execute_result"
    }
   ],
   "source": [
    "np.sort(df[\"RegistrationYear\"].unique())\n",
    "type(df)"
   ]
  },
  {
   "cell_type": "markdown",
   "id": "6aee8738",
   "metadata": {},
   "source": [
    "Отбросим все записи об авто, выпущенных до 1910 и после 2016 годов, т.к. это явные ошибки"
   ]
  },
  {
   "cell_type": "code",
   "execution_count": 11,
   "id": "43b9fd76",
   "metadata": {},
   "outputs": [
    {
     "data": {
      "text/plain": [
       "pandas.core.frame.DataFrame"
      ]
     },
     "execution_count": 11,
     "metadata": {},
     "output_type": "execute_result"
    }
   ],
   "source": [
    "df = df[(df[\"RegistrationYear\"]>=1910)&(df[\"RegistrationYear\"]<=2016)]\n",
    "type(df)"
   ]
  },
  {
   "cell_type": "markdown",
   "id": "cef43645",
   "metadata": {},
   "source": [
    "Посмотрим выбровы по мощности"
   ]
  },
  {
   "cell_type": "code",
   "execution_count": 12,
   "id": "6032e350",
   "metadata": {},
   "outputs": [
    {
     "name": "stderr",
     "output_type": "stream",
     "text": [
      "C:\\anaconda\\lib\\site-packages\\seaborn\\_decorators.py:36: FutureWarning: Pass the following variable as a keyword arg: x. From version 0.12, the only valid positional argument will be `data`, and passing other arguments without an explicit keyword will result in an error or misinterpretation.\n",
      "  warnings.warn(\n"
     ]
    },
    {
     "data": {
      "text/plain": [
       "Text(0.5, 1.0, 'Распределение значений мощности автомобиля')"
      ]
     },
     "execution_count": 12,
     "metadata": {},
     "output_type": "execute_result"
    },
    {
     "data": {
      "image/png": "[encoded data removed]",
      "text/plain": [
       "<Figure size 432x288 with 1 Axes>"
      ]
     },
     "metadata": {
      "needs_background": "light"
     },
     "output_type": "display_data"
    }
   ],
   "source": [
    "sns.boxplot(df['Power']) \n",
    "#type(df)\n",
    "plt.title('Распределение значений мощности автомобиля', fontsize=15)"
   ]
  },
  {
   "cell_type": "markdown",
   "id": "3681321f",
   "metadata": {},
   "source": [
    "Все, что выше 500 (лс или кВт) явно лишнее\n",
    "\n"
   ]
  },
  {
   "cell_type": "code",
   "execution_count": 13,
   "id": "c6271f39",
   "metadata": {},
   "outputs": [
    {
     "data": {
      "text/plain": [
       "pandas.core.frame.DataFrame"
      ]
     },
     "execution_count": 13,
     "metadata": {},
     "output_type": "execute_result"
    }
   ],
   "source": [
    "df = df[(df[\"Power\"]<500)]\n",
    "type(df)"
   ]
  },
  {
   "cell_type": "markdown",
   "id": "f294158b",
   "metadata": {},
   "source": [
    "Нулевые значения в столбце мощности заменим медианными знаениями"
   ]
  },
  {
   "cell_type": "code",
   "execution_count": 14,
   "id": "c33476b4",
   "metadata": {},
   "outputs": [
    {
     "name": "stdout",
     "output_type": "stream",
     "text": [
      "105.0\n",
      "<class 'pandas.core.frame.DataFrame'>\n"
     ]
    }
   ],
   "source": [
    "median_power = df['Power'].median()\n",
    "print(median_power)\n",
    "print(type(df))"
   ]
  },
  {
   "cell_type": "code",
   "execution_count": 15,
   "id": "120619e4",
   "metadata": {},
   "outputs": [],
   "source": [
    "df.loc[df['Power'] == 0, 'Power'] = median_power"
   ]
  },
  {
   "cell_type": "markdown",
   "id": "344cb587",
   "metadata": {},
   "source": [
    "Удалим столбцы, которые не будут участвовать в обучении"
   ]
  },
  {
   "cell_type": "code",
   "execution_count": 16,
   "id": "536d3a6c",
   "metadata": {},
   "outputs": [],
   "source": [
    "df = df.drop(['DateCrawled','DateCreated','LastSeen','NumberOfPictures', 'PostalCode', 'RegistrationMonth'], axis=1)"
   ]
  },
  {
   "cell_type": "code",
   "execution_count": 17,
   "id": "21710a60",
   "metadata": {},
   "outputs": [
    {
     "data": {
      "text/plain": [
       "Price                   0\n",
       "VehicleType         18867\n",
       "RegistrationYear        0\n",
       "Gearbox             14580\n",
       "Power                   0\n",
       "Model               15124\n",
       "Kilometer               0\n",
       "FuelType            23041\n",
       "Brand                   0\n",
       "Repaired            58294\n",
       "dtype: int64"
      ]
     },
     "execution_count": 17,
     "metadata": {},
     "output_type": "execute_result"
    }
   ],
   "source": [
    "df.isna().sum()"
   ]
  },
  {
   "cell_type": "markdown",
   "id": "083f25fe",
   "metadata": {},
   "source": [
    "Заменим пропещенные категориальные данные наиболее часто встречающимися в каждой категории:"
   ]
  },
  {
   "cell_type": "code",
   "execution_count": 19,
   "id": "673c934e",
   "metadata": {},
   "outputs": [],
   "source": [
    "col_for_rep = ['VehicleType', 'Gearbox', 'Model', 'FuelType','Repaired']\n",
    "for i in col_for_rep:\n",
    "    df[i] = df[i].fillna(df[i].mode()[0]) #[0] нужно потому, что df.mode() возвращает значение и индекс, те Series, а данная запись даст строку\n"
   ]
  },
  {
   "cell_type": "code",
   "execution_count": 20,
   "id": "799dbfe8",
   "metadata": {},
   "outputs": [
    {
     "data": {
      "text/plain": [
       "Price               0\n",
       "VehicleType         0\n",
       "RegistrationYear    0\n",
       "Gearbox             0\n",
       "Power               0\n",
       "Model               0\n",
       "Kilometer           0\n",
       "FuelType            0\n",
       "Brand               0\n",
       "Repaired            0\n",
       "dtype: int64"
      ]
     },
     "execution_count": 20,
     "metadata": {},
     "output_type": "execute_result"
    }
   ],
   "source": [
    "df.isna().sum()"
   ]
  },
  {
   "cell_type": "code",
   "execution_count": 21,
   "id": "80b1c704",
   "metadata": {},
   "outputs": [
    {
     "data": {
      "text/html": [
       "<div>\n",
       "<style scoped>\n",
       "    .dataframe tbody tr th:only-of-type {\n",
       "        vertical-align: middle;\n",
       "    }\n",
       "\n",
       "    .dataframe tbody tr th {\n",
       "        vertical-align: top;\n",
       "    }\n",
       "\n",
       "    .dataframe thead th {\n",
       "        text-align: right;\n",
       "    }\n",
       "</style>\n",
       "<table border=\"1\" class=\"dataframe\">\n",
       "  <thead>\n",
       "    <tr style=\"text-align: right;\">\n",
       "      <th></th>\n",
       "      <th>Price</th>\n",
       "      <th>VehicleType</th>\n",
       "      <th>RegistrationYear</th>\n",
       "      <th>Gearbox</th>\n",
       "      <th>Power</th>\n",
       "      <th>Model</th>\n",
       "      <th>Kilometer</th>\n",
       "      <th>FuelType</th>\n",
       "      <th>Brand</th>\n",
       "      <th>Repaired</th>\n",
       "    </tr>\n",
       "  </thead>\n",
       "  <tbody>\n",
       "    <tr>\n",
       "      <th>0</th>\n",
       "      <td>480</td>\n",
       "      <td>sedan</td>\n",
       "      <td>1993</td>\n",
       "      <td>manual</td>\n",
       "      <td>105</td>\n",
       "      <td>golf</td>\n",
       "      <td>150000</td>\n",
       "      <td>petrol</td>\n",
       "      <td>volkswagen</td>\n",
       "      <td>no</td>\n",
       "    </tr>\n",
       "    <tr>\n",
       "      <th>1</th>\n",
       "      <td>18300</td>\n",
       "      <td>coupe</td>\n",
       "      <td>2011</td>\n",
       "      <td>manual</td>\n",
       "      <td>190</td>\n",
       "      <td>golf</td>\n",
       "      <td>125000</td>\n",
       "      <td>gasoline</td>\n",
       "      <td>audi</td>\n",
       "      <td>yes</td>\n",
       "    </tr>\n",
       "    <tr>\n",
       "      <th>2</th>\n",
       "      <td>9800</td>\n",
       "      <td>suv</td>\n",
       "      <td>2004</td>\n",
       "      <td>auto</td>\n",
       "      <td>163</td>\n",
       "      <td>grand</td>\n",
       "      <td>125000</td>\n",
       "      <td>gasoline</td>\n",
       "      <td>jeep</td>\n",
       "      <td>no</td>\n",
       "    </tr>\n",
       "    <tr>\n",
       "      <th>3</th>\n",
       "      <td>1500</td>\n",
       "      <td>small</td>\n",
       "      <td>2001</td>\n",
       "      <td>manual</td>\n",
       "      <td>75</td>\n",
       "      <td>golf</td>\n",
       "      <td>150000</td>\n",
       "      <td>petrol</td>\n",
       "      <td>volkswagen</td>\n",
       "      <td>no</td>\n",
       "    </tr>\n",
       "    <tr>\n",
       "      <th>4</th>\n",
       "      <td>3600</td>\n",
       "      <td>small</td>\n",
       "      <td>2008</td>\n",
       "      <td>manual</td>\n",
       "      <td>69</td>\n",
       "      <td>fabia</td>\n",
       "      <td>90000</td>\n",
       "      <td>gasoline</td>\n",
       "      <td>skoda</td>\n",
       "      <td>no</td>\n",
       "    </tr>\n",
       "    <tr>\n",
       "      <th>...</th>\n",
       "      <td>...</td>\n",
       "      <td>...</td>\n",
       "      <td>...</td>\n",
       "      <td>...</td>\n",
       "      <td>...</td>\n",
       "      <td>...</td>\n",
       "      <td>...</td>\n",
       "      <td>...</td>\n",
       "      <td>...</td>\n",
       "      <td>...</td>\n",
       "    </tr>\n",
       "    <tr>\n",
       "      <th>354363</th>\n",
       "      <td>1150</td>\n",
       "      <td>bus</td>\n",
       "      <td>2000</td>\n",
       "      <td>manual</td>\n",
       "      <td>105</td>\n",
       "      <td>zafira</td>\n",
       "      <td>150000</td>\n",
       "      <td>petrol</td>\n",
       "      <td>opel</td>\n",
       "      <td>no</td>\n",
       "    </tr>\n",
       "    <tr>\n",
       "      <th>354365</th>\n",
       "      <td>2200</td>\n",
       "      <td>sedan</td>\n",
       "      <td>2005</td>\n",
       "      <td>manual</td>\n",
       "      <td>105</td>\n",
       "      <td>golf</td>\n",
       "      <td>20000</td>\n",
       "      <td>petrol</td>\n",
       "      <td>sonstige_autos</td>\n",
       "      <td>no</td>\n",
       "    </tr>\n",
       "    <tr>\n",
       "      <th>354366</th>\n",
       "      <td>1199</td>\n",
       "      <td>convertible</td>\n",
       "      <td>2000</td>\n",
       "      <td>auto</td>\n",
       "      <td>101</td>\n",
       "      <td>fortwo</td>\n",
       "      <td>125000</td>\n",
       "      <td>petrol</td>\n",
       "      <td>smart</td>\n",
       "      <td>no</td>\n",
       "    </tr>\n",
       "    <tr>\n",
       "      <th>354367</th>\n",
       "      <td>9200</td>\n",
       "      <td>bus</td>\n",
       "      <td>1996</td>\n",
       "      <td>manual</td>\n",
       "      <td>102</td>\n",
       "      <td>transporter</td>\n",
       "      <td>150000</td>\n",
       "      <td>gasoline</td>\n",
       "      <td>volkswagen</td>\n",
       "      <td>no</td>\n",
       "    </tr>\n",
       "    <tr>\n",
       "      <th>354368</th>\n",
       "      <td>3400</td>\n",
       "      <td>wagon</td>\n",
       "      <td>2002</td>\n",
       "      <td>manual</td>\n",
       "      <td>100</td>\n",
       "      <td>golf</td>\n",
       "      <td>150000</td>\n",
       "      <td>gasoline</td>\n",
       "      <td>volkswagen</td>\n",
       "      <td>no</td>\n",
       "    </tr>\n",
       "  </tbody>\n",
       "</table>\n",
       "<p>326903 rows × 10 columns</p>\n",
       "</div>"
      ],
      "text/plain": [
       "        Price  VehicleType  RegistrationYear Gearbox  Power        Model  \\\n",
       "0         480        sedan              1993  manual    105         golf   \n",
       "1       18300        coupe              2011  manual    190         golf   \n",
       "2        9800          suv              2004    auto    163        grand   \n",
       "3        1500        small              2001  manual     75         golf   \n",
       "4        3600        small              2008  manual     69        fabia   \n",
       "...       ...          ...               ...     ...    ...          ...   \n",
       "354363   1150          bus              2000  manual    105       zafira   \n",
       "354365   2200        sedan              2005  manual    105         golf   \n",
       "354366   1199  convertible              2000    auto    101       fortwo   \n",
       "354367   9200          bus              1996  manual    102  transporter   \n",
       "354368   3400        wagon              2002  manual    100         golf   \n",
       "\n",
       "        Kilometer  FuelType           Brand Repaired  \n",
       "0          150000    petrol      volkswagen       no  \n",
       "1          125000  gasoline            audi      yes  \n",
       "2          125000  gasoline            jeep       no  \n",
       "3          150000    petrol      volkswagen       no  \n",
       "4           90000  gasoline           skoda       no  \n",
       "...           ...       ...             ...      ...  \n",
       "354363     150000    petrol            opel       no  \n",
       "354365      20000    petrol  sonstige_autos       no  \n",
       "354366     125000    petrol           smart       no  \n",
       "354367     150000  gasoline      volkswagen       no  \n",
       "354368     150000  gasoline      volkswagen       no  \n",
       "\n",
       "[326903 rows x 10 columns]"
      ]
     },
     "execution_count": 21,
     "metadata": {},
     "output_type": "execute_result"
    }
   ],
   "source": [
    "df"
   ]
  },
  {
   "cell_type": "markdown",
   "id": "682c51a3",
   "metadata": {},
   "source": [
    "## Подготовка данных"
   ]
  },
  {
   "cell_type": "code",
   "execution_count": 22,
   "id": "4ca05a76",
   "metadata": {},
   "outputs": [],
   "source": [
    "df_ohe = pd.get_dummies(df, drop_first=True)\n",
    "\n",
    "features = df_ohe.drop(['Price'], axis = 1)  \n",
    "target = df_ohe['Price'] \n",
    "\n",
    "features_train, features_test, target_train, target_test = train_test_split(features, target, test_size=0.25, random_state=888)"
   ]
  },
  {
   "cell_type": "markdown",
   "id": "ec8339e2",
   "metadata": {},
   "source": [
    "<div class=\"alert alert-warning\">\n",
    "<b>Комментарий ревьюера:\n",
    "⚠</b> Для OHE лучше использовать OneHotEncoder и только после разделения на выборки, т.к. get_dummies не вставить в пайплайны + могут быть ошибки в кодировании. При кодировании get_dummies после разбиения выборки придётся проверять, что получились одинаковые признаки и в одинаковом порядке(можно использовать конструкцию <code>final_train, final_test = train.align(test, join='inner', axis=1)</code> для приведения признаков к единому виду. OneHotEncoder может работать со значениями признака, которого не было в тестовой выборке, можно использовать в column_transformer, пайплайнах и т.д. Пример использования <a href = \"https://colab.research.google.com/drive/1_gAMXcQKoCShB_l8FNtYEejMnosm9mvt?usp=sharing\">OHE</a>. Так же без разделения выборки до кодирования возникает утечка в данных\n",
    "</div>"
   ]
  },
  {
   "cell_type": "markdown",
   "id": "b23e48d5",
   "metadata": {},
   "source": [
    "## Обучение"
   ]
  },
  {
   "cell_type": "markdown",
   "id": "01b39502",
   "metadata": {},
   "source": [
    "\n",
    "#### LinearRegression"
   ]
  },
  {
   "cell_type": "code",
   "execution_count": 43,
   "id": "77480ab8",
   "metadata": {},
   "outputs": [
    {
     "name": "stdout",
     "output_type": "stream",
     "text": [
      "CPU times: total: 46 s\n",
      "Wall time: 26.2 s\n"
     ]
    }
   ],
   "source": [
    "%%time\n",
    "model_LR = LinearRegression()\n",
    "#model.fit(features_train, target_train)\n",
    "scores_LR = cross_val_score(model_LR, features_train, target_train, scoring='neg_root_mean_squared_error')"
   ]
  },
  {
   "cell_type": "code",
   "execution_count": 44,
   "id": "9645ad4d",
   "metadata": {},
   "outputs": [
    {
     "data": {
      "text/plain": [
       "-2699.093767613106"
      ]
     },
     "execution_count": 44,
     "metadata": {},
     "output_type": "execute_result"
    }
   ],
   "source": [
    "scores_LR.mean()"
   ]
  },
  {
   "cell_type": "markdown",
   "id": "188cb7f6",
   "metadata": {},
   "source": [
    "Rmse линейной регресси не удовлетваряет тербованим заказчика, по этому исключим ее из дальнейшего рассмотрения"
   ]
  },
  {
   "cell_type": "markdown",
   "id": "72af0c0b",
   "metadata": {},
   "source": [
    "#### LightGBM"
   ]
  },
  {
   "cell_type": "markdown",
   "id": "dfcd1b54",
   "metadata": {},
   "source": [
    "Проанализаируем LGBMRegressor с параметрами \"по умолчанию\""
   ]
  },
  {
   "cell_type": "code",
   "execution_count": 59,
   "id": "cb89d097",
   "metadata": {},
   "outputs": [
    {
     "name": "stdout",
     "output_type": "stream",
     "text": [
      "CPU times: total: 34.6 s\n",
      "Wall time: 13.1 s\n"
     ]
    }
   ],
   "source": [
    "%%time\n",
    "\n",
    "model_lgbm = LGBMRegressor()\n",
    "scores_lgbm = cross_val_score(model_lgbm, features_train, target_train, scoring='neg_root_mean_squared_error')"
   ]
  },
  {
   "cell_type": "code",
   "execution_count": 46,
   "id": "049daf19",
   "metadata": {},
   "outputs": [
    {
     "data": {
      "text/plain": [
       "-1725.3490459159307"
      ]
     },
     "execution_count": 46,
     "metadata": {},
     "output_type": "execute_result"
    }
   ],
   "source": [
    "scores_lgbm.mean()"
   ]
  },
  {
   "cell_type": "markdown",
   "id": "181645ee",
   "metadata": {},
   "source": [
    "Оценим скорость обучения и скорость пердсказания"
   ]
  },
  {
   "cell_type": "code",
   "execution_count": 53,
   "id": "cbf09c5d",
   "metadata": {},
   "outputs": [
    {
     "name": "stdout",
     "output_type": "stream",
     "text": [
      "CPU times: total: 6.56 s\n",
      "Wall time: 2.5 s\n"
     ]
    },
    {
     "data": {
      "text/plain": [
       "LGBMRegressor()"
      ]
     },
     "execution_count": 53,
     "metadata": {},
     "output_type": "execute_result"
    }
   ],
   "source": [
    "%%time\n",
    "model_lgbm.fit(features_train, target_train)"
   ]
  },
  {
   "cell_type": "code",
   "execution_count": 57,
   "id": "075f909d",
   "metadata": {},
   "outputs": [
    {
     "name": "stdout",
     "output_type": "stream",
     "text": [
      "CPU times: total: 3.38 s\n",
      "Wall time: 1.48 s\n"
     ]
    }
   ],
   "source": [
    "%%time\n",
    "predicted_lgbm = model_lgbm.predict(features_train)"
   ]
  },
  {
   "cell_type": "markdown",
   "id": "4c1f2462",
   "metadata": {},
   "source": [
    "Подберем параметры для LGBMRegressor через grid search"
   ]
  },
  {
   "cell_type": "code",
   "execution_count": 39,
   "id": "5a7d7c2d",
   "metadata": {},
   "outputs": [
    {
     "name": "stdout",
     "output_type": "stream",
     "text": [
      "Лучшие параметры: {'max_depth': 27, 'n_estimators': 256}\n",
      "Rmse: -1656.347843871756\n",
      "CPU times: total: 7min 9s\n",
      "Wall time: 3min 52s\n"
     ]
    }
   ],
   "source": [
    "%%time\n",
    "\n",
    "model_lgbm = LGBMRegressor()\n",
    "\n",
    "grid_space = {\n",
    "    'n_estimators': [8,16,32,64,128,256],\n",
    "    'max_depth': [3,9,18,27]\n",
    "}\n",
    "\n",
    "grid = GridSearchCV(model_lgbm,param_grid=grid_space,cv=3,scoring='neg_root_mean_squared_error')\n",
    "model_grid = grid.fit(features_train, target_train)\n",
    "\n",
    "print('Лучшие параметры:', model_grid.best_params_)\n",
    "print('Rmse:', model_grid.best_score_)"
   ]
  },
  {
   "cell_type": "markdown",
   "id": "84708eb1",
   "metadata": {},
   "source": [
    "Время подбора значительно увелисилось. Получив лучшую комбинацию параметров проведем обучение модели на обучающей выборке, а за тем предсказание на тестовой"
   ]
  },
  {
   "cell_type": "code",
   "execution_count": 49,
   "id": "702a7e4e",
   "metadata": {},
   "outputs": [
    {
     "name": "stdout",
     "output_type": "stream",
     "text": [
      "CPU times: total: 10.6 s\n",
      "Wall time: 3.65 s\n"
     ]
    },
    {
     "data": {
      "text/plain": [
       "LGBMRegressor(max_depth=27, n_estimators=256)"
      ]
     },
     "execution_count": 49,
     "metadata": {},
     "output_type": "execute_result"
    }
   ],
   "source": [
    "%%time\n",
    "model_lgbm_final = LGBMRegressor(max_depth=27, n_estimators=256)\n",
    "model_lgbm_final.fit(features_train, target_train)\n"
   ]
  },
  {
   "cell_type": "code",
   "execution_count": 58,
   "id": "2c692166",
   "metadata": {},
   "outputs": [
    {
     "name": "stdout",
     "output_type": "stream",
     "text": [
      "CPU times: total: 5.98 s\n",
      "Wall time: 2.06 s\n"
     ]
    }
   ],
   "source": [
    "%%time\n",
    "predicted_lgbm_final = model_lgbm_final.predict(features_train)"
   ]
  },
  {
   "cell_type": "markdown",
   "id": "6bbeac55",
   "metadata": {},
   "source": [
    "Время обучения с готовым набором параметров чуть больше, в сравнении с параметрами \"по умолчанию\". Результат немного выше. Предсказание тоже чуть дольше. Не смотря на это т.к. rmse у этой модели меньше остальных, именно ее протестируем в финале на тестовой выборке"
   ]
  },
  {
   "cell_type": "code",
   "execution_count": 51,
   "id": "6f09e215",
   "metadata": {},
   "outputs": [
    {
     "name": "stdout",
     "output_type": "stream",
     "text": [
      "CPU times: total: 2.06 s\n",
      "Wall time: 704 ms\n"
     ]
    },
    {
     "data": {
      "text/plain": [
       "1637.0801553234433"
      ]
     },
     "execution_count": 51,
     "metadata": {},
     "output_type": "execute_result"
    }
   ],
   "source": [
    "%%time\n",
    "predict_lbgm_final = model_lgbm_final.predict(features_test)\n",
    "mean_squared_error(target_test, predict_lbgm_final)**0.5"
   ]
  },
  {
   "cell_type": "markdown",
   "id": "0a665343",
   "metadata": {},
   "source": [
    "LGBMRegressor(max_depth=27, n_estimators=256) показала отличный результат на тестовой выборке. 2 секунды на предсказание и 1637 rmse."
   ]
  },
  {
   "cell_type": "markdown",
   "id": "c2c0b3dc",
   "metadata": {},
   "source": [
    "### Вывод:"
   ]
  },
  {
   "cell_type": "markdown",
   "id": "a474bea1",
   "metadata": {},
   "source": [
    "В рамках проекта была потавлена задача разработать модель обучения, которая предскажет рыночную стоимость автомобиля по данным, о предыдущих родажах. Рассмотрены 2 модели: LinearRegressor и LGBMRegressor. При этом LGBMRegressor протестирован по умолчанию, с применением поиска по сетке и случайного поиска гиперпараметров.\n",
    "\n",
    "Модель LinearRegressor показала неудовлетварительный результат. Все остальны показали результаты, отвечающие условиям заказчика: RMSE<2500. \n",
    "\n",
    "LinearRegressor добилась результата rmse 2699 за 46 сек. на обучающей выборке.  \n",
    "\n",
    "LGBMRegressor по умолчанию показала rmse 1725 за 6.65 сек. на обучение и 3.38 на предсказание на обучающей выборке.\n",
    "\n",
    "Подбор гиперпарамеров через GridSearchCV на обучающей выбоке учлучшил rmse до 1656 затратив 10.6 сек. на обучение и 5.56с на предсказание.\n",
    "\n",
    "LGBMRegressor с подобранными через GridSearchCV параметрами max_depth=27 и n_estimators=256 протестировали на тестовой выборке. Она показала отличный результат: 2 секунды на предсказание и 1637 rmse.\n",
    "\n",
    "Запуск случайного поиска занимает титаническое количссетво времени. \n",
    "\n",
    "Оптимальным для этой задачи в рамказ рассмотренных моделей считаю LGBMRegressor с гиперпараметрами  max_depth=27 и n_estimators=256."
   ]
  }
 ],
 "metadata": {
  "ExecuteTimeLog": [
   {
    "duration": 2471,
    "start_time": "2023-02-14T20:49:14.085Z"
   },
   {
    "duration": 1586,
    "start_time": "2023-02-14T20:49:16.559Z"
   },
   {
    "duration": 132,
    "start_time": "2023-02-14T20:49:18.146Z"
   },
   {
    "duration": 0,
    "start_time": "2023-02-14T20:49:18.281Z"
   },
   {
    "duration": 0,
    "start_time": "2023-02-14T20:49:18.282Z"
   },
   {
    "duration": 0,
    "start_time": "2023-02-14T20:49:18.284Z"
   },
   {
    "duration": 0,
    "start_time": "2023-02-14T20:49:18.285Z"
   },
   {
    "duration": 0,
    "start_time": "2023-02-14T20:49:18.287Z"
   },
   {
    "duration": 0,
    "start_time": "2023-02-14T20:49:18.288Z"
   },
   {
    "duration": 0,
    "start_time": "2023-02-14T20:49:18.289Z"
   },
   {
    "duration": 0,
    "start_time": "2023-02-14T20:49:18.290Z"
   },
   {
    "duration": 0,
    "start_time": "2023-02-14T20:49:18.291Z"
   },
   {
    "duration": 0,
    "start_time": "2023-02-14T20:49:18.292Z"
   },
   {
    "duration": 0,
    "start_time": "2023-02-14T20:49:18.293Z"
   },
   {
    "duration": 0,
    "start_time": "2023-02-14T20:49:18.294Z"
   },
   {
    "duration": 0,
    "start_time": "2023-02-14T20:49:18.295Z"
   },
   {
    "duration": 0,
    "start_time": "2023-02-14T20:49:18.296Z"
   },
   {
    "duration": 0,
    "start_time": "2023-02-14T20:49:18.297Z"
   },
   {
    "duration": 0,
    "start_time": "2023-02-14T20:49:18.298Z"
   },
   {
    "duration": 0,
    "start_time": "2023-02-14T20:49:18.299Z"
   },
   {
    "duration": 54,
    "start_time": "2023-02-14T20:52:35.582Z"
   },
   {
    "duration": 2725,
    "start_time": "2023-02-14T20:52:56.254Z"
   },
   {
    "duration": 2038,
    "start_time": "2023-02-14T20:53:03.574Z"
   },
   {
    "duration": 1487,
    "start_time": "2023-02-14T20:53:05.614Z"
   },
   {
    "duration": 746,
    "start_time": "2023-02-14T20:53:07.103Z"
   },
   {
    "duration": 2,
    "start_time": "2023-02-14T20:53:07.851Z"
   },
   {
    "duration": 138,
    "start_time": "2023-02-14T20:53:07.855Z"
   },
   {
    "duration": 128,
    "start_time": "2023-02-14T20:53:07.995Z"
   },
   {
    "duration": 86,
    "start_time": "2023-02-14T20:53:08.125Z"
   },
   {
    "duration": 155,
    "start_time": "2023-02-14T20:53:08.213Z"
   },
   {
    "duration": 53,
    "start_time": "2023-02-14T20:53:08.370Z"
   },
   {
    "duration": 23,
    "start_time": "2023-02-14T20:53:08.426Z"
   },
   {
    "duration": 49,
    "start_time": "2023-02-14T20:53:08.451Z"
   },
   {
    "duration": 126,
    "start_time": "2023-02-14T20:53:08.501Z"
   },
   {
    "duration": 59,
    "start_time": "2023-02-14T20:53:08.628Z"
   },
   {
    "duration": 10,
    "start_time": "2023-02-14T20:53:08.689Z"
   },
   {
    "duration": 20,
    "start_time": "2023-02-14T20:53:08.700Z"
   },
   {
    "duration": 43,
    "start_time": "2023-02-14T20:53:08.723Z"
   },
   {
    "duration": 1179,
    "start_time": "2023-02-14T20:53:08.769Z"
   },
   {
    "duration": 26698,
    "start_time": "2023-02-14T20:53:09.950Z"
   },
   {
    "duration": 299566,
    "start_time": "2023-02-14T20:53:36.650Z"
   },
   {
    "duration": 2364,
    "start_time": "2023-02-14T20:59:13.444Z"
   },
   {
    "duration": 1530,
    "start_time": "2023-02-14T20:59:15.812Z"
   },
   {
    "duration": 839,
    "start_time": "2023-02-14T20:59:17.344Z"
   },
   {
    "duration": 3,
    "start_time": "2023-02-14T20:59:18.185Z"
   },
   {
    "duration": 149,
    "start_time": "2023-02-14T20:59:18.189Z"
   },
   {
    "duration": 137,
    "start_time": "2023-02-14T20:59:18.340Z"
   },
   {
    "duration": 107,
    "start_time": "2023-02-14T20:59:18.478Z"
   },
   {
    "duration": 163,
    "start_time": "2023-02-14T20:59:18.587Z"
   },
   {
    "duration": 66,
    "start_time": "2023-02-14T20:59:18.752Z"
   },
   {
    "duration": 6,
    "start_time": "2023-02-14T20:59:18.820Z"
   },
   {
    "duration": 76,
    "start_time": "2023-02-14T20:59:18.828Z"
   },
   {
    "duration": 154,
    "start_time": "2023-02-14T20:59:18.906Z"
   },
   {
    "duration": 52,
    "start_time": "2023-02-14T20:59:19.063Z"
   },
   {
    "duration": 12,
    "start_time": "2023-02-14T20:59:19.116Z"
   },
   {
    "duration": 13,
    "start_time": "2023-02-14T20:59:19.147Z"
   },
   {
    "duration": 37,
    "start_time": "2023-02-14T20:59:19.162Z"
   },
   {
    "duration": 93,
    "start_time": "2023-02-14T20:59:19.201Z"
   },
   {
    "duration": 1177,
    "start_time": "2023-02-14T20:59:19.295Z"
   },
   {
    "duration": 23977,
    "start_time": "2023-02-14T20:59:20.474Z"
   },
   {
    "duration": 292315,
    "start_time": "2023-02-14T20:59:44.453Z"
   },
   {
    "duration": 2669,
    "start_time": "2023-02-15T04:53:52.866Z"
   },
   {
    "duration": 1632,
    "start_time": "2023-02-15T04:53:55.538Z"
   },
   {
    "duration": 3364,
    "start_time": "2023-02-15T04:54:05.115Z"
   },
   {
    "duration": 146,
    "start_time": "2023-02-15T04:54:08.480Z"
   },
   {
    "duration": 155,
    "start_time": "2023-02-15T04:54:11.259Z"
   },
   {
    "duration": 115,
    "start_time": "2023-02-15T04:54:13.830Z"
   },
   {
    "duration": 158,
    "start_time": "2023-02-15T04:54:16.120Z"
   },
   {
    "duration": 63,
    "start_time": "2023-02-15T04:54:33.903Z"
   },
   {
    "duration": 81,
    "start_time": "2023-02-15T04:55:41.910Z"
   },
   {
    "duration": 148,
    "start_time": "2023-02-15T04:56:45.388Z"
   },
   {
    "duration": 53,
    "start_time": "2023-02-15T04:56:47.518Z"
   },
   {
    "duration": 12,
    "start_time": "2023-02-15T04:56:49.103Z"
   },
   {
    "duration": 11,
    "start_time": "2023-02-15T04:56:50.529Z"
   },
   {
    "duration": 32,
    "start_time": "2023-02-15T04:56:52.094Z"
   },
   {
    "duration": 120,
    "start_time": "2023-02-15T04:57:11.576Z"
   },
   {
    "duration": 7,
    "start_time": "2023-02-15T04:57:24.390Z"
   },
   {
    "duration": 92,
    "start_time": "2023-02-15T04:57:29.802Z"
   },
   {
    "duration": 791,
    "start_time": "2023-02-15T04:57:32.724Z"
   },
   {
    "duration": 141,
    "start_time": "2023-02-15T04:57:34.664Z"
   },
   {
    "duration": 47,
    "start_time": "2023-02-15T04:57:49.880Z"
   },
   {
    "duration": 97,
    "start_time": "2023-02-15T04:57:52.126Z"
   },
   {
    "duration": 149,
    "start_time": "2023-02-15T05:06:04.486Z"
   },
   {
    "duration": 13,
    "start_time": "2023-02-15T05:07:39.567Z"
   },
   {
    "duration": 160,
    "start_time": "2023-02-15T05:07:44.907Z"
   },
   {
    "duration": 2,
    "start_time": "2023-02-15T05:17:11.325Z"
   },
   {
    "duration": 88,
    "start_time": "2023-02-15T05:18:13.658Z"
   },
   {
    "duration": 241,
    "start_time": "2023-02-15T05:18:21.912Z"
   },
   {
    "duration": 160,
    "start_time": "2023-02-15T05:18:40.225Z"
   },
   {
    "duration": 21,
    "start_time": "2023-02-15T05:18:49.523Z"
   },
   {
    "duration": 167,
    "start_time": "2023-02-15T05:19:10.738Z"
   },
   {
    "duration": 22,
    "start_time": "2023-02-15T05:21:30.080Z"
   },
   {
    "duration": 36,
    "start_time": "2023-02-15T05:21:35.800Z"
   },
   {
    "duration": 38,
    "start_time": "2023-02-15T05:21:41.021Z"
   },
   {
    "duration": 191,
    "start_time": "2023-02-15T05:22:36.620Z"
   },
   {
    "duration": 131,
    "start_time": "2023-02-15T05:22:49.577Z"
   },
   {
    "duration": 921,
    "start_time": "2023-02-15T05:23:03.203Z"
   },
   {
    "duration": 149,
    "start_time": "2023-02-15T05:23:16.885Z"
   },
   {
    "duration": 2661,
    "start_time": "2023-02-15T05:23:27.142Z"
   },
   {
    "duration": 1669,
    "start_time": "2023-02-15T05:23:29.806Z"
   },
   {
    "duration": 1005,
    "start_time": "2023-02-15T05:23:31.495Z"
   },
   {
    "duration": 3,
    "start_time": "2023-02-15T05:23:32.503Z"
   },
   {
    "duration": 227,
    "start_time": "2023-02-15T05:23:32.507Z"
   },
   {
    "duration": 234,
    "start_time": "2023-02-15T05:23:32.736Z"
   },
   {
    "duration": 141,
    "start_time": "2023-02-15T05:23:32.972Z"
   },
   {
    "duration": 182,
    "start_time": "2023-02-15T05:23:33.116Z"
   },
   {
    "duration": 75,
    "start_time": "2023-02-15T05:23:33.301Z"
   },
   {
    "duration": 10,
    "start_time": "2023-02-15T05:23:33.378Z"
   },
   {
    "duration": 61,
    "start_time": "2023-02-15T05:23:33.392Z"
   },
   {
    "duration": 157,
    "start_time": "2023-02-15T05:23:33.459Z"
   },
   {
    "duration": 70,
    "start_time": "2023-02-15T05:23:33.619Z"
   },
   {
    "duration": 18,
    "start_time": "2023-02-15T05:23:33.693Z"
   },
   {
    "duration": 13,
    "start_time": "2023-02-15T05:23:33.712Z"
   },
   {
    "duration": 51,
    "start_time": "2023-02-15T05:23:33.727Z"
   },
   {
    "duration": 110,
    "start_time": "2023-02-15T05:23:33.779Z"
   },
   {
    "duration": 130,
    "start_time": "2023-02-15T05:23:33.891Z"
   },
   {
    "duration": 4,
    "start_time": "2023-02-15T05:23:34.023Z"
   },
   {
    "duration": 1472,
    "start_time": "2023-02-15T05:23:34.029Z"
   },
   {
    "duration": 88359,
    "start_time": "2023-02-15T05:23:35.511Z"
   },
   {
    "duration": 2535,
    "start_time": "2023-02-15T05:25:37.786Z"
   },
   {
    "duration": 1645,
    "start_time": "2023-02-15T05:25:40.323Z"
   },
   {
    "duration": 885,
    "start_time": "2023-02-15T05:25:41.972Z"
   },
   {
    "duration": 4,
    "start_time": "2023-02-15T05:25:42.859Z"
   },
   {
    "duration": 278,
    "start_time": "2023-02-15T05:25:42.866Z"
   },
   {
    "duration": 173,
    "start_time": "2023-02-15T05:25:43.145Z"
   },
   {
    "duration": 111,
    "start_time": "2023-02-15T05:25:43.319Z"
   },
   {
    "duration": 182,
    "start_time": "2023-02-15T05:25:43.432Z"
   },
   {
    "duration": 75,
    "start_time": "2023-02-15T05:25:43.616Z"
   },
   {
    "duration": 7,
    "start_time": "2023-02-15T05:25:43.693Z"
   },
   {
    "duration": 93,
    "start_time": "2023-02-15T05:25:43.701Z"
   },
   {
    "duration": 179,
    "start_time": "2023-02-15T05:25:43.797Z"
   },
   {
    "duration": 60,
    "start_time": "2023-02-15T05:25:43.982Z"
   },
   {
    "duration": 17,
    "start_time": "2023-02-15T05:25:44.046Z"
   },
   {
    "duration": 51,
    "start_time": "2023-02-15T05:25:44.065Z"
   },
   {
    "duration": 61,
    "start_time": "2023-02-15T05:25:44.118Z"
   },
   {
    "duration": 123,
    "start_time": "2023-02-15T05:25:44.181Z"
   },
   {
    "duration": 20,
    "start_time": "2023-02-15T05:25:44.306Z"
   },
   {
    "duration": 60,
    "start_time": "2023-02-15T05:25:44.328Z"
   },
   {
    "duration": 1369,
    "start_time": "2023-02-15T05:25:44.389Z"
   },
   {
    "duration": 2542,
    "start_time": "2023-02-15T05:26:24.954Z"
   },
   {
    "duration": 1506,
    "start_time": "2023-02-15T05:26:27.499Z"
   },
   {
    "duration": 987,
    "start_time": "2023-02-15T05:26:29.006Z"
   },
   {
    "duration": 2,
    "start_time": "2023-02-15T05:26:29.995Z"
   },
   {
    "duration": 224,
    "start_time": "2023-02-15T05:26:30.004Z"
   },
   {
    "duration": 205,
    "start_time": "2023-02-15T05:26:30.238Z"
   },
   {
    "duration": 146,
    "start_time": "2023-02-15T05:26:30.447Z"
   },
   {
    "duration": 175,
    "start_time": "2023-02-15T05:26:30.595Z"
   },
   {
    "duration": 60,
    "start_time": "2023-02-15T05:26:30.774Z"
   },
   {
    "duration": 19,
    "start_time": "2023-02-15T05:26:30.837Z"
   },
   {
    "duration": 214,
    "start_time": "2023-02-15T05:26:30.858Z"
   },
   {
    "duration": 139,
    "start_time": "2023-02-15T05:26:31.080Z"
   },
   {
    "duration": 64,
    "start_time": "2023-02-15T05:26:31.220Z"
   },
   {
    "duration": 13,
    "start_time": "2023-02-15T05:26:31.286Z"
   },
   {
    "duration": 24,
    "start_time": "2023-02-15T05:26:31.301Z"
   },
   {
    "duration": 37,
    "start_time": "2023-02-15T05:26:31.328Z"
   },
   {
    "duration": 92,
    "start_time": "2023-02-15T05:26:31.367Z"
   },
   {
    "duration": 174,
    "start_time": "2023-02-15T05:26:31.460Z"
   },
   {
    "duration": 3,
    "start_time": "2023-02-15T05:26:31.636Z"
   },
   {
    "duration": 1354,
    "start_time": "2023-02-15T05:26:31.648Z"
   },
   {
    "duration": 74649,
    "start_time": "2023-02-15T05:26:33.004Z"
   },
   {
    "duration": 2305,
    "start_time": "2023-02-15T05:28:56.203Z"
   },
   {
    "duration": 1384,
    "start_time": "2023-02-15T05:28:58.510Z"
   },
   {
    "duration": 876,
    "start_time": "2023-02-15T05:28:59.896Z"
   },
   {
    "duration": 2,
    "start_time": "2023-02-15T05:29:00.781Z"
   },
   {
    "duration": 157,
    "start_time": "2023-02-15T05:29:00.785Z"
   },
   {
    "duration": 168,
    "start_time": "2023-02-15T05:29:00.944Z"
   },
   {
    "duration": 107,
    "start_time": "2023-02-15T05:29:01.113Z"
   },
   {
    "duration": 196,
    "start_time": "2023-02-15T05:29:01.222Z"
   },
   {
    "duration": 68,
    "start_time": "2023-02-15T05:29:01.420Z"
   },
   {
    "duration": 6,
    "start_time": "2023-02-15T05:29:01.490Z"
   },
   {
    "duration": 78,
    "start_time": "2023-02-15T05:29:01.498Z"
   },
   {
    "duration": 136,
    "start_time": "2023-02-15T05:29:01.577Z"
   },
   {
    "duration": 60,
    "start_time": "2023-02-15T05:29:01.715Z"
   },
   {
    "duration": 10,
    "start_time": "2023-02-15T05:29:01.780Z"
   },
   {
    "duration": 20,
    "start_time": "2023-02-15T05:29:01.791Z"
   },
   {
    "duration": 27,
    "start_time": "2023-02-15T05:29:01.813Z"
   },
   {
    "duration": 118,
    "start_time": "2023-02-15T05:29:01.842Z"
   },
   {
    "duration": 169,
    "start_time": "2023-02-15T05:29:01.966Z"
   },
   {
    "duration": 4,
    "start_time": "2023-02-15T05:29:02.136Z"
   },
   {
    "duration": 1439,
    "start_time": "2023-02-15T05:29:02.142Z"
   },
   {
    "duration": 82370,
    "start_time": "2023-02-15T05:29:03.583Z"
   },
   {
    "duration": 2234,
    "start_time": "2023-02-15T05:30:59.177Z"
   },
   {
    "duration": 1501,
    "start_time": "2023-02-15T05:31:01.414Z"
   },
   {
    "duration": 871,
    "start_time": "2023-02-15T05:31:02.917Z"
   },
   {
    "duration": 2,
    "start_time": "2023-02-15T05:31:03.790Z"
   },
   {
    "duration": 164,
    "start_time": "2023-02-15T05:31:03.795Z"
   },
   {
    "duration": 155,
    "start_time": "2023-02-15T05:31:03.964Z"
   },
   {
    "duration": 108,
    "start_time": "2023-02-15T05:31:04.121Z"
   },
   {
    "duration": 173,
    "start_time": "2023-02-15T05:31:04.231Z"
   },
   {
    "duration": 67,
    "start_time": "2023-02-15T05:31:04.406Z"
   },
   {
    "duration": 13,
    "start_time": "2023-02-15T05:31:04.474Z"
   },
   {
    "duration": 61,
    "start_time": "2023-02-15T05:31:04.488Z"
   },
   {
    "duration": 181,
    "start_time": "2023-02-15T05:31:04.551Z"
   },
   {
    "duration": 61,
    "start_time": "2023-02-15T05:31:04.734Z"
   },
   {
    "duration": 10,
    "start_time": "2023-02-15T05:31:04.798Z"
   },
   {
    "duration": 10,
    "start_time": "2023-02-15T05:31:04.810Z"
   },
   {
    "duration": 62,
    "start_time": "2023-02-15T05:31:04.821Z"
   },
   {
    "duration": 114,
    "start_time": "2023-02-15T05:31:04.887Z"
   },
   {
    "duration": 6,
    "start_time": "2023-02-15T05:31:05.003Z"
   },
   {
    "duration": 8,
    "start_time": "2023-02-15T05:31:05.011Z"
   },
   {
    "duration": 1455,
    "start_time": "2023-02-15T05:31:05.022Z"
   },
   {
    "duration": 2431,
    "start_time": "2023-02-15T05:31:54.676Z"
   },
   {
    "duration": 1510,
    "start_time": "2023-02-15T05:31:57.110Z"
   },
   {
    "duration": 862,
    "start_time": "2023-02-15T05:31:58.622Z"
   },
   {
    "duration": 2,
    "start_time": "2023-02-15T05:31:59.486Z"
   },
   {
    "duration": 154,
    "start_time": "2023-02-15T05:31:59.490Z"
   },
   {
    "duration": 162,
    "start_time": "2023-02-15T05:31:59.649Z"
   },
   {
    "duration": 108,
    "start_time": "2023-02-15T05:31:59.813Z"
   },
   {
    "duration": 178,
    "start_time": "2023-02-15T05:31:59.923Z"
   },
   {
    "duration": 62,
    "start_time": "2023-02-15T05:32:00.103Z"
   },
   {
    "duration": 12,
    "start_time": "2023-02-15T05:32:00.168Z"
   },
   {
    "duration": 70,
    "start_time": "2023-02-15T05:32:00.186Z"
   },
   {
    "duration": 132,
    "start_time": "2023-02-15T05:32:00.264Z"
   },
   {
    "duration": 62,
    "start_time": "2023-02-15T05:32:00.398Z"
   },
   {
    "duration": 12,
    "start_time": "2023-02-15T05:32:00.463Z"
   },
   {
    "duration": 17,
    "start_time": "2023-02-15T05:32:00.478Z"
   },
   {
    "duration": 48,
    "start_time": "2023-02-15T05:32:00.497Z"
   },
   {
    "duration": 122,
    "start_time": "2023-02-15T05:32:00.547Z"
   },
   {
    "duration": 32,
    "start_time": "2023-02-15T05:32:00.681Z"
   },
   {
    "duration": 21,
    "start_time": "2023-02-15T05:32:00.715Z"
   },
   {
    "duration": 1511,
    "start_time": "2023-02-15T05:32:00.738Z"
   },
   {
    "duration": 2365,
    "start_time": "2023-02-15T05:32:38.715Z"
   },
   {
    "duration": 1427,
    "start_time": "2023-02-15T05:32:41.082Z"
   },
   {
    "duration": 933,
    "start_time": "2023-02-15T05:32:42.513Z"
   },
   {
    "duration": 14,
    "start_time": "2023-02-15T05:32:43.451Z"
   },
   {
    "duration": 169,
    "start_time": "2023-02-15T05:32:43.477Z"
   },
   {
    "duration": 166,
    "start_time": "2023-02-15T05:32:43.654Z"
   },
   {
    "duration": 113,
    "start_time": "2023-02-15T05:32:43.822Z"
   },
   {
    "duration": 185,
    "start_time": "2023-02-15T05:32:43.937Z"
   },
   {
    "duration": 69,
    "start_time": "2023-02-15T05:32:44.124Z"
   },
   {
    "duration": 7,
    "start_time": "2023-02-15T05:32:44.195Z"
   },
   {
    "duration": 80,
    "start_time": "2023-02-15T05:32:44.204Z"
   },
   {
    "duration": 143,
    "start_time": "2023-02-15T05:32:44.286Z"
   },
   {
    "duration": 68,
    "start_time": "2023-02-15T05:32:44.431Z"
   },
   {
    "duration": 10,
    "start_time": "2023-02-15T05:32:44.501Z"
   },
   {
    "duration": 11,
    "start_time": "2023-02-15T05:32:44.513Z"
   },
   {
    "duration": 65,
    "start_time": "2023-02-15T05:32:44.526Z"
   },
   {
    "duration": 94,
    "start_time": "2023-02-15T05:32:44.592Z"
   },
   {
    "duration": 141,
    "start_time": "2023-02-15T05:32:44.688Z"
   },
   {
    "duration": 3,
    "start_time": "2023-02-15T05:32:44.831Z"
   },
   {
    "duration": 1344,
    "start_time": "2023-02-15T05:32:44.835Z"
   },
   {
    "duration": 84376,
    "start_time": "2023-02-15T05:32:46.180Z"
   },
   {
    "duration": 2255,
    "start_time": "2023-02-15T05:39:16.177Z"
   },
   {
    "duration": 1472,
    "start_time": "2023-02-15T05:39:18.434Z"
   },
   {
    "duration": 904,
    "start_time": "2023-02-15T05:39:19.908Z"
   },
   {
    "duration": 2,
    "start_time": "2023-02-15T05:39:20.814Z"
   },
   {
    "duration": 159,
    "start_time": "2023-02-15T05:39:20.818Z"
   },
   {
    "duration": 139,
    "start_time": "2023-02-15T05:39:20.981Z"
   },
   {
    "duration": 108,
    "start_time": "2023-02-15T05:39:21.122Z"
   },
   {
    "duration": 163,
    "start_time": "2023-02-15T05:39:21.232Z"
   },
   {
    "duration": 67,
    "start_time": "2023-02-15T05:39:21.397Z"
   },
   {
    "duration": 18,
    "start_time": "2023-02-15T05:39:21.466Z"
   },
   {
    "duration": 55,
    "start_time": "2023-02-15T05:39:21.486Z"
   },
   {
    "duration": 163,
    "start_time": "2023-02-15T05:39:21.542Z"
   },
   {
    "duration": 71,
    "start_time": "2023-02-15T05:39:21.706Z"
   },
   {
    "duration": 12,
    "start_time": "2023-02-15T05:39:21.780Z"
   },
   {
    "duration": 10,
    "start_time": "2023-02-15T05:39:21.794Z"
   },
   {
    "duration": 85,
    "start_time": "2023-02-15T05:39:21.806Z"
   },
   {
    "duration": 116,
    "start_time": "2023-02-15T05:39:21.893Z"
   },
   {
    "duration": 166,
    "start_time": "2023-02-15T05:39:22.011Z"
   },
   {
    "duration": 3,
    "start_time": "2023-02-15T05:39:22.178Z"
   },
   {
    "duration": 1300,
    "start_time": "2023-02-15T05:39:22.185Z"
   },
   {
    "duration": 79360,
    "start_time": "2023-02-15T05:39:23.487Z"
   },
   {
    "duration": 2405,
    "start_time": "2023-02-15T05:42:07.559Z"
   },
   {
    "duration": 1588,
    "start_time": "2023-02-15T05:42:09.974Z"
   },
   {
    "duration": 1021,
    "start_time": "2023-02-15T05:42:11.564Z"
   },
   {
    "duration": 3,
    "start_time": "2023-02-15T05:42:12.588Z"
   },
   {
    "duration": 181,
    "start_time": "2023-02-15T05:42:12.593Z"
   },
   {
    "duration": 192,
    "start_time": "2023-02-15T05:42:12.781Z"
   },
   {
    "duration": 109,
    "start_time": "2023-02-15T05:42:12.980Z"
   },
   {
    "duration": 190,
    "start_time": "2023-02-15T05:42:13.091Z"
   },
   {
    "duration": 56,
    "start_time": "2023-02-15T05:42:13.283Z"
   },
   {
    "duration": 18,
    "start_time": "2023-02-15T05:42:13.357Z"
   },
   {
    "duration": 80,
    "start_time": "2023-02-15T05:42:13.377Z"
   },
   {
    "duration": 159,
    "start_time": "2023-02-15T05:42:13.459Z"
   },
   {
    "duration": 74,
    "start_time": "2023-02-15T05:42:13.622Z"
   },
   {
    "duration": 11,
    "start_time": "2023-02-15T05:42:13.698Z"
   },
   {
    "duration": 15,
    "start_time": "2023-02-15T05:42:13.711Z"
   },
   {
    "duration": 53,
    "start_time": "2023-02-15T05:42:13.728Z"
   },
   {
    "duration": 103,
    "start_time": "2023-02-15T05:42:13.788Z"
   },
   {
    "duration": 22,
    "start_time": "2023-02-15T05:42:13.894Z"
   },
   {
    "duration": 168,
    "start_time": "2023-02-15T05:42:13.918Z"
   },
   {
    "duration": 2,
    "start_time": "2023-02-15T05:42:14.088Z"
   },
   {
    "duration": 1483,
    "start_time": "2023-02-15T05:42:14.092Z"
   },
   {
    "duration": 2623,
    "start_time": "2023-02-15T05:42:33.381Z"
   },
   {
    "duration": 1599,
    "start_time": "2023-02-15T05:42:36.006Z"
   },
   {
    "duration": 979,
    "start_time": "2023-02-15T05:42:37.607Z"
   },
   {
    "duration": 4,
    "start_time": "2023-02-15T05:42:38.589Z"
   },
   {
    "duration": 184,
    "start_time": "2023-02-15T05:42:38.594Z"
   },
   {
    "duration": 156,
    "start_time": "2023-02-15T05:42:38.779Z"
   },
   {
    "duration": 122,
    "start_time": "2023-02-15T05:42:38.936Z"
   },
   {
    "duration": 171,
    "start_time": "2023-02-15T05:42:39.061Z"
   },
   {
    "duration": 78,
    "start_time": "2023-02-15T05:42:39.235Z"
   },
   {
    "duration": 6,
    "start_time": "2023-02-15T05:42:39.316Z"
   },
   {
    "duration": 76,
    "start_time": "2023-02-15T05:42:39.324Z"
   },
   {
    "duration": 134,
    "start_time": "2023-02-15T05:42:39.402Z"
   },
   {
    "duration": 63,
    "start_time": "2023-02-15T05:42:39.538Z"
   },
   {
    "duration": 10,
    "start_time": "2023-02-15T05:42:39.603Z"
   },
   {
    "duration": 17,
    "start_time": "2023-02-15T05:42:39.615Z"
   },
   {
    "duration": 41,
    "start_time": "2023-02-15T05:42:39.649Z"
   },
   {
    "duration": 113,
    "start_time": "2023-02-15T05:42:39.692Z"
   },
   {
    "duration": 158,
    "start_time": "2023-02-15T05:42:39.806Z"
   },
   {
    "duration": 0,
    "start_time": "2023-02-15T05:42:39.968Z"
   },
   {
    "duration": 0,
    "start_time": "2023-02-15T05:42:39.969Z"
   },
   {
    "duration": 0,
    "start_time": "2023-02-15T05:42:39.970Z"
   },
   {
    "duration": 0,
    "start_time": "2023-02-15T05:42:39.971Z"
   },
   {
    "duration": 0,
    "start_time": "2023-02-15T05:42:39.972Z"
   },
   {
    "duration": 0,
    "start_time": "2023-02-15T05:42:39.973Z"
   },
   {
    "duration": 0,
    "start_time": "2023-02-15T05:42:39.974Z"
   },
   {
    "duration": 2516,
    "start_time": "2023-02-15T05:43:07.261Z"
   },
   {
    "duration": 1559,
    "start_time": "2023-02-15T05:43:09.780Z"
   },
   {
    "duration": 969,
    "start_time": "2023-02-15T05:43:11.341Z"
   },
   {
    "duration": 3,
    "start_time": "2023-02-15T05:43:12.312Z"
   },
   {
    "duration": 187,
    "start_time": "2023-02-15T05:43:12.318Z"
   },
   {
    "duration": 174,
    "start_time": "2023-02-15T05:43:12.507Z"
   },
   {
    "duration": 110,
    "start_time": "2023-02-15T05:43:12.683Z"
   },
   {
    "duration": 210,
    "start_time": "2023-02-15T05:43:12.795Z"
   },
   {
    "duration": 70,
    "start_time": "2023-02-15T05:43:13.007Z"
   },
   {
    "duration": 7,
    "start_time": "2023-02-15T05:43:13.078Z"
   },
   {
    "duration": 80,
    "start_time": "2023-02-15T05:43:13.087Z"
   },
   {
    "duration": 137,
    "start_time": "2023-02-15T05:43:13.169Z"
   },
   {
    "duration": 73,
    "start_time": "2023-02-15T05:43:13.308Z"
   },
   {
    "duration": 10,
    "start_time": "2023-02-15T05:43:13.384Z"
   },
   {
    "duration": 11,
    "start_time": "2023-02-15T05:43:13.395Z"
   },
   {
    "duration": 67,
    "start_time": "2023-02-15T05:43:13.408Z"
   },
   {
    "duration": 120,
    "start_time": "2023-02-15T05:43:13.477Z"
   },
   {
    "duration": 25,
    "start_time": "2023-02-15T05:43:13.599Z"
   },
   {
    "duration": 156,
    "start_time": "2023-02-15T05:43:13.626Z"
   },
   {
    "duration": 4,
    "start_time": "2023-02-15T05:43:13.784Z"
   },
   {
    "duration": 1567,
    "start_time": "2023-02-15T05:43:13.790Z"
   },
   {
    "duration": 2453,
    "start_time": "2023-02-15T05:43:33.575Z"
   },
   {
    "duration": 1607,
    "start_time": "2023-02-15T05:43:36.031Z"
   },
   {
    "duration": 963,
    "start_time": "2023-02-15T05:43:37.640Z"
   },
   {
    "duration": 2,
    "start_time": "2023-02-15T05:43:38.606Z"
   },
   {
    "duration": 175,
    "start_time": "2023-02-15T05:43:38.610Z"
   },
   {
    "duration": 186,
    "start_time": "2023-02-15T05:43:38.787Z"
   },
   {
    "duration": 110,
    "start_time": "2023-02-15T05:43:38.976Z"
   },
   {
    "duration": 188,
    "start_time": "2023-02-15T05:43:39.088Z"
   },
   {
    "duration": 57,
    "start_time": "2023-02-15T05:43:39.283Z"
   },
   {
    "duration": 23,
    "start_time": "2023-02-15T05:43:39.343Z"
   },
   {
    "duration": 62,
    "start_time": "2023-02-15T05:43:39.375Z"
   },
   {
    "duration": 140,
    "start_time": "2023-02-15T05:43:39.439Z"
   },
   {
    "duration": 52,
    "start_time": "2023-02-15T05:43:39.581Z"
   },
   {
    "duration": 26,
    "start_time": "2023-02-15T05:43:39.635Z"
   },
   {
    "duration": 25,
    "start_time": "2023-02-15T05:43:39.664Z"
   },
   {
    "duration": 42,
    "start_time": "2023-02-15T05:43:39.691Z"
   },
   {
    "duration": 97,
    "start_time": "2023-02-15T05:43:39.735Z"
   },
   {
    "duration": 48,
    "start_time": "2023-02-15T05:43:39.834Z"
   },
   {
    "duration": 139,
    "start_time": "2023-02-15T05:43:39.885Z"
   },
   {
    "duration": 3,
    "start_time": "2023-02-15T05:43:40.026Z"
   },
   {
    "duration": 1393,
    "start_time": "2023-02-15T05:43:40.030Z"
   },
   {
    "duration": 82579,
    "start_time": "2023-02-15T05:43:41.425Z"
   },
   {
    "duration": 2328,
    "start_time": "2023-02-15T05:45:54.078Z"
   },
   {
    "duration": 1466,
    "start_time": "2023-02-15T05:45:56.408Z"
   },
   {
    "duration": 1016,
    "start_time": "2023-02-15T05:45:57.877Z"
   },
   {
    "duration": 3,
    "start_time": "2023-02-15T05:45:58.895Z"
   },
   {
    "duration": 181,
    "start_time": "2023-02-15T05:45:58.900Z"
   },
   {
    "duration": 151,
    "start_time": "2023-02-15T05:45:59.085Z"
   },
   {
    "duration": 154,
    "start_time": "2023-02-15T05:45:59.238Z"
   },
   {
    "duration": 184,
    "start_time": "2023-02-15T05:45:59.394Z"
   },
   {
    "duration": 59,
    "start_time": "2023-02-15T05:45:59.586Z"
   },
   {
    "duration": 11,
    "start_time": "2023-02-15T05:45:59.647Z"
   },
   {
    "duration": 79,
    "start_time": "2023-02-15T05:45:59.662Z"
   },
   {
    "duration": 170,
    "start_time": "2023-02-15T05:45:59.743Z"
   },
   {
    "duration": 75,
    "start_time": "2023-02-15T05:45:59.915Z"
   },
   {
    "duration": 12,
    "start_time": "2023-02-15T05:45:59.992Z"
   },
   {
    "duration": 10,
    "start_time": "2023-02-15T05:46:00.006Z"
   },
   {
    "duration": 62,
    "start_time": "2023-02-15T05:46:00.018Z"
   },
   {
    "duration": 108,
    "start_time": "2023-02-15T05:46:00.081Z"
   },
   {
    "duration": 210,
    "start_time": "2023-02-15T05:46:00.192Z"
   },
   {
    "duration": 106,
    "start_time": "2023-02-15T05:46:00.404Z"
   },
   {
    "duration": 1358,
    "start_time": "2023-02-15T05:46:00.511Z"
   },
   {
    "duration": 82199,
    "start_time": "2023-02-15T05:46:01.871Z"
   },
   {
    "duration": 2130,
    "start_time": "2023-02-15T12:23:09.468Z"
   },
   {
    "duration": 1750,
    "start_time": "2023-02-15T12:23:11.600Z"
   },
   {
    "duration": 1062,
    "start_time": "2023-02-15T12:23:13.352Z"
   },
   {
    "duration": 17,
    "start_time": "2023-02-15T12:23:14.415Z"
   },
   {
    "duration": 122,
    "start_time": "2023-02-15T12:23:14.434Z"
   },
   {
    "duration": 127,
    "start_time": "2023-02-15T12:23:14.558Z"
   },
   {
    "duration": 104,
    "start_time": "2023-02-15T12:23:14.687Z"
   },
   {
    "duration": 176,
    "start_time": "2023-02-15T12:23:14.794Z"
   },
   {
    "duration": 57,
    "start_time": "2023-02-15T12:23:14.972Z"
   },
   {
    "duration": 5,
    "start_time": "2023-02-15T12:23:15.031Z"
   },
   {
    "duration": 61,
    "start_time": "2023-02-15T12:23:15.038Z"
   },
   {
    "duration": 151,
    "start_time": "2023-02-15T12:23:15.101Z"
   },
   {
    "duration": 46,
    "start_time": "2023-02-15T12:23:15.254Z"
   },
   {
    "duration": 25,
    "start_time": "2023-02-15T12:23:15.303Z"
   },
   {
    "duration": 10,
    "start_time": "2023-02-15T12:23:15.329Z"
   },
   {
    "duration": 28,
    "start_time": "2023-02-15T12:23:15.341Z"
   },
   {
    "duration": 79,
    "start_time": "2023-02-15T12:23:15.370Z"
   },
   {
    "duration": 2,
    "start_time": "2023-02-15T12:23:15.451Z"
   },
   {
    "duration": 142,
    "start_time": "2023-02-15T12:23:15.455Z"
   },
   {
    "duration": 67,
    "start_time": "2023-02-15T12:23:15.599Z"
   },
   {
    "duration": 23,
    "start_time": "2023-02-15T12:23:15.668Z"
   },
   {
    "duration": 1237,
    "start_time": "2023-02-15T12:23:15.693Z"
   },
   {
    "duration": 1676,
    "start_time": "2023-02-15T12:23:45.318Z"
   },
   {
    "duration": 1014,
    "start_time": "2023-02-15T12:23:47.362Z"
   },
   {
    "duration": 16,
    "start_time": "2023-02-15T12:23:49.162Z"
   },
   {
    "duration": 113,
    "start_time": "2023-02-15T12:23:51.536Z"
   },
   {
    "duration": 105,
    "start_time": "2023-02-15T12:23:52.889Z"
   },
   {
    "duration": 96,
    "start_time": "2023-02-15T12:23:55.065Z"
   },
   {
    "duration": 163,
    "start_time": "2023-02-15T12:23:57.881Z"
   },
   {
    "duration": 46,
    "start_time": "2023-02-15T12:24:02.702Z"
   },
   {
    "duration": 6,
    "start_time": "2023-02-15T12:24:04.863Z"
   },
   {
    "duration": 55,
    "start_time": "2023-02-15T12:24:06.820Z"
   },
   {
    "duration": 142,
    "start_time": "2023-02-15T12:24:10.944Z"
   },
   {
    "duration": 47,
    "start_time": "2023-02-15T12:24:14.048Z"
   },
   {
    "duration": 9,
    "start_time": "2023-02-15T12:24:15.561Z"
   },
   {
    "duration": 10,
    "start_time": "2023-02-15T12:24:23.889Z"
   },
   {
    "duration": 28,
    "start_time": "2023-02-15T12:24:25.616Z"
   },
   {
    "duration": 61,
    "start_time": "2023-02-15T12:24:27.272Z"
   },
   {
    "duration": 130,
    "start_time": "2023-02-15T12:24:31.233Z"
   },
   {
    "duration": 62,
    "start_time": "2023-02-15T12:24:32.424Z"
   },
   {
    "duration": 19,
    "start_time": "2023-02-15T12:24:35.011Z"
   },
   {
    "duration": 1238,
    "start_time": "2023-02-15T12:24:36.737Z"
   },
   {
    "duration": 142,
    "start_time": "2023-02-15T12:24:50.345Z"
   },
   {
    "duration": 2074,
    "start_time": "2023-02-15T12:31:51.259Z"
   },
   {
    "duration": 1683,
    "start_time": "2023-02-15T12:31:53.335Z"
   },
   {
    "duration": 1058,
    "start_time": "2023-02-15T12:31:55.020Z"
   },
   {
    "duration": 17,
    "start_time": "2023-02-15T12:31:56.080Z"
   },
   {
    "duration": 110,
    "start_time": "2023-02-15T12:31:56.099Z"
   },
   {
    "duration": 118,
    "start_time": "2023-02-15T12:31:56.211Z"
   },
   {
    "duration": 110,
    "start_time": "2023-02-15T12:31:56.331Z"
   },
   {
    "duration": 187,
    "start_time": "2023-02-15T12:31:56.443Z"
   },
   {
    "duration": 50,
    "start_time": "2023-02-15T12:31:56.632Z"
   },
   {
    "duration": 7,
    "start_time": "2023-02-15T12:31:56.685Z"
   },
   {
    "duration": 77,
    "start_time": "2023-02-15T12:31:56.694Z"
   },
   {
    "duration": 139,
    "start_time": "2023-02-15T12:31:56.773Z"
   },
   {
    "duration": 56,
    "start_time": "2023-02-15T12:31:56.914Z"
   },
   {
    "duration": 10,
    "start_time": "2023-02-15T12:31:56.972Z"
   },
   {
    "duration": 9,
    "start_time": "2023-02-15T12:31:56.984Z"
   },
   {
    "duration": 47,
    "start_time": "2023-02-15T12:31:56.995Z"
   },
   {
    "duration": 67,
    "start_time": "2023-02-15T12:31:57.043Z"
   },
   {
    "duration": 2,
    "start_time": "2023-02-15T12:31:57.111Z"
   },
   {
    "duration": 146,
    "start_time": "2023-02-15T12:31:57.115Z"
   },
   {
    "duration": 69,
    "start_time": "2023-02-15T12:31:57.263Z"
   },
   {
    "duration": 17,
    "start_time": "2023-02-15T12:31:57.333Z"
   },
   {
    "duration": 1169,
    "start_time": "2023-02-15T12:31:57.351Z"
   },
   {
    "duration": 29,
    "start_time": "2023-02-15T12:31:58.522Z"
   },
   {
    "duration": 1764,
    "start_time": "2023-02-16T09:47:19.528Z"
   },
   {
    "duration": 283,
    "start_time": "2023-02-16T09:49:39.760Z"
   },
   {
    "duration": 2598,
    "start_time": "2023-02-16T09:49:50.966Z"
   },
   {
    "duration": 1614,
    "start_time": "2023-02-16T09:49:53.567Z"
   },
   {
    "duration": 2,
    "start_time": "2023-02-16T09:49:55.183Z"
   },
   {
    "duration": 192,
    "start_time": "2023-02-16T09:49:55.187Z"
   },
   {
    "duration": 0,
    "start_time": "2023-02-16T09:49:55.382Z"
   },
   {
    "duration": 0,
    "start_time": "2023-02-16T09:49:55.383Z"
   },
   {
    "duration": 0,
    "start_time": "2023-02-16T09:49:55.385Z"
   },
   {
    "duration": 0,
    "start_time": "2023-02-16T09:49:55.386Z"
   },
   {
    "duration": 0,
    "start_time": "2023-02-16T09:49:55.387Z"
   },
   {
    "duration": 0,
    "start_time": "2023-02-16T09:49:55.388Z"
   },
   {
    "duration": 0,
    "start_time": "2023-02-16T09:49:55.389Z"
   },
   {
    "duration": 0,
    "start_time": "2023-02-16T09:49:55.390Z"
   },
   {
    "duration": 0,
    "start_time": "2023-02-16T09:49:55.401Z"
   },
   {
    "duration": 1,
    "start_time": "2023-02-16T09:49:55.401Z"
   },
   {
    "duration": 0,
    "start_time": "2023-02-16T09:49:55.402Z"
   },
   {
    "duration": 0,
    "start_time": "2023-02-16T09:49:55.403Z"
   },
   {
    "duration": 0,
    "start_time": "2023-02-16T09:49:55.404Z"
   },
   {
    "duration": 0,
    "start_time": "2023-02-16T09:49:55.404Z"
   },
   {
    "duration": 0,
    "start_time": "2023-02-16T09:49:55.405Z"
   },
   {
    "duration": 0,
    "start_time": "2023-02-16T09:49:55.406Z"
   },
   {
    "duration": 0,
    "start_time": "2023-02-16T09:49:55.407Z"
   },
   {
    "duration": 0,
    "start_time": "2023-02-16T09:49:55.408Z"
   },
   {
    "duration": 0,
    "start_time": "2023-02-16T09:49:55.408Z"
   },
   {
    "duration": 0,
    "start_time": "2023-02-16T09:49:55.409Z"
   },
   {
    "duration": 0,
    "start_time": "2023-02-16T09:49:55.410Z"
   },
   {
    "duration": 0,
    "start_time": "2023-02-16T09:49:55.411Z"
   },
   {
    "duration": 0,
    "start_time": "2023-02-16T09:49:55.411Z"
   },
   {
    "duration": 0,
    "start_time": "2023-02-16T09:49:55.412Z"
   },
   {
    "duration": 0,
    "start_time": "2023-02-16T09:49:55.413Z"
   },
   {
    "duration": 9,
    "start_time": "2023-02-16T09:50:06.659Z"
   },
   {
    "duration": 123,
    "start_time": "2023-02-16T09:50:09.034Z"
   }
  ],
  "hide_input": false,
  "kernelspec": {
   "display_name": "Python 3 (ipykernel)",
   "language": "python",
   "name": "python3"
  },
  "language_info": {
   "codemirror_mode": {
    "name": "ipython",
    "version": 3
   },
   "file_extension": ".py",
   "mimetype": "text/x-python",
   "name": "python",
   "nbconvert_exporter": "python",
   "pygments_lexer": "ipython3",
   "version": "3.9.12"
  },
  "toc": {
   "base_numbering": 1,
   "nav_menu": {},
   "number_sections": true,
   "sideBar": true,
   "skip_h1_title": true,
   "title_cell": "Table of Contents",
   "title_sidebar": "Contents",
   "toc_cell": false,
   "toc_position": {
    "height": "calc(100% - 180px)",
    "left": "10px",
    "top": "150px",
    "width": "320px"
   },
   "toc_section_display": true,
   "toc_window_display": true
  }
 },
 "nbformat": 4,
 "nbformat_minor": 5
}
