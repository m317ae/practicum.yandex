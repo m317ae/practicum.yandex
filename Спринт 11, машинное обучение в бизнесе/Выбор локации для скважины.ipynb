{
 "cells": [
  {
   "cell_type": "markdown",
   "metadata": {},
   "source": [
    "# Выбор локации для скважины"
   ]
  },
  {
   "cell_type": "markdown",
   "metadata": {},
   "source": [
    "Допустим, вы работаете в добывающей компании «ГлавРосГосНефть». Нужно решить, где бурить новую скважину.\n",
    "\n",
    "Вам предоставлены пробы нефти в трёх регионах: в каждом 10 000 месторождений, где измерили качество нефти и объём её запасов. Постройте модель машинного обучения, которая поможет определить регион, где добыча принесёт наибольшую прибыль. Проанализируйте возможную прибыль и риски техникой *Bootstrap.*\n",
    "\n",
    "Шаги для выбора локации:\n",
    "\n",
    "- В избранном регионе ищут месторождения, для каждого определяют значения признаков;\n",
    "- Строят модель и оценивают объём запасов;\n",
    "- Выбирают месторождения с самым высокими оценками значений. Количество месторождений зависит от бюджета компании и стоимости разработки одной скважины;\n",
    "- Прибыль равна суммарной прибыли отобранных месторождений.\n",
    "\n",
    "id — уникальный идентификатор скважины;\n",
    "\n",
    "f0, f1, f2 — три признака точек (неважно, что они означают, но сами признаки значимы);\n",
    "\n",
    "product — объём запасов в скважине (тыс. баррелей)."
   ]
  },
  {
   "cell_type": "markdown",
   "metadata": {},
   "source": [
    "## Загрузка и подготовка данных"
   ]
  },
  {
   "cell_type": "code",
   "execution_count": 1,
   "metadata": {},
   "outputs": [],
   "source": [
    "import pandas as pd\n",
    "import numpy as np\n",
    "from sklearn.linear_model import LinearRegression\n",
    "from sklearn.metrics import mean_squared_error\n",
    "from sklearn.preprocessing import StandardScaler \n",
    "from sklearn.metrics import accuracy_score\n",
    "from sklearn.model_selection import train_test_split\n",
    "\n",
    "import scipy.stats as st\n",
    "from sklearn.metrics import recall_score\n",
    "from sklearn.metrics import precision_score\n",
    "from sklearn.metrics import f1_score\n",
    "from sklearn.metrics import roc_auc_score\n",
    "import matplotlib.pyplot as plt \n",
    "from sklearn.metrics import roc_curve\n",
    "import random as rd"
   ]
  },
  {
   "cell_type": "code",
   "execution_count": 2,
   "metadata": {},
   "outputs": [],
   "source": [
    "geo_data = pd.read_csv('/datasets/geo_data_0.csv')\n",
    "geo_data1 = pd.read_csv('/datasets/geo_data_1.csv')\n",
    "geo_data2 = pd.read_csv('/datasets/geo_data_2.csv')"
   ]
  },
  {
   "cell_type": "code",
   "execution_count": 3,
   "metadata": {},
   "outputs": [
    {
     "data": {
      "text/html": [
       "<div>\n",
       "<style scoped>\n",
       "    .dataframe tbody tr th:only-of-type {\n",
       "        vertical-align: middle;\n",
       "    }\n",
       "\n",
       "    .dataframe tbody tr th {\n",
       "        vertical-align: top;\n",
       "    }\n",
       "\n",
       "    .dataframe thead th {\n",
       "        text-align: right;\n",
       "    }\n",
       "</style>\n",
       "<table border=\"1\" class=\"dataframe\">\n",
       "  <thead>\n",
       "    <tr style=\"text-align: right;\">\n",
       "      <th></th>\n",
       "      <th>id</th>\n",
       "      <th>f0</th>\n",
       "      <th>f1</th>\n",
       "      <th>f2</th>\n",
       "      <th>product</th>\n",
       "    </tr>\n",
       "  </thead>\n",
       "  <tbody>\n",
       "    <tr>\n",
       "      <th>0</th>\n",
       "      <td>txEyH</td>\n",
       "      <td>0.705745</td>\n",
       "      <td>-0.497823</td>\n",
       "      <td>1.221170</td>\n",
       "      <td>105.280062</td>\n",
       "    </tr>\n",
       "    <tr>\n",
       "      <th>1</th>\n",
       "      <td>2acmU</td>\n",
       "      <td>1.334711</td>\n",
       "      <td>-0.340164</td>\n",
       "      <td>4.365080</td>\n",
       "      <td>73.037750</td>\n",
       "    </tr>\n",
       "    <tr>\n",
       "      <th>2</th>\n",
       "      <td>409Wp</td>\n",
       "      <td>1.022732</td>\n",
       "      <td>0.151990</td>\n",
       "      <td>1.419926</td>\n",
       "      <td>85.265647</td>\n",
       "    </tr>\n",
       "    <tr>\n",
       "      <th>3</th>\n",
       "      <td>iJLyR</td>\n",
       "      <td>-0.032172</td>\n",
       "      <td>0.139033</td>\n",
       "      <td>2.978566</td>\n",
       "      <td>168.620776</td>\n",
       "    </tr>\n",
       "    <tr>\n",
       "      <th>4</th>\n",
       "      <td>Xdl7t</td>\n",
       "      <td>1.988431</td>\n",
       "      <td>0.155413</td>\n",
       "      <td>4.751769</td>\n",
       "      <td>154.036647</td>\n",
       "    </tr>\n",
       "  </tbody>\n",
       "</table>\n",
       "</div>"
      ],
      "text/plain": [
       "      id        f0        f1        f2     product\n",
       "0  txEyH  0.705745 -0.497823  1.221170  105.280062\n",
       "1  2acmU  1.334711 -0.340164  4.365080   73.037750\n",
       "2  409Wp  1.022732  0.151990  1.419926   85.265647\n",
       "3  iJLyR -0.032172  0.139033  2.978566  168.620776\n",
       "4  Xdl7t  1.988431  0.155413  4.751769  154.036647"
      ]
     },
     "execution_count": 3,
     "metadata": {},
     "output_type": "execute_result"
    }
   ],
   "source": [
    "geo_data.head() "
   ]
  },
  {
   "cell_type": "code",
   "execution_count": 4,
   "metadata": {},
   "outputs": [
    {
     "data": {
      "text/html": [
       "<div>\n",
       "<style scoped>\n",
       "    .dataframe tbody tr th:only-of-type {\n",
       "        vertical-align: middle;\n",
       "    }\n",
       "\n",
       "    .dataframe tbody tr th {\n",
       "        vertical-align: top;\n",
       "    }\n",
       "\n",
       "    .dataframe thead th {\n",
       "        text-align: right;\n",
       "    }\n",
       "</style>\n",
       "<table border=\"1\" class=\"dataframe\">\n",
       "  <thead>\n",
       "    <tr style=\"text-align: right;\">\n",
       "      <th></th>\n",
       "      <th>id</th>\n",
       "      <th>f0</th>\n",
       "      <th>f1</th>\n",
       "      <th>f2</th>\n",
       "      <th>product</th>\n",
       "    </tr>\n",
       "  </thead>\n",
       "  <tbody>\n",
       "    <tr>\n",
       "      <th>0</th>\n",
       "      <td>kBEdx</td>\n",
       "      <td>-15.001348</td>\n",
       "      <td>-8.276000</td>\n",
       "      <td>-0.005876</td>\n",
       "      <td>3.179103</td>\n",
       "    </tr>\n",
       "    <tr>\n",
       "      <th>1</th>\n",
       "      <td>62mP7</td>\n",
       "      <td>14.272088</td>\n",
       "      <td>-3.475083</td>\n",
       "      <td>0.999183</td>\n",
       "      <td>26.953261</td>\n",
       "    </tr>\n",
       "    <tr>\n",
       "      <th>2</th>\n",
       "      <td>vyE1P</td>\n",
       "      <td>6.263187</td>\n",
       "      <td>-5.948386</td>\n",
       "      <td>5.001160</td>\n",
       "      <td>134.766305</td>\n",
       "    </tr>\n",
       "    <tr>\n",
       "      <th>3</th>\n",
       "      <td>KcrkZ</td>\n",
       "      <td>-13.081196</td>\n",
       "      <td>-11.506057</td>\n",
       "      <td>4.999415</td>\n",
       "      <td>137.945408</td>\n",
       "    </tr>\n",
       "    <tr>\n",
       "      <th>4</th>\n",
       "      <td>AHL4O</td>\n",
       "      <td>12.702195</td>\n",
       "      <td>-8.147433</td>\n",
       "      <td>5.004363</td>\n",
       "      <td>134.766305</td>\n",
       "    </tr>\n",
       "  </tbody>\n",
       "</table>\n",
       "</div>"
      ],
      "text/plain": [
       "      id         f0         f1        f2     product\n",
       "0  kBEdx -15.001348  -8.276000 -0.005876    3.179103\n",
       "1  62mP7  14.272088  -3.475083  0.999183   26.953261\n",
       "2  vyE1P   6.263187  -5.948386  5.001160  134.766305\n",
       "3  KcrkZ -13.081196 -11.506057  4.999415  137.945408\n",
       "4  AHL4O  12.702195  -8.147433  5.004363  134.766305"
      ]
     },
     "execution_count": 4,
     "metadata": {},
     "output_type": "execute_result"
    }
   ],
   "source": [
    "geo_data1.head() "
   ]
  },
  {
   "cell_type": "code",
   "execution_count": 5,
   "metadata": {},
   "outputs": [
    {
     "data": {
      "text/html": [
       "<div>\n",
       "<style scoped>\n",
       "    .dataframe tbody tr th:only-of-type {\n",
       "        vertical-align: middle;\n",
       "    }\n",
       "\n",
       "    .dataframe tbody tr th {\n",
       "        vertical-align: top;\n",
       "    }\n",
       "\n",
       "    .dataframe thead th {\n",
       "        text-align: right;\n",
       "    }\n",
       "</style>\n",
       "<table border=\"1\" class=\"dataframe\">\n",
       "  <thead>\n",
       "    <tr style=\"text-align: right;\">\n",
       "      <th></th>\n",
       "      <th>id</th>\n",
       "      <th>f0</th>\n",
       "      <th>f1</th>\n",
       "      <th>f2</th>\n",
       "      <th>product</th>\n",
       "    </tr>\n",
       "  </thead>\n",
       "  <tbody>\n",
       "    <tr>\n",
       "      <th>0</th>\n",
       "      <td>fwXo0</td>\n",
       "      <td>-1.146987</td>\n",
       "      <td>0.963328</td>\n",
       "      <td>-0.828965</td>\n",
       "      <td>27.758673</td>\n",
       "    </tr>\n",
       "    <tr>\n",
       "      <th>1</th>\n",
       "      <td>WJtFt</td>\n",
       "      <td>0.262778</td>\n",
       "      <td>0.269839</td>\n",
       "      <td>-2.530187</td>\n",
       "      <td>56.069697</td>\n",
       "    </tr>\n",
       "    <tr>\n",
       "      <th>2</th>\n",
       "      <td>ovLUW</td>\n",
       "      <td>0.194587</td>\n",
       "      <td>0.289035</td>\n",
       "      <td>-5.586433</td>\n",
       "      <td>62.871910</td>\n",
       "    </tr>\n",
       "    <tr>\n",
       "      <th>3</th>\n",
       "      <td>q6cA6</td>\n",
       "      <td>2.236060</td>\n",
       "      <td>-0.553760</td>\n",
       "      <td>0.930038</td>\n",
       "      <td>114.572842</td>\n",
       "    </tr>\n",
       "    <tr>\n",
       "      <th>4</th>\n",
       "      <td>WPMUX</td>\n",
       "      <td>-0.515993</td>\n",
       "      <td>1.716266</td>\n",
       "      <td>5.899011</td>\n",
       "      <td>149.600746</td>\n",
       "    </tr>\n",
       "  </tbody>\n",
       "</table>\n",
       "</div>"
      ],
      "text/plain": [
       "      id        f0        f1        f2     product\n",
       "0  fwXo0 -1.146987  0.963328 -0.828965   27.758673\n",
       "1  WJtFt  0.262778  0.269839 -2.530187   56.069697\n",
       "2  ovLUW  0.194587  0.289035 -5.586433   62.871910\n",
       "3  q6cA6  2.236060 -0.553760  0.930038  114.572842\n",
       "4  WPMUX -0.515993  1.716266  5.899011  149.600746"
      ]
     },
     "execution_count": 5,
     "metadata": {},
     "output_type": "execute_result"
    }
   ],
   "source": [
    "geo_data2.head() "
   ]
  },
  {
   "cell_type": "code",
   "execution_count": 6,
   "metadata": {},
   "outputs": [
    {
     "name": "stdout",
     "output_type": "stream",
     "text": [
      "<class 'pandas.core.frame.DataFrame'>\n",
      "RangeIndex: 100000 entries, 0 to 99999\n",
      "Data columns (total 5 columns):\n",
      " #   Column   Non-Null Count   Dtype  \n",
      "---  ------   --------------   -----  \n",
      " 0   id       100000 non-null  object \n",
      " 1   f0       100000 non-null  float64\n",
      " 2   f1       100000 non-null  float64\n",
      " 3   f2       100000 non-null  float64\n",
      " 4   product  100000 non-null  float64\n",
      "dtypes: float64(4), object(1)\n",
      "memory usage: 3.8+ MB\n",
      "\n",
      "<class 'pandas.core.frame.DataFrame'>\n",
      "RangeIndex: 100000 entries, 0 to 99999\n",
      "Data columns (total 5 columns):\n",
      " #   Column   Non-Null Count   Dtype  \n",
      "---  ------   --------------   -----  \n",
      " 0   id       100000 non-null  object \n",
      " 1   f0       100000 non-null  float64\n",
      " 2   f1       100000 non-null  float64\n",
      " 3   f2       100000 non-null  float64\n",
      " 4   product  100000 non-null  float64\n",
      "dtypes: float64(4), object(1)\n",
      "memory usage: 3.8+ MB\n",
      "\n",
      "<class 'pandas.core.frame.DataFrame'>\n",
      "RangeIndex: 100000 entries, 0 to 99999\n",
      "Data columns (total 5 columns):\n",
      " #   Column   Non-Null Count   Dtype  \n",
      "---  ------   --------------   -----  \n",
      " 0   id       100000 non-null  object \n",
      " 1   f0       100000 non-null  float64\n",
      " 2   f1       100000 non-null  float64\n",
      " 3   f2       100000 non-null  float64\n",
      " 4   product  100000 non-null  float64\n",
      "dtypes: float64(4), object(1)\n",
      "memory usage: 3.8+ MB\n"
     ]
    }
   ],
   "source": [
    "geo_data.info()\n",
    "print()\n",
    "geo_data.info()\n",
    "print()\n",
    "geo_data2.info()"
   ]
  },
  {
   "cell_type": "code",
   "execution_count": 7,
   "metadata": {},
   "outputs": [
    {
     "data": {
      "text/html": [
       "<div>\n",
       "<style scoped>\n",
       "    .dataframe tbody tr th:only-of-type {\n",
       "        vertical-align: middle;\n",
       "    }\n",
       "\n",
       "    .dataframe tbody tr th {\n",
       "        vertical-align: top;\n",
       "    }\n",
       "\n",
       "    .dataframe thead th {\n",
       "        text-align: right;\n",
       "    }\n",
       "</style>\n",
       "<table border=\"1\" class=\"dataframe\">\n",
       "  <thead>\n",
       "    <tr style=\"text-align: right;\">\n",
       "      <th></th>\n",
       "      <th>f0</th>\n",
       "      <th>f1</th>\n",
       "      <th>f2</th>\n",
       "      <th>product</th>\n",
       "    </tr>\n",
       "  </thead>\n",
       "  <tbody>\n",
       "    <tr>\n",
       "      <th>count</th>\n",
       "      <td>100000.000000</td>\n",
       "      <td>100000.000000</td>\n",
       "      <td>100000.000000</td>\n",
       "      <td>100000.000000</td>\n",
       "    </tr>\n",
       "    <tr>\n",
       "      <th>mean</th>\n",
       "      <td>0.500419</td>\n",
       "      <td>0.250143</td>\n",
       "      <td>2.502647</td>\n",
       "      <td>92.500000</td>\n",
       "    </tr>\n",
       "    <tr>\n",
       "      <th>std</th>\n",
       "      <td>0.871832</td>\n",
       "      <td>0.504433</td>\n",
       "      <td>3.248248</td>\n",
       "      <td>44.288691</td>\n",
       "    </tr>\n",
       "    <tr>\n",
       "      <th>min</th>\n",
       "      <td>-1.408605</td>\n",
       "      <td>-0.848218</td>\n",
       "      <td>-12.088328</td>\n",
       "      <td>0.000000</td>\n",
       "    </tr>\n",
       "    <tr>\n",
       "      <th>25%</th>\n",
       "      <td>-0.072580</td>\n",
       "      <td>-0.200881</td>\n",
       "      <td>0.287748</td>\n",
       "      <td>56.497507</td>\n",
       "    </tr>\n",
       "    <tr>\n",
       "      <th>50%</th>\n",
       "      <td>0.502360</td>\n",
       "      <td>0.250252</td>\n",
       "      <td>2.515969</td>\n",
       "      <td>91.849972</td>\n",
       "    </tr>\n",
       "    <tr>\n",
       "      <th>75%</th>\n",
       "      <td>1.073581</td>\n",
       "      <td>0.700646</td>\n",
       "      <td>4.715088</td>\n",
       "      <td>128.564089</td>\n",
       "    </tr>\n",
       "    <tr>\n",
       "      <th>max</th>\n",
       "      <td>2.362331</td>\n",
       "      <td>1.343769</td>\n",
       "      <td>16.003790</td>\n",
       "      <td>185.364347</td>\n",
       "    </tr>\n",
       "  </tbody>\n",
       "</table>\n",
       "</div>"
      ],
      "text/plain": [
       "                  f0             f1             f2        product\n",
       "count  100000.000000  100000.000000  100000.000000  100000.000000\n",
       "mean        0.500419       0.250143       2.502647      92.500000\n",
       "std         0.871832       0.504433       3.248248      44.288691\n",
       "min        -1.408605      -0.848218     -12.088328       0.000000\n",
       "25%        -0.072580      -0.200881       0.287748      56.497507\n",
       "50%         0.502360       0.250252       2.515969      91.849972\n",
       "75%         1.073581       0.700646       4.715088     128.564089\n",
       "max         2.362331       1.343769      16.003790     185.364347"
      ]
     },
     "execution_count": 7,
     "metadata": {},
     "output_type": "execute_result"
    }
   ],
   "source": [
    "geo_data.describe()"
   ]
  },
  {
   "cell_type": "code",
   "execution_count": 8,
   "metadata": {},
   "outputs": [
    {
     "data": {
      "text/html": [
       "<div>\n",
       "<style scoped>\n",
       "    .dataframe tbody tr th:only-of-type {\n",
       "        vertical-align: middle;\n",
       "    }\n",
       "\n",
       "    .dataframe tbody tr th {\n",
       "        vertical-align: top;\n",
       "    }\n",
       "\n",
       "    .dataframe thead th {\n",
       "        text-align: right;\n",
       "    }\n",
       "</style>\n",
       "<table border=\"1\" class=\"dataframe\">\n",
       "  <thead>\n",
       "    <tr style=\"text-align: right;\">\n",
       "      <th></th>\n",
       "      <th>f0</th>\n",
       "      <th>f1</th>\n",
       "      <th>f2</th>\n",
       "      <th>product</th>\n",
       "    </tr>\n",
       "  </thead>\n",
       "  <tbody>\n",
       "    <tr>\n",
       "      <th>count</th>\n",
       "      <td>100000.000000</td>\n",
       "      <td>100000.000000</td>\n",
       "      <td>100000.000000</td>\n",
       "      <td>100000.000000</td>\n",
       "    </tr>\n",
       "    <tr>\n",
       "      <th>mean</th>\n",
       "      <td>0.500419</td>\n",
       "      <td>0.250143</td>\n",
       "      <td>2.502647</td>\n",
       "      <td>92.500000</td>\n",
       "    </tr>\n",
       "    <tr>\n",
       "      <th>std</th>\n",
       "      <td>0.871832</td>\n",
       "      <td>0.504433</td>\n",
       "      <td>3.248248</td>\n",
       "      <td>44.288691</td>\n",
       "    </tr>\n",
       "    <tr>\n",
       "      <th>min</th>\n",
       "      <td>-1.408605</td>\n",
       "      <td>-0.848218</td>\n",
       "      <td>-12.088328</td>\n",
       "      <td>0.000000</td>\n",
       "    </tr>\n",
       "    <tr>\n",
       "      <th>25%</th>\n",
       "      <td>-0.072580</td>\n",
       "      <td>-0.200881</td>\n",
       "      <td>0.287748</td>\n",
       "      <td>56.497507</td>\n",
       "    </tr>\n",
       "    <tr>\n",
       "      <th>50%</th>\n",
       "      <td>0.502360</td>\n",
       "      <td>0.250252</td>\n",
       "      <td>2.515969</td>\n",
       "      <td>91.849972</td>\n",
       "    </tr>\n",
       "    <tr>\n",
       "      <th>75%</th>\n",
       "      <td>1.073581</td>\n",
       "      <td>0.700646</td>\n",
       "      <td>4.715088</td>\n",
       "      <td>128.564089</td>\n",
       "    </tr>\n",
       "    <tr>\n",
       "      <th>max</th>\n",
       "      <td>2.362331</td>\n",
       "      <td>1.343769</td>\n",
       "      <td>16.003790</td>\n",
       "      <td>185.364347</td>\n",
       "    </tr>\n",
       "  </tbody>\n",
       "</table>\n",
       "</div>"
      ],
      "text/plain": [
       "                  f0             f1             f2        product\n",
       "count  100000.000000  100000.000000  100000.000000  100000.000000\n",
       "mean        0.500419       0.250143       2.502647      92.500000\n",
       "std         0.871832       0.504433       3.248248      44.288691\n",
       "min        -1.408605      -0.848218     -12.088328       0.000000\n",
       "25%        -0.072580      -0.200881       0.287748      56.497507\n",
       "50%         0.502360       0.250252       2.515969      91.849972\n",
       "75%         1.073581       0.700646       4.715088     128.564089\n",
       "max         2.362331       1.343769      16.003790     185.364347"
      ]
     },
     "execution_count": 8,
     "metadata": {},
     "output_type": "execute_result"
    }
   ],
   "source": [
    "geo_data.describe()"
   ]
  },
  {
   "cell_type": "code",
   "execution_count": 9,
   "metadata": {},
   "outputs": [
    {
     "data": {
      "text/html": [
       "<div>\n",
       "<style scoped>\n",
       "    .dataframe tbody tr th:only-of-type {\n",
       "        vertical-align: middle;\n",
       "    }\n",
       "\n",
       "    .dataframe tbody tr th {\n",
       "        vertical-align: top;\n",
       "    }\n",
       "\n",
       "    .dataframe thead th {\n",
       "        text-align: right;\n",
       "    }\n",
       "</style>\n",
       "<table border=\"1\" class=\"dataframe\">\n",
       "  <thead>\n",
       "    <tr style=\"text-align: right;\">\n",
       "      <th></th>\n",
       "      <th>f0</th>\n",
       "      <th>f1</th>\n",
       "      <th>f2</th>\n",
       "      <th>product</th>\n",
       "    </tr>\n",
       "  </thead>\n",
       "  <tbody>\n",
       "    <tr>\n",
       "      <th>count</th>\n",
       "      <td>100000.000000</td>\n",
       "      <td>100000.000000</td>\n",
       "      <td>100000.000000</td>\n",
       "      <td>100000.000000</td>\n",
       "    </tr>\n",
       "    <tr>\n",
       "      <th>mean</th>\n",
       "      <td>0.002023</td>\n",
       "      <td>-0.002081</td>\n",
       "      <td>2.495128</td>\n",
       "      <td>95.000000</td>\n",
       "    </tr>\n",
       "    <tr>\n",
       "      <th>std</th>\n",
       "      <td>1.732045</td>\n",
       "      <td>1.730417</td>\n",
       "      <td>3.473445</td>\n",
       "      <td>44.749921</td>\n",
       "    </tr>\n",
       "    <tr>\n",
       "      <th>min</th>\n",
       "      <td>-8.760004</td>\n",
       "      <td>-7.084020</td>\n",
       "      <td>-11.970335</td>\n",
       "      <td>0.000000</td>\n",
       "    </tr>\n",
       "    <tr>\n",
       "      <th>25%</th>\n",
       "      <td>-1.162288</td>\n",
       "      <td>-1.174820</td>\n",
       "      <td>0.130359</td>\n",
       "      <td>59.450441</td>\n",
       "    </tr>\n",
       "    <tr>\n",
       "      <th>50%</th>\n",
       "      <td>0.009424</td>\n",
       "      <td>-0.009482</td>\n",
       "      <td>2.484236</td>\n",
       "      <td>94.925613</td>\n",
       "    </tr>\n",
       "    <tr>\n",
       "      <th>75%</th>\n",
       "      <td>1.158535</td>\n",
       "      <td>1.163678</td>\n",
       "      <td>4.858794</td>\n",
       "      <td>130.595027</td>\n",
       "    </tr>\n",
       "    <tr>\n",
       "      <th>max</th>\n",
       "      <td>7.238262</td>\n",
       "      <td>7.844801</td>\n",
       "      <td>16.739402</td>\n",
       "      <td>190.029838</td>\n",
       "    </tr>\n",
       "  </tbody>\n",
       "</table>\n",
       "</div>"
      ],
      "text/plain": [
       "                  f0             f1             f2        product\n",
       "count  100000.000000  100000.000000  100000.000000  100000.000000\n",
       "mean        0.002023      -0.002081       2.495128      95.000000\n",
       "std         1.732045       1.730417       3.473445      44.749921\n",
       "min        -8.760004      -7.084020     -11.970335       0.000000\n",
       "25%        -1.162288      -1.174820       0.130359      59.450441\n",
       "50%         0.009424      -0.009482       2.484236      94.925613\n",
       "75%         1.158535       1.163678       4.858794     130.595027\n",
       "max         7.238262       7.844801      16.739402     190.029838"
      ]
     },
     "execution_count": 9,
     "metadata": {},
     "output_type": "execute_result"
    }
   ],
   "source": [
    "geo_data2.describe()"
   ]
  },
  {
   "cell_type": "markdown",
   "metadata": {},
   "source": [
    "Данные из 3_х ДФ содержат данные о характеристиках скважин в 3_х регионах. Для каждого региона в ДФ по 10тыс событий. Данные полные, не нуждаются в предобработке. В столбце product данные по всем ДФ распеределны схоже. Про контекст столбцов f0,f1,f2 ничего не изветсно, по этому не буем делать по ним выводы."
   ]
  },
  {
   "cell_type": "markdown",
   "metadata": {},
   "source": [
    "Проверим данные на корреляцию."
   ]
  },
  {
   "cell_type": "code",
   "execution_count": 10,
   "metadata": {},
   "outputs": [
    {
     "data": {
      "text/html": [
       "<div>\n",
       "<style scoped>\n",
       "    .dataframe tbody tr th:only-of-type {\n",
       "        vertical-align: middle;\n",
       "    }\n",
       "\n",
       "    .dataframe tbody tr th {\n",
       "        vertical-align: top;\n",
       "    }\n",
       "\n",
       "    .dataframe thead th {\n",
       "        text-align: right;\n",
       "    }\n",
       "</style>\n",
       "<table border=\"1\" class=\"dataframe\">\n",
       "  <thead>\n",
       "    <tr style=\"text-align: right;\">\n",
       "      <th></th>\n",
       "      <th>f0</th>\n",
       "      <th>f1</th>\n",
       "      <th>f2</th>\n",
       "      <th>product</th>\n",
       "    </tr>\n",
       "  </thead>\n",
       "  <tbody>\n",
       "    <tr>\n",
       "      <th>f0</th>\n",
       "      <td>1.000000</td>\n",
       "      <td>-0.440723</td>\n",
       "      <td>-0.003153</td>\n",
       "      <td>0.143536</td>\n",
       "    </tr>\n",
       "    <tr>\n",
       "      <th>f1</th>\n",
       "      <td>-0.440723</td>\n",
       "      <td>1.000000</td>\n",
       "      <td>0.001724</td>\n",
       "      <td>-0.192356</td>\n",
       "    </tr>\n",
       "    <tr>\n",
       "      <th>f2</th>\n",
       "      <td>-0.003153</td>\n",
       "      <td>0.001724</td>\n",
       "      <td>1.000000</td>\n",
       "      <td>0.483663</td>\n",
       "    </tr>\n",
       "    <tr>\n",
       "      <th>product</th>\n",
       "      <td>0.143536</td>\n",
       "      <td>-0.192356</td>\n",
       "      <td>0.483663</td>\n",
       "      <td>1.000000</td>\n",
       "    </tr>\n",
       "  </tbody>\n",
       "</table>\n",
       "</div>"
      ],
      "text/plain": [
       "               f0        f1        f2   product\n",
       "f0       1.000000 -0.440723 -0.003153  0.143536\n",
       "f1      -0.440723  1.000000  0.001724 -0.192356\n",
       "f2      -0.003153  0.001724  1.000000  0.483663\n",
       "product  0.143536 -0.192356  0.483663  1.000000"
      ]
     },
     "execution_count": 10,
     "metadata": {},
     "output_type": "execute_result"
    }
   ],
   "source": [
    "geo_data.corr()"
   ]
  },
  {
   "cell_type": "code",
   "execution_count": 11,
   "metadata": {},
   "outputs": [
    {
     "data": {
      "text/html": [
       "<div>\n",
       "<style scoped>\n",
       "    .dataframe tbody tr th:only-of-type {\n",
       "        vertical-align: middle;\n",
       "    }\n",
       "\n",
       "    .dataframe tbody tr th {\n",
       "        vertical-align: top;\n",
       "    }\n",
       "\n",
       "    .dataframe thead th {\n",
       "        text-align: right;\n",
       "    }\n",
       "</style>\n",
       "<table border=\"1\" class=\"dataframe\">\n",
       "  <thead>\n",
       "    <tr style=\"text-align: right;\">\n",
       "      <th></th>\n",
       "      <th>f0</th>\n",
       "      <th>f1</th>\n",
       "      <th>f2</th>\n",
       "      <th>product</th>\n",
       "    </tr>\n",
       "  </thead>\n",
       "  <tbody>\n",
       "    <tr>\n",
       "      <th>f0</th>\n",
       "      <td>1.000000</td>\n",
       "      <td>0.182287</td>\n",
       "      <td>-0.001777</td>\n",
       "      <td>-0.030491</td>\n",
       "    </tr>\n",
       "    <tr>\n",
       "      <th>f1</th>\n",
       "      <td>0.182287</td>\n",
       "      <td>1.000000</td>\n",
       "      <td>-0.002595</td>\n",
       "      <td>-0.010155</td>\n",
       "    </tr>\n",
       "    <tr>\n",
       "      <th>f2</th>\n",
       "      <td>-0.001777</td>\n",
       "      <td>-0.002595</td>\n",
       "      <td>1.000000</td>\n",
       "      <td>0.999397</td>\n",
       "    </tr>\n",
       "    <tr>\n",
       "      <th>product</th>\n",
       "      <td>-0.030491</td>\n",
       "      <td>-0.010155</td>\n",
       "      <td>0.999397</td>\n",
       "      <td>1.000000</td>\n",
       "    </tr>\n",
       "  </tbody>\n",
       "</table>\n",
       "</div>"
      ],
      "text/plain": [
       "               f0        f1        f2   product\n",
       "f0       1.000000  0.182287 -0.001777 -0.030491\n",
       "f1       0.182287  1.000000 -0.002595 -0.010155\n",
       "f2      -0.001777 -0.002595  1.000000  0.999397\n",
       "product -0.030491 -0.010155  0.999397  1.000000"
      ]
     },
     "execution_count": 11,
     "metadata": {},
     "output_type": "execute_result"
    }
   ],
   "source": [
    "geo_data1.corr()"
   ]
  },
  {
   "cell_type": "code",
   "execution_count": 12,
   "metadata": {},
   "outputs": [
    {
     "data": {
      "text/html": [
       "<div>\n",
       "<style scoped>\n",
       "    .dataframe tbody tr th:only-of-type {\n",
       "        vertical-align: middle;\n",
       "    }\n",
       "\n",
       "    .dataframe tbody tr th {\n",
       "        vertical-align: top;\n",
       "    }\n",
       "\n",
       "    .dataframe thead th {\n",
       "        text-align: right;\n",
       "    }\n",
       "</style>\n",
       "<table border=\"1\" class=\"dataframe\">\n",
       "  <thead>\n",
       "    <tr style=\"text-align: right;\">\n",
       "      <th></th>\n",
       "      <th>f0</th>\n",
       "      <th>f1</th>\n",
       "      <th>f2</th>\n",
       "      <th>product</th>\n",
       "    </tr>\n",
       "  </thead>\n",
       "  <tbody>\n",
       "    <tr>\n",
       "      <th>f0</th>\n",
       "      <td>1.000000</td>\n",
       "      <td>0.000528</td>\n",
       "      <td>-0.000448</td>\n",
       "      <td>-0.001987</td>\n",
       "    </tr>\n",
       "    <tr>\n",
       "      <th>f1</th>\n",
       "      <td>0.000528</td>\n",
       "      <td>1.000000</td>\n",
       "      <td>0.000779</td>\n",
       "      <td>-0.001012</td>\n",
       "    </tr>\n",
       "    <tr>\n",
       "      <th>f2</th>\n",
       "      <td>-0.000448</td>\n",
       "      <td>0.000779</td>\n",
       "      <td>1.000000</td>\n",
       "      <td>0.445871</td>\n",
       "    </tr>\n",
       "    <tr>\n",
       "      <th>product</th>\n",
       "      <td>-0.001987</td>\n",
       "      <td>-0.001012</td>\n",
       "      <td>0.445871</td>\n",
       "      <td>1.000000</td>\n",
       "    </tr>\n",
       "  </tbody>\n",
       "</table>\n",
       "</div>"
      ],
      "text/plain": [
       "               f0        f1        f2   product\n",
       "f0       1.000000  0.000528 -0.000448 -0.001987\n",
       "f1       0.000528  1.000000  0.000779 -0.001012\n",
       "f2      -0.000448  0.000779  1.000000  0.445871\n",
       "product -0.001987 -0.001012  0.445871  1.000000"
      ]
     },
     "execution_count": 12,
     "metadata": {},
     "output_type": "execute_result"
    }
   ],
   "source": [
    "geo_data2.corr()"
   ]
  },
  {
   "cell_type": "markdown",
   "metadata": {},
   "source": [
    "Корреляции между данными, которые будем использовать в вобучении не обнаружено, что говорит о том, что ошибка мультиколинеарности нам не грозит.  При этом видно, что целевой признак product во многом зависит от значения f2."
   ]
  },
  {
   "cell_type": "code",
   "execution_count": 13,
   "metadata": {},
   "outputs": [
    {
     "data": {
      "text/plain": [
       "0"
      ]
     },
     "execution_count": 13,
     "metadata": {},
     "output_type": "execute_result"
    }
   ],
   "source": [
    "geo_data.duplicated().sum()\n",
    "geo_data1.duplicated().sum()\n",
    "geo_data2.duplicated().sum()"
   ]
  },
  {
   "cell_type": "code",
   "execution_count": 14,
   "metadata": {},
   "outputs": [
    {
     "data": {
      "text/plain": [
       "99996"
      ]
     },
     "execution_count": 14,
     "metadata": {},
     "output_type": "execute_result"
    }
   ],
   "source": [
    "len(geo_data1['id'].unique())\n",
    "len(geo_data['id'].unique())\n",
    "len(geo_data2['id'].unique())"
   ]
  },
  {
   "cell_type": "markdown",
   "metadata": {},
   "source": [
    "ДФ не имеют явных дубликатов строк, при этом единственный столбец с категориальными данными - id имеет незначительное кол-во повторов. Получатестся, что для одной и той же скважины несколько раз брали пробы с разными показателями. Либо в данные просто вкралась ошибка. посмотрим строки с этими id более детально"
   ]
  },
  {
   "cell_type": "code",
   "execution_count": 15,
   "metadata": {},
   "outputs": [
    {
     "data": {
      "text/html": [
       "<div>\n",
       "<style scoped>\n",
       "    .dataframe tbody tr th:only-of-type {\n",
       "        vertical-align: middle;\n",
       "    }\n",
       "\n",
       "    .dataframe tbody tr th {\n",
       "        vertical-align: top;\n",
       "    }\n",
       "\n",
       "    .dataframe thead th {\n",
       "        text-align: right;\n",
       "    }\n",
       "</style>\n",
       "<table border=\"1\" class=\"dataframe\">\n",
       "  <thead>\n",
       "    <tr style=\"text-align: right;\">\n",
       "      <th></th>\n",
       "      <th>f0</th>\n",
       "    </tr>\n",
       "    <tr>\n",
       "      <th>id</th>\n",
       "      <th></th>\n",
       "    </tr>\n",
       "  </thead>\n",
       "  <tbody>\n",
       "    <tr>\n",
       "      <th>Tdehs</th>\n",
       "      <td>2</td>\n",
       "    </tr>\n",
       "    <tr>\n",
       "      <th>bxg6G</th>\n",
       "      <td>2</td>\n",
       "    </tr>\n",
       "    <tr>\n",
       "      <th>QcMuo</th>\n",
       "      <td>2</td>\n",
       "    </tr>\n",
       "    <tr>\n",
       "      <th>HZww2</th>\n",
       "      <td>2</td>\n",
       "    </tr>\n",
       "    <tr>\n",
       "      <th>TtcGQ</th>\n",
       "      <td>2</td>\n",
       "    </tr>\n",
       "    <tr>\n",
       "      <th>AGS9W</th>\n",
       "      <td>2</td>\n",
       "    </tr>\n",
       "    <tr>\n",
       "      <th>fiKDv</th>\n",
       "      <td>2</td>\n",
       "    </tr>\n",
       "    <tr>\n",
       "      <th>bsk9y</th>\n",
       "      <td>2</td>\n",
       "    </tr>\n",
       "    <tr>\n",
       "      <th>A5aEY</th>\n",
       "      <td>2</td>\n",
       "    </tr>\n",
       "    <tr>\n",
       "      <th>74z30</th>\n",
       "      <td>2</td>\n",
       "    </tr>\n",
       "  </tbody>\n",
       "</table>\n",
       "</div>"
      ],
      "text/plain": [
       "       f0\n",
       "id       \n",
       "Tdehs   2\n",
       "bxg6G   2\n",
       "QcMuo   2\n",
       "HZww2   2\n",
       "TtcGQ   2\n",
       "AGS9W   2\n",
       "fiKDv   2\n",
       "bsk9y   2\n",
       "A5aEY   2\n",
       "74z30   2"
      ]
     },
     "execution_count": 15,
     "metadata": {},
     "output_type": "execute_result"
    }
   ],
   "source": [
    "duplicated_df = geo_data.pivot_table(index='id', values='f0', aggfunc='count')\n",
    "duplicated_df.sort_values(by='f0', ascending=False).head(10)"
   ]
  },
  {
   "cell_type": "code",
   "execution_count": 16,
   "metadata": {},
   "outputs": [
    {
     "data": {
      "text/html": [
       "<div>\n",
       "<style scoped>\n",
       "    .dataframe tbody tr th:only-of-type {\n",
       "        vertical-align: middle;\n",
       "    }\n",
       "\n",
       "    .dataframe tbody tr th {\n",
       "        vertical-align: top;\n",
       "    }\n",
       "\n",
       "    .dataframe thead th {\n",
       "        text-align: right;\n",
       "    }\n",
       "</style>\n",
       "<table border=\"1\" class=\"dataframe\">\n",
       "  <thead>\n",
       "    <tr style=\"text-align: right;\">\n",
       "      <th></th>\n",
       "      <th>id</th>\n",
       "      <th>f0</th>\n",
       "      <th>f1</th>\n",
       "      <th>f2</th>\n",
       "      <th>product</th>\n",
       "    </tr>\n",
       "  </thead>\n",
       "  <tbody>\n",
       "    <tr>\n",
       "      <th>1949</th>\n",
       "      <td>QcMuo</td>\n",
       "      <td>0.506563</td>\n",
       "      <td>-0.323775</td>\n",
       "      <td>-2.215583</td>\n",
       "      <td>75.496502</td>\n",
       "    </tr>\n",
       "    <tr>\n",
       "      <th>63593</th>\n",
       "      <td>QcMuo</td>\n",
       "      <td>0.635635</td>\n",
       "      <td>-0.473422</td>\n",
       "      <td>0.862670</td>\n",
       "      <td>64.578675</td>\n",
       "    </tr>\n",
       "  </tbody>\n",
       "</table>\n",
       "</div>"
      ],
      "text/plain": [
       "          id        f0        f1        f2    product\n",
       "1949   QcMuo  0.506563 -0.323775 -2.215583  75.496502\n",
       "63593  QcMuo  0.635635 -0.473422  0.862670  64.578675"
      ]
     },
     "execution_count": 16,
     "metadata": {},
     "output_type": "execute_result"
    }
   ],
   "source": [
    "geo_data[geo_data['id']=='QcMuo']"
   ]
  },
  {
   "cell_type": "markdown",
   "metadata": {},
   "source": [
    "Соверщенно разные показатели для однойго и того же id. В данных скорей всего ошибка. Нельзя утверждать, т.к. нет понимания, что скрыто за f0-f2 и не известен . Учитывая ничтожное кол-во таких подозриельных строк, оставим ДФ как есть."
   ]
  },
  {
   "cell_type": "markdown",
   "metadata": {},
   "source": [
    "Т.к. столбец с id не может пригодиться при обучении - избавимся от него"
   ]
  },
  {
   "cell_type": "code",
   "execution_count": 17,
   "metadata": {},
   "outputs": [],
   "source": [
    "geo_data = geo_data.drop(['id'], axis=1)\n",
    "geo_data1 = geo_data1.drop(['id'], axis=1)\n",
    "geo_data2 = geo_data2.drop(['id'], axis=1)"
   ]
  },
  {
   "cell_type": "code",
   "execution_count": 18,
   "metadata": {},
   "outputs": [
    {
     "name": "stdout",
     "output_type": "stream",
     "text": [
      "<class 'pandas.core.frame.DataFrame'>\n",
      "RangeIndex: 100000 entries, 0 to 99999\n",
      "Data columns (total 4 columns):\n",
      " #   Column   Non-Null Count   Dtype  \n",
      "---  ------   --------------   -----  \n",
      " 0   f0       100000 non-null  float64\n",
      " 1   f1       100000 non-null  float64\n",
      " 2   f2       100000 non-null  float64\n",
      " 3   product  100000 non-null  float64\n",
      "dtypes: float64(4)\n",
      "memory usage: 3.1 MB\n",
      "\n",
      "<class 'pandas.core.frame.DataFrame'>\n",
      "RangeIndex: 100000 entries, 0 to 99999\n",
      "Data columns (total 4 columns):\n",
      " #   Column   Non-Null Count   Dtype  \n",
      "---  ------   --------------   -----  \n",
      " 0   f0       100000 non-null  float64\n",
      " 1   f1       100000 non-null  float64\n",
      " 2   f2       100000 non-null  float64\n",
      " 3   product  100000 non-null  float64\n",
      "dtypes: float64(4)\n",
      "memory usage: 3.1 MB\n",
      "\n",
      "<class 'pandas.core.frame.DataFrame'>\n",
      "RangeIndex: 100000 entries, 0 to 99999\n",
      "Data columns (total 4 columns):\n",
      " #   Column   Non-Null Count   Dtype  \n",
      "---  ------   --------------   -----  \n",
      " 0   f0       100000 non-null  float64\n",
      " 1   f1       100000 non-null  float64\n",
      " 2   f2       100000 non-null  float64\n",
      " 3   product  100000 non-null  float64\n",
      "dtypes: float64(4)\n",
      "memory usage: 3.1 MB\n"
     ]
    }
   ],
   "source": [
    "geo_data.info()\n",
    "print()\n",
    "geo_data.info()\n",
    "print()\n",
    "geo_data2.info()"
   ]
  },
  {
   "cell_type": "markdown",
   "metadata": {},
   "source": [
    "Данные готовы к работе с моделью"
   ]
  },
  {
   "cell_type": "markdown",
   "metadata": {},
   "source": [
    "## Обучение и проверка модели"
   ]
  },
  {
   "cell_type": "markdown",
   "metadata": {},
   "source": [
    "Т.к. имеем 3 ДФ одинаковой конфигурации напишем функцию для подготовки обучающей и тестовой выборок\n",
    "\n",
    "Поскольку признаки могут быть отображены в разных единицах, для предотвращения возможного искажения результата применим масштабирование"
   ]
  },
  {
   "cell_type": "code",
   "execution_count": 19,
   "metadata": {},
   "outputs": [],
   "source": [
    "def pre_processing (df):\n",
    "    features = df.drop('product', axis=1)\n",
    "    target = df['product']\n",
    "    f_train, f_valid, t_train, t_valid = train_test_split(features, target, test_size=0.25, random_state=5)\n",
    "    # проведем масштабирование\n",
    "    index = ['f0', 'f1', 'f2']\n",
    "    scaler = StandardScaler()\n",
    "    scaler.fit(f_train[index])\n",
    "\n",
    "    f_train[index] = scaler.transform(f_train[index])\n",
    "    f_valid[index] = scaler.transform(f_valid[index])\n",
    "    \n",
    "    return f_train, f_valid, t_train, t_valid   "
   ]
  },
  {
   "cell_type": "code",
   "execution_count": 20,
   "metadata": {},
   "outputs": [
    {
     "name": "stderr",
     "output_type": "stream",
     "text": [
      "/tmp/ipykernel_93/295275402.py:10: SettingWithCopyWarning: \n",
      "A value is trying to be set on a copy of a slice from a DataFrame.\n",
      "Try using .loc[row_indexer,col_indexer] = value instead\n",
      "\n",
      "See the caveats in the documentation: https://pandas.pydata.org/pandas-docs/stable/user_guide/indexing.html#returning-a-view-versus-a-copy\n",
      "  f_train[index] = scaler.transform(f_train[index])\n",
      "/opt/conda/lib/python3.9/site-packages/pandas/core/indexing.py:1637: SettingWithCopyWarning: \n",
      "A value is trying to be set on a copy of a slice from a DataFrame\n",
      "\n",
      "See the caveats in the documentation: https://pandas.pydata.org/pandas-docs/stable/user_guide/indexing.html#returning-a-view-versus-a-copy\n",
      "  self._setitem_single_block(indexer, value, name)\n",
      "/opt/conda/lib/python3.9/site-packages/pandas/core/indexing.py:692: SettingWithCopyWarning: \n",
      "A value is trying to be set on a copy of a slice from a DataFrame\n",
      "\n",
      "See the caveats in the documentation: https://pandas.pydata.org/pandas-docs/stable/user_guide/indexing.html#returning-a-view-versus-a-copy\n",
      "  iloc._setitem_with_indexer(indexer, value, self.name)\n",
      "/tmp/ipykernel_93/295275402.py:11: SettingWithCopyWarning: \n",
      "A value is trying to be set on a copy of a slice from a DataFrame.\n",
      "Try using .loc[row_indexer,col_indexer] = value instead\n",
      "\n",
      "See the caveats in the documentation: https://pandas.pydata.org/pandas-docs/stable/user_guide/indexing.html#returning-a-view-versus-a-copy\n",
      "  f_valid[index] = scaler.transform(f_valid[index])\n",
      "/opt/conda/lib/python3.9/site-packages/pandas/core/indexing.py:1637: SettingWithCopyWarning: \n",
      "A value is trying to be set on a copy of a slice from a DataFrame\n",
      "\n",
      "See the caveats in the documentation: https://pandas.pydata.org/pandas-docs/stable/user_guide/indexing.html#returning-a-view-versus-a-copy\n",
      "  self._setitem_single_block(indexer, value, name)\n",
      "/opt/conda/lib/python3.9/site-packages/pandas/core/indexing.py:692: SettingWithCopyWarning: \n",
      "A value is trying to be set on a copy of a slice from a DataFrame\n",
      "\n",
      "See the caveats in the documentation: https://pandas.pydata.org/pandas-docs/stable/user_guide/indexing.html#returning-a-view-versus-a-copy\n",
      "  iloc._setitem_with_indexer(indexer, value, self.name)\n",
      "/tmp/ipykernel_93/295275402.py:10: SettingWithCopyWarning: \n",
      "A value is trying to be set on a copy of a slice from a DataFrame.\n",
      "Try using .loc[row_indexer,col_indexer] = value instead\n",
      "\n",
      "See the caveats in the documentation: https://pandas.pydata.org/pandas-docs/stable/user_guide/indexing.html#returning-a-view-versus-a-copy\n",
      "  f_train[index] = scaler.transform(f_train[index])\n",
      "/opt/conda/lib/python3.9/site-packages/pandas/core/indexing.py:1637: SettingWithCopyWarning: \n",
      "A value is trying to be set on a copy of a slice from a DataFrame\n",
      "\n",
      "See the caveats in the documentation: https://pandas.pydata.org/pandas-docs/stable/user_guide/indexing.html#returning-a-view-versus-a-copy\n",
      "  self._setitem_single_block(indexer, value, name)\n",
      "/opt/conda/lib/python3.9/site-packages/pandas/core/indexing.py:692: SettingWithCopyWarning: \n",
      "A value is trying to be set on a copy of a slice from a DataFrame\n",
      "\n",
      "See the caveats in the documentation: https://pandas.pydata.org/pandas-docs/stable/user_guide/indexing.html#returning-a-view-versus-a-copy\n",
      "  iloc._setitem_with_indexer(indexer, value, self.name)\n",
      "/tmp/ipykernel_93/295275402.py:11: SettingWithCopyWarning: \n",
      "A value is trying to be set on a copy of a slice from a DataFrame.\n",
      "Try using .loc[row_indexer,col_indexer] = value instead\n",
      "\n",
      "See the caveats in the documentation: https://pandas.pydata.org/pandas-docs/stable/user_guide/indexing.html#returning-a-view-versus-a-copy\n",
      "  f_valid[index] = scaler.transform(f_valid[index])\n",
      "/opt/conda/lib/python3.9/site-packages/pandas/core/indexing.py:1637: SettingWithCopyWarning: \n",
      "A value is trying to be set on a copy of a slice from a DataFrame\n",
      "\n",
      "See the caveats in the documentation: https://pandas.pydata.org/pandas-docs/stable/user_guide/indexing.html#returning-a-view-versus-a-copy\n",
      "  self._setitem_single_block(indexer, value, name)\n",
      "/opt/conda/lib/python3.9/site-packages/pandas/core/indexing.py:692: SettingWithCopyWarning: \n",
      "A value is trying to be set on a copy of a slice from a DataFrame\n",
      "\n",
      "See the caveats in the documentation: https://pandas.pydata.org/pandas-docs/stable/user_guide/indexing.html#returning-a-view-versus-a-copy\n",
      "  iloc._setitem_with_indexer(indexer, value, self.name)\n",
      "/tmp/ipykernel_93/295275402.py:10: SettingWithCopyWarning: \n",
      "A value is trying to be set on a copy of a slice from a DataFrame.\n",
      "Try using .loc[row_indexer,col_indexer] = value instead\n",
      "\n",
      "See the caveats in the documentation: https://pandas.pydata.org/pandas-docs/stable/user_guide/indexing.html#returning-a-view-versus-a-copy\n",
      "  f_train[index] = scaler.transform(f_train[index])\n",
      "/opt/conda/lib/python3.9/site-packages/pandas/core/indexing.py:1637: SettingWithCopyWarning: \n",
      "A value is trying to be set on a copy of a slice from a DataFrame\n",
      "\n",
      "See the caveats in the documentation: https://pandas.pydata.org/pandas-docs/stable/user_guide/indexing.html#returning-a-view-versus-a-copy\n",
      "  self._setitem_single_block(indexer, value, name)\n",
      "/opt/conda/lib/python3.9/site-packages/pandas/core/indexing.py:692: SettingWithCopyWarning: \n",
      "A value is trying to be set on a copy of a slice from a DataFrame\n",
      "\n",
      "See the caveats in the documentation: https://pandas.pydata.org/pandas-docs/stable/user_guide/indexing.html#returning-a-view-versus-a-copy\n",
      "  iloc._setitem_with_indexer(indexer, value, self.name)\n",
      "/tmp/ipykernel_93/295275402.py:11: SettingWithCopyWarning: \n",
      "A value is trying to be set on a copy of a slice from a DataFrame.\n",
      "Try using .loc[row_indexer,col_indexer] = value instead\n",
      "\n",
      "See the caveats in the documentation: https://pandas.pydata.org/pandas-docs/stable/user_guide/indexing.html#returning-a-view-versus-a-copy\n",
      "  f_valid[index] = scaler.transform(f_valid[index])\n",
      "/opt/conda/lib/python3.9/site-packages/pandas/core/indexing.py:1637: SettingWithCopyWarning: \n",
      "A value is trying to be set on a copy of a slice from a DataFrame\n",
      "\n",
      "See the caveats in the documentation: https://pandas.pydata.org/pandas-docs/stable/user_guide/indexing.html#returning-a-view-versus-a-copy\n",
      "  self._setitem_single_block(indexer, value, name)\n",
      "/opt/conda/lib/python3.9/site-packages/pandas/core/indexing.py:692: SettingWithCopyWarning: \n",
      "A value is trying to be set on a copy of a slice from a DataFrame\n",
      "\n",
      "See the caveats in the documentation: https://pandas.pydata.org/pandas-docs/stable/user_guide/indexing.html#returning-a-view-versus-a-copy\n",
      "  iloc._setitem_with_indexer(indexer, value, self.name)\n"
     ]
    }
   ],
   "source": [
    "f_train, f_valid, t_train, t_valid = pre_processing(geo_data)\n",
    "f_train_1, f_valid_1, t_train_1, t_valid_1 = pre_processing(geo_data1)\n",
    "f_train_2, f_valid_2, t_train_2, t_valid_2 = pre_processing(geo_data2)"
   ]
  },
  {
   "cell_type": "markdown",
   "metadata": {},
   "source": [
    "Составим ункцию для моделирования и оцеки модели"
   ]
  },
  {
   "cell_type": "code",
   "execution_count": 21,
   "metadata": {},
   "outputs": [],
   "source": [
    "def pediction_and_estimation (feature_train, feature_valid, target_train, target_valid):\n",
    "    model = LinearRegression() \n",
    "    model.fit(feature_train, target_train) \n",
    "    prediction_v = model.predict(feature_valid) \n",
    "    result = mean_squared_error(target_valid, prediction_v)**0.5 #подсчитаем rmse\n",
    "    return result, pd.Series(prediction_v).mean(), prediction_v"
   ]
  },
  {
   "cell_type": "code",
   "execution_count": 22,
   "metadata": {},
   "outputs": [
    {
     "name": "stdout",
     "output_type": "stream",
     "text": [
      "Средний запас сырья предсказанный моделью для региона 0 составляет: 92.62 . RMSE модели 37.8\n"
     ]
    },
    {
     "data": {
      "text/plain": [
       "92.90319153767678"
      ]
     },
     "execution_count": 22,
     "metadata": {},
     "output_type": "execute_result"
    }
   ],
   "source": [
    "rmse, mean_prediction, prediction_0 = pediction_and_estimation(f_train, f_valid, t_train, t_valid)\n",
    "print('Средний запас сырья предсказанный моделью для региона 0 составляет:', round(mean_prediction,2),'. RMSE модели', round(rmse,2) )\n",
    "t_valid.mean()"
   ]
  },
  {
   "cell_type": "code",
   "execution_count": 23,
   "metadata": {},
   "outputs": [
    {
     "name": "stdout",
     "output_type": "stream",
     "text": [
      "Средний запас сырья предсказанный моделью для региона 1 составляет: 68.65 . RMSE модели 0.89\n"
     ]
    },
    {
     "data": {
      "text/plain": [
       "68.6412755150609"
      ]
     },
     "execution_count": 23,
     "metadata": {},
     "output_type": "execute_result"
    }
   ],
   "source": [
    "rmse, mean_prediction, prediction_1 = pediction_and_estimation(f_train_1, f_valid_1, t_train_1, t_valid_1)\n",
    "print('Средний запас сырья предсказанный моделью для региона 1 составляет:', round(mean_prediction,2),'. RMSE модели', round(rmse,2))\n",
    "t_valid_1.mean()"
   ]
  },
  {
   "cell_type": "code",
   "execution_count": 24,
   "metadata": {},
   "outputs": [
    {
     "name": "stdout",
     "output_type": "stream",
     "text": [
      "Средний запас сырья предсказанный моделью для региона 0 составляет: 95.02 . RMSE модели 40.28\n"
     ]
    },
    {
     "data": {
      "text/plain": [
       "95.08866941281924"
      ]
     },
     "execution_count": 24,
     "metadata": {},
     "output_type": "execute_result"
    }
   ],
   "source": [
    "rmse, mean_prediction, prediction_2 = pediction_and_estimation(f_train_2, f_valid_2, t_train_2, t_valid_2)\n",
    "print('Средний запас сырья предсказанный моделью для региона 0 составляет:', round(mean_prediction,2),'. RMSE модели', round(rmse,2) )\n",
    "t_valid_2.mean()"
   ]
  },
  {
   "cell_type": "markdown",
   "metadata": {},
   "source": [
    "Для всех 3_х регионов модели предсказивают средние значения близкие к истинным. Наименьшее rmse выявлено для рагиона 1. Вероятно связано с выявленной ранее положительной корреляцией признака f2 и целевого признака."
   ]
  },
  {
   "cell_type": "markdown",
   "metadata": {},
   "source": [
    "## Подготовка к расчёту прибыли"
   ]
  },
  {
   "cell_type": "code",
   "execution_count": 25,
   "metadata": {},
   "outputs": [],
   "source": [
    "research_point = 500\n",
    "point_for_mining = 200\n",
    "budget_for_mining = 10000000000/1000000 #бюджет на разработку (млн руб)\n",
    "earn_per_barrel = 450000/1000000 #доход с 1 тысячи баррелей (млн руб)\n",
    "alpha = 2.5"
   ]
  },
  {
   "cell_type": "code",
   "execution_count": 26,
   "metadata": {},
   "outputs": [
    {
     "data": {
      "text/plain": [
       "111.11111111111111"
      ]
     },
     "execution_count": 26,
     "metadata": {},
     "output_type": "execute_result"
    }
   ],
   "source": [
    "budget_for_point = budget_for_mining / point_for_mining\n",
    "\n",
    "profitability_point = budget_for_point / earn_per_barrel #столько должно быть запасов в одной скважине для окупаемости\n",
    "profitability_point"
   ]
  },
  {
   "cell_type": "markdown",
   "metadata": {},
   "source": [
    "Исходя из планов разработки и выделенного бюджета для достижения точки безубыточности новые скважины  должны иметь запасы не менее 111 тысяч баррелей нефти, что весомо превышает средние запасы по ретроспективным данным во всех 3_х регионах."
   ]
  },
  {
   "cell_type": "code",
   "execution_count": 27,
   "metadata": {},
   "outputs": [],
   "source": [
    "def earn_func (prediction, target):\n",
    "    prediction_loc = pd.Series(prediction).sort_values(ascending=False)[:200]#отбираем 200 наиболее больших скважин по предсказанию\n",
    "    target_loc = target.iloc[prediction_loc.index]#отбираем истинные показатели 200 наиболее больших скважин по предсказанию\n",
    "\n",
    "    return target_loc.sum()*earn_per_barrel # Возвращаем дохоность, рассчитанную на истинных показателях предсказанных скважин "
   ]
  },
  {
   "cell_type": "code",
   "execution_count": 28,
   "metadata": {},
   "outputs": [
    {
     "data": {
      "text/plain": [
       "13126.965047737523"
      ]
     },
     "execution_count": 28,
     "metadata": {},
     "output_type": "execute_result"
    }
   ],
   "source": [
    "earn_func(prediction_0, t_valid)"
   ]
  },
  {
   "cell_type": "code",
   "execution_count": 29,
   "metadata": {},
   "outputs": [
    {
     "data": {
      "text/plain": [
       "12415.086696681512"
      ]
     },
     "execution_count": 29,
     "metadata": {},
     "output_type": "execute_result"
    }
   ],
   "source": [
    "earn_func(prediction_1, t_valid_1)"
   ]
  },
  {
   "cell_type": "code",
   "execution_count": 30,
   "metadata": {},
   "outputs": [
    {
     "data": {
      "text/plain": [
       "12334.45520917645"
      ]
     },
     "execution_count": 30,
     "metadata": {},
     "output_type": "execute_result"
    }
   ],
   "source": [
    "earn_func(prediction_2, t_valid_2)"
   ]
  },
  {
   "cell_type": "markdown",
   "metadata": {},
   "source": [
    "## Расчёт прибыли и рисков "
   ]
  },
  {
   "cell_type": "code",
   "execution_count": 64,
   "metadata": {},
   "outputs": [],
   "source": [
    "def bootstrap (probabilities_bt, target_bt, budget_for_mining):\n",
    "    state = np.random.RandomState(5)\n",
    "    target_bt = target_bt.reset_index(drop=True)\n",
    "    values = []\n",
    "    loss_count = 0\n",
    "    for i in range(1000):\n",
    "        target_subsample = target_bt.sample(n=500, replace=True, random_state=state)# \n",
    "        probs_subsample = probabilities_bt[target_subsample.index] #берем данные о фактических посещениях исходя из сэмплированной выборке\n",
    "        profit = earn_func(probs_subsample, target_subsample)-budget_for_mining\n",
    "        values.append(profit) #сохраняем в переменную занчения прибыли, рассчитанные для каждой подвыборки на каждой итерации\n",
    "        if profit < 0:\n",
    "            loss_count+=1\n",
    "    values = pd.Series(values)\n",
    "    values_mean = values.mean()\n",
    "    upper = values.quantile(0.975)\n",
    "    lower = values.quantile(0.025)\n",
    "    proba_loss = loss_count/len(values)# вычислим вероятность убытков\n",
    "    mean_earn = values.mean()\n",
    "    return upper, lower, proba_loss, mean_earn"
   ]
  },
  {
   "cell_type": "code",
   "execution_count": 61,
   "metadata": {},
   "outputs": [
    {
     "name": "stdout",
     "output_type": "stream",
     "text": [
      "Для региона 0 в 95% случаев прибыль будет в интервалах от -75.26584265347476 до 957.5144993893391 млн. руб.\n",
      "Средняя прибыль составит 457.19486249448335 млн. руб.\n",
      "Вероятность убытков 4.3 %.\n"
     ]
    }
   ],
   "source": [
    "upper_0, lower_0, proba_loss_0, mean_earn_0 = bootstrap(prediction_0, t_valid, budget_for_mining)\n",
    "print(\"Для региона 0 в 95% случаев прибыль будет в интервалах от\", lower_0, \"до\", upper_0, \"млн. руб.\")\n",
    "print(\"Средняя прибыль составит\", mean_earn_0, \"млн. руб.\")\n",
    "print(\"Вероятность убытков\", proba_loss_0*100, \"%.\")"
   ]
  },
  {
   "cell_type": "code",
   "execution_count": 62,
   "metadata": {},
   "outputs": [
    {
     "name": "stdout",
     "output_type": "stream",
     "text": [
      "Для региона 0 в 95% случаев прибыль будет в интервалах от 51.02031826070716 до 829.6580445745146 млн. руб.\n",
      "Средняя прибыль составит 424.2167669657911 млн. руб.\n",
      "Вероятность убытков 1.2 %.\n"
     ]
    }
   ],
   "source": [
    "upper_1, lower_1, proba_loss_1, mean_earn_1 = bootstrap(prediction_1, t_valid_1, budget_for_mining)\n",
    "print(\"Для региона 1 в 95% случаев прибыль будет в интервалах от\", lower_1, \"до\", upper_1, \"млн. руб.\")\n",
    "print(\"Средняя прибыль составит\", mean_earn_1, \"млн. руб.\")\n",
    "print(\"Вероятность убытков\", proba_loss_1*100, \"%.\")"
   ]
  },
  {
   "cell_type": "code",
   "execution_count": 63,
   "metadata": {},
   "outputs": [
    {
     "name": "stdout",
     "output_type": "stream",
     "text": [
      "Для региона 2 в 95% случаев прибыль будет в интервалах от -170.75064164641583 до 856.7295446472378 млн. руб.\n",
      "Средняя прибыль составит 334.05218387770884 млн. руб.\n",
      "Вероятность убытков 11.3 %.\n"
     ]
    }
   ],
   "source": [
    "upper_2, lower_2, proba_loss_2, mean_earn_2 = bootstrap(prediction_2, t_valid_2, budget_for_mining)\n",
    "print(\"Для региона 2 в 95% случаев прибыль будет в интервалах от\", lower_2, \"до\", upper_2, \"млн. руб.\")\n",
    "print(\"Средняя прибыль составит\", mean_earn_2, \"млн. руб.\")\n",
    "print(\"Вероятность убытков\", proba_loss_2*100, \"%.\")"
   ]
  },
  {
   "cell_type": "markdown",
   "metadata": {},
   "source": [
    "В рамках прроекта по разработке модели для выбора локации для разработки месторожденя рассмотрены датасеты с пробами нефти из 3_х регионов. Поставлена задача построить модель линейной регресси, которая по данным о 500 разведанных точках выберет 200 с наибольшей средней прибылью и оценит вероятность убытков. Исходя из условий задачи для разработки подходи только регион номер 1, со средней ожидаемой прибылью 424млн. руб. т.к. только в этом регионе вероятность убытков 1.2%, что подходит под заданный параметр 2.5%"
   ]
  }
 ],
 "metadata": {
  "ExecuteTimeLog": [
   {
    "duration": 360,
    "start_time": "2022-11-23T11:58:18.014Z"
   },
   {
    "duration": 3,
    "start_time": "2022-11-23T11:58:36.821Z"
   },
   {
    "duration": 506,
    "start_time": "2022-11-23T12:20:14.716Z"
   },
   {
    "duration": 187,
    "start_time": "2022-11-23T12:20:18.329Z"
   },
   {
    "duration": 135,
    "start_time": "2022-11-23T12:20:20.768Z"
   },
   {
    "duration": 1138,
    "start_time": "2022-11-23T12:20:47.634Z"
   },
   {
    "duration": 348,
    "start_time": "2022-11-23T12:20:51.565Z"
   },
   {
    "duration": 393,
    "start_time": "2022-11-23T12:20:56.851Z"
   },
   {
    "duration": 349,
    "start_time": "2022-11-23T12:21:04.294Z"
   },
   {
    "duration": 379,
    "start_time": "2022-11-23T12:21:08.741Z"
   },
   {
    "duration": 364,
    "start_time": "2022-11-23T12:21:30.724Z"
   },
   {
    "duration": 384,
    "start_time": "2022-11-23T12:21:34.241Z"
   },
   {
    "duration": 347,
    "start_time": "2022-11-23T12:21:37.657Z"
   },
   {
    "duration": 368,
    "start_time": "2022-11-23T12:21:48.755Z"
   },
   {
    "duration": 13,
    "start_time": "2022-11-23T13:13:40.417Z"
   },
   {
    "duration": 11,
    "start_time": "2022-11-23T13:13:51.556Z"
   },
   {
    "duration": 9,
    "start_time": "2022-11-23T13:13:56.260Z"
   },
   {
    "duration": 9,
    "start_time": "2022-11-23T13:14:00.819Z"
   },
   {
    "duration": 9,
    "start_time": "2022-11-23T13:14:12.376Z"
   },
   {
    "duration": 8,
    "start_time": "2022-11-23T13:14:18.912Z"
   },
   {
    "duration": 33,
    "start_time": "2022-11-23T13:14:44.524Z"
   },
   {
    "duration": 32,
    "start_time": "2022-11-23T13:15:00.075Z"
   },
   {
    "duration": 31,
    "start_time": "2022-11-23T13:15:04.201Z"
   },
   {
    "duration": 69,
    "start_time": "2022-11-23T13:20:53.918Z"
   },
   {
    "duration": 83,
    "start_time": "2022-11-23T13:21:09.952Z"
   },
   {
    "duration": 33,
    "start_time": "2022-11-23T13:21:31.650Z"
   },
   {
    "duration": 43,
    "start_time": "2022-11-23T13:21:33.958Z"
   },
   {
    "duration": 14,
    "start_time": "2022-11-23T13:27:40.247Z"
   },
   {
    "duration": 13,
    "start_time": "2022-11-23T13:27:59.097Z"
   },
   {
    "duration": 14,
    "start_time": "2022-11-23T13:28:04.551Z"
   },
   {
    "duration": 67,
    "start_time": "2022-11-23T13:32:28.090Z"
   },
   {
    "duration": 7,
    "start_time": "2022-11-23T13:32:36.692Z"
   },
   {
    "duration": 21,
    "start_time": "2022-11-23T13:32:57.254Z"
   },
   {
    "duration": 35,
    "start_time": "2022-11-23T13:33:06.120Z"
   },
   {
    "duration": 46,
    "start_time": "2022-11-23T13:33:11.616Z"
   },
   {
    "duration": 45,
    "start_time": "2022-11-23T13:33:36.871Z"
   },
   {
    "duration": 17,
    "start_time": "2022-11-23T13:33:42.347Z"
   },
   {
    "duration": 18,
    "start_time": "2022-11-23T13:34:01.680Z"
   },
   {
    "duration": 46,
    "start_time": "2022-11-23T13:34:13.789Z"
   },
   {
    "duration": 49,
    "start_time": "2022-11-23T13:36:43.118Z"
   },
   {
    "duration": 43,
    "start_time": "2022-11-23T13:37:37.865Z"
   },
   {
    "duration": 43,
    "start_time": "2022-11-23T13:38:03.603Z"
   },
   {
    "duration": 46,
    "start_time": "2022-11-23T13:38:05.939Z"
   },
   {
    "duration": 117,
    "start_time": "2022-11-23T13:38:22.574Z"
   },
   {
    "duration": 51,
    "start_time": "2022-11-23T13:41:04.083Z"
   },
   {
    "duration": 20,
    "start_time": "2022-11-23T13:41:14.225Z"
   },
   {
    "duration": 70,
    "start_time": "2022-11-23T13:41:17.496Z"
   },
   {
    "duration": 21,
    "start_time": "2022-11-23T13:41:20.504Z"
   },
   {
    "duration": 22,
    "start_time": "2022-11-23T13:42:05.564Z"
   },
   {
    "duration": 23,
    "start_time": "2022-11-23T13:42:27.474Z"
   },
   {
    "duration": 46,
    "start_time": "2022-11-23T13:42:58.050Z"
   },
   {
    "duration": 22,
    "start_time": "2022-11-23T13:43:00.852Z"
   },
   {
    "duration": 8,
    "start_time": "2022-11-23T13:44:41.073Z"
   },
   {
    "duration": 7,
    "start_time": "2022-11-23T13:45:28.408Z"
   },
   {
    "duration": 8,
    "start_time": "2022-11-23T13:45:30.806Z"
   },
   {
    "duration": 169,
    "start_time": "2022-11-23T13:45:38.244Z"
   },
   {
    "duration": 150,
    "start_time": "2022-11-23T13:45:42.429Z"
   },
   {
    "duration": 174,
    "start_time": "2022-11-23T13:46:04.101Z"
   },
   {
    "duration": 166,
    "start_time": "2022-11-23T13:46:22.890Z"
   },
   {
    "duration": 164,
    "start_time": "2022-11-23T13:46:29.693Z"
   },
   {
    "duration": 177,
    "start_time": "2022-11-23T13:46:35.025Z"
   },
   {
    "duration": 166,
    "start_time": "2022-11-23T13:47:21.829Z"
   },
   {
    "duration": 8,
    "start_time": "2022-11-23T13:47:44.062Z"
   },
   {
    "duration": 8,
    "start_time": "2022-11-23T13:47:54.625Z"
   },
   {
    "duration": 13,
    "start_time": "2022-11-23T13:47:58.543Z"
   },
   {
    "duration": 14,
    "start_time": "2022-11-23T13:48:25.356Z"
   },
   {
    "duration": 46,
    "start_time": "2022-11-23T13:51:04.124Z"
   },
   {
    "duration": 167,
    "start_time": "2022-11-23T13:51:19.326Z"
   },
   {
    "duration": 162,
    "start_time": "2022-11-23T13:51:22.114Z"
   },
   {
    "duration": 169,
    "start_time": "2022-11-23T13:51:25.562Z"
   },
   {
    "duration": 159,
    "start_time": "2022-11-23T13:51:47.127Z"
   },
   {
    "duration": 70,
    "start_time": "2022-11-23T13:55:34.011Z"
   },
   {
    "duration": 13,
    "start_time": "2022-11-23T13:56:49.737Z"
   },
   {
    "duration": 22,
    "start_time": "2022-11-23T13:57:10.440Z"
   },
   {
    "duration": 75,
    "start_time": "2022-11-24T06:20:13.656Z"
   },
   {
    "duration": 42,
    "start_time": "2022-11-24T06:58:11.736Z"
   },
   {
    "duration": 7,
    "start_time": "2022-11-24T06:58:32.253Z"
   },
   {
    "duration": 4,
    "start_time": "2022-11-24T07:07:40.257Z"
   },
   {
    "duration": 6,
    "start_time": "2022-11-24T07:11:58.064Z"
   },
   {
    "duration": 7,
    "start_time": "2022-11-24T07:12:08.080Z"
   },
   {
    "duration": 395,
    "start_time": "2022-11-24T07:12:25.745Z"
   },
   {
    "duration": 1604,
    "start_time": "2022-11-24T07:12:26.142Z"
   },
   {
    "duration": 15,
    "start_time": "2022-11-24T07:12:27.748Z"
   },
   {
    "duration": 12,
    "start_time": "2022-11-24T07:12:27.765Z"
   },
   {
    "duration": 12,
    "start_time": "2022-11-24T07:12:27.778Z"
   },
   {
    "duration": 36,
    "start_time": "2022-11-24T07:12:27.792Z"
   },
   {
    "duration": 35,
    "start_time": "2022-11-24T07:12:27.829Z"
   },
   {
    "duration": 41,
    "start_time": "2022-11-24T07:12:27.865Z"
   },
   {
    "duration": 31,
    "start_time": "2022-11-24T07:12:27.907Z"
   },
   {
    "duration": 71,
    "start_time": "2022-11-24T07:12:27.940Z"
   },
   {
    "duration": 0,
    "start_time": "2022-11-24T07:12:28.013Z"
   },
   {
    "duration": 0,
    "start_time": "2022-11-24T07:12:28.014Z"
   },
   {
    "duration": 0,
    "start_time": "2022-11-24T07:12:28.015Z"
   },
   {
    "duration": 0,
    "start_time": "2022-11-24T07:12:28.016Z"
   },
   {
    "duration": 1,
    "start_time": "2022-11-24T07:12:28.017Z"
   },
   {
    "duration": 0,
    "start_time": "2022-11-24T07:12:28.019Z"
   },
   {
    "duration": 1,
    "start_time": "2022-11-24T07:12:28.019Z"
   },
   {
    "duration": 0,
    "start_time": "2022-11-24T07:12:28.021Z"
   },
   {
    "duration": 0,
    "start_time": "2022-11-24T07:12:28.021Z"
   },
   {
    "duration": 0,
    "start_time": "2022-11-24T07:12:28.022Z"
   },
   {
    "duration": 0,
    "start_time": "2022-11-24T07:12:28.023Z"
   },
   {
    "duration": 60,
    "start_time": "2022-11-24T07:12:28.939Z"
   },
   {
    "duration": 5,
    "start_time": "2022-11-24T07:12:32.589Z"
   },
   {
    "duration": 16,
    "start_time": "2022-11-24T07:12:34.179Z"
   },
   {
    "duration": 4,
    "start_time": "2022-11-24T07:13:08.877Z"
   },
   {
    "duration": 4,
    "start_time": "2022-11-24T07:13:15.324Z"
   },
   {
    "duration": 82,
    "start_time": "2022-11-24T07:13:16.952Z"
   },
   {
    "duration": 4,
    "start_time": "2022-11-24T07:14:24.130Z"
   },
   {
    "duration": 4,
    "start_time": "2022-11-24T07:14:33.433Z"
   },
   {
    "duration": 0,
    "start_time": "2022-11-24T07:14:34.635Z"
   },
   {
    "duration": 9,
    "start_time": "2022-11-24T07:15:31.916Z"
   },
   {
    "duration": 8,
    "start_time": "2022-11-24T07:15:53.443Z"
   },
   {
    "duration": 32,
    "start_time": "2022-11-24T07:15:56.683Z"
   },
   {
    "duration": 4,
    "start_time": "2022-11-24T07:16:28.404Z"
   },
   {
    "duration": 4,
    "start_time": "2022-11-24T07:16:31.773Z"
   },
   {
    "duration": 31,
    "start_time": "2022-11-24T07:16:33.273Z"
   },
   {
    "duration": 4,
    "start_time": "2022-11-24T07:16:40.648Z"
   },
   {
    "duration": 233,
    "start_time": "2022-11-24T07:16:41.966Z"
   },
   {
    "duration": 26,
    "start_time": "2022-11-24T07:16:45.758Z"
   },
   {
    "duration": 7,
    "start_time": "2022-11-24T11:57:22.168Z"
   },
   {
    "duration": 6,
    "start_time": "2022-11-24T11:57:24.014Z"
   },
   {
    "duration": 9,
    "start_time": "2022-11-24T11:57:52.398Z"
   },
   {
    "duration": 1597,
    "start_time": "2022-11-24T11:57:54.557Z"
   },
   {
    "duration": 1671,
    "start_time": "2022-11-24T11:57:56.175Z"
   },
   {
    "duration": 21,
    "start_time": "2022-11-24T11:57:58.353Z"
   },
   {
    "duration": 11,
    "start_time": "2022-11-24T11:58:01.961Z"
   },
   {
    "duration": 8,
    "start_time": "2022-11-24T11:58:06.638Z"
   },
   {
    "duration": 80,
    "start_time": "2022-11-24T11:59:09.377Z"
   },
   {
    "duration": 12,
    "start_time": "2022-11-24T11:59:18.448Z"
   },
   {
    "duration": 323,
    "start_time": "2022-11-24T11:59:20.098Z"
   },
   {
    "duration": 13,
    "start_time": "2022-11-24T11:59:27.404Z"
   },
   {
    "duration": 4,
    "start_time": "2022-11-24T12:05:52.086Z"
   },
   {
    "duration": 20,
    "start_time": "2022-11-24T12:05:56.447Z"
   },
   {
    "duration": 88,
    "start_time": "2022-11-24T12:05:58.135Z"
   },
   {
    "duration": 4,
    "start_time": "2022-11-24T12:06:00.425Z"
   },
   {
    "duration": 12,
    "start_time": "2022-11-24T12:06:15.151Z"
   },
   {
    "duration": 4,
    "start_time": "2022-11-24T12:06:27.106Z"
   },
   {
    "duration": 411,
    "start_time": "2022-11-24T12:06:28.528Z"
   },
   {
    "duration": 9,
    "start_time": "2022-11-24T12:06:30.431Z"
   },
   {
    "duration": 17,
    "start_time": "2022-11-24T12:06:40.907Z"
   },
   {
    "duration": 17,
    "start_time": "2022-11-24T12:06:42.916Z"
   },
   {
    "duration": 15,
    "start_time": "2022-11-24T12:06:44.369Z"
   },
   {
    "duration": 15,
    "start_time": "2022-11-24T12:06:51.665Z"
   },
   {
    "duration": 4,
    "start_time": "2022-11-24T12:06:56.110Z"
   },
   {
    "duration": 82,
    "start_time": "2022-11-24T12:06:58.065Z"
   },
   {
    "duration": 11,
    "start_time": "2022-11-24T12:07:01.256Z"
   },
   {
    "duration": 18,
    "start_time": "2022-11-24T12:08:56.406Z"
   },
   {
    "duration": 131,
    "start_time": "2022-11-24T12:16:06.339Z"
   },
   {
    "duration": 6,
    "start_time": "2022-11-24T12:16:23.006Z"
   },
   {
    "duration": 6,
    "start_time": "2022-11-24T12:16:30.241Z"
   },
   {
    "duration": 5,
    "start_time": "2022-11-24T12:16:34.232Z"
   },
   {
    "duration": 4,
    "start_time": "2022-11-24T12:16:40.980Z"
   },
   {
    "duration": 28,
    "start_time": "2022-11-24T12:17:17.734Z"
   },
   {
    "duration": 5,
    "start_time": "2022-11-24T12:18:46.165Z"
   },
   {
    "duration": 73,
    "start_time": "2022-11-24T12:19:04.085Z"
   },
   {
    "duration": 39,
    "start_time": "2022-11-24T12:20:03.814Z"
   },
   {
    "duration": 15,
    "start_time": "2022-11-24T12:20:19.596Z"
   },
   {
    "duration": 18,
    "start_time": "2022-11-24T12:20:32.169Z"
   },
   {
    "duration": 13,
    "start_time": "2022-11-24T12:22:54.808Z"
   },
   {
    "duration": 16,
    "start_time": "2022-11-24T12:22:58.280Z"
   },
   {
    "duration": 18,
    "start_time": "2022-11-24T12:23:43.929Z"
   },
   {
    "duration": 21,
    "start_time": "2022-11-24T12:23:49.780Z"
   },
   {
    "duration": 4,
    "start_time": "2022-11-24T12:26:00.589Z"
   },
   {
    "duration": 105,
    "start_time": "2022-11-24T12:27:12.963Z"
   },
   {
    "duration": 105,
    "start_time": "2022-11-24T12:27:25.953Z"
   },
   {
    "duration": 18,
    "start_time": "2022-11-24T12:27:37.984Z"
   },
   {
    "duration": 14,
    "start_time": "2022-11-24T12:27:43.320Z"
   },
   {
    "duration": 17,
    "start_time": "2022-11-24T12:28:04.911Z"
   },
   {
    "duration": 15,
    "start_time": "2022-11-24T12:28:12.960Z"
   },
   {
    "duration": 18,
    "start_time": "2022-11-24T12:28:42.201Z"
   },
   {
    "duration": 17,
    "start_time": "2022-11-24T12:29:00.729Z"
   },
   {
    "duration": 5,
    "start_time": "2022-11-24T13:19:36.847Z"
   },
   {
    "duration": 421,
    "start_time": "2022-11-24T13:19:38.486Z"
   },
   {
    "duration": 1500,
    "start_time": "2022-11-24T13:20:04.715Z"
   },
   {
    "duration": 419,
    "start_time": "2022-11-24T13:20:06.217Z"
   },
   {
    "duration": 25,
    "start_time": "2022-11-24T13:20:06.638Z"
   },
   {
    "duration": 23,
    "start_time": "2022-11-24T13:20:06.673Z"
   },
   {
    "duration": 24,
    "start_time": "2022-11-24T13:20:06.699Z"
   },
   {
    "duration": 57,
    "start_time": "2022-11-24T13:20:06.726Z"
   },
   {
    "duration": 40,
    "start_time": "2022-11-24T13:20:06.785Z"
   },
   {
    "duration": 54,
    "start_time": "2022-11-24T13:20:06.827Z"
   },
   {
    "duration": 36,
    "start_time": "2022-11-24T13:20:06.884Z"
   },
   {
    "duration": 48,
    "start_time": "2022-11-24T13:20:06.922Z"
   },
   {
    "duration": 19,
    "start_time": "2022-11-24T13:20:06.972Z"
   },
   {
    "duration": 20,
    "start_time": "2022-11-24T13:20:06.993Z"
   },
   {
    "duration": 171,
    "start_time": "2022-11-24T13:20:07.015Z"
   },
   {
    "duration": 43,
    "start_time": "2022-11-24T13:20:07.188Z"
   },
   {
    "duration": 211,
    "start_time": "2022-11-24T13:20:07.232Z"
   },
   {
    "duration": 22,
    "start_time": "2022-11-24T13:20:07.451Z"
   },
   {
    "duration": 15,
    "start_time": "2022-11-24T13:20:07.474Z"
   },
   {
    "duration": 30,
    "start_time": "2022-11-24T13:20:07.491Z"
   },
   {
    "duration": 5,
    "start_time": "2022-11-24T13:20:07.523Z"
   },
   {
    "duration": 98,
    "start_time": "2022-11-24T13:20:07.530Z"
   },
   {
    "duration": 21,
    "start_time": "2022-11-24T13:20:07.630Z"
   },
   {
    "duration": 100,
    "start_time": "2022-11-24T13:20:07.653Z"
   },
   {
    "duration": 119,
    "start_time": "2022-11-24T13:20:07.754Z"
   },
   {
    "duration": 212,
    "start_time": "2022-11-24T13:20:07.875Z"
   },
   {
    "duration": 16,
    "start_time": "2022-11-24T13:20:21.080Z"
   },
   {
    "duration": 16,
    "start_time": "2022-11-24T13:20:25.168Z"
   },
   {
    "duration": 15,
    "start_time": "2022-11-24T13:20:26.577Z"
   },
   {
    "duration": 23,
    "start_time": "2022-11-24T13:22:58.700Z"
   },
   {
    "duration": 31,
    "start_time": "2022-11-24T13:23:08.075Z"
   },
   {
    "duration": 27,
    "start_time": "2022-11-24T13:23:12.433Z"
   },
   {
    "duration": 25,
    "start_time": "2022-11-24T13:23:26.690Z"
   },
   {
    "duration": 1503,
    "start_time": "2022-11-24T15:35:03.568Z"
   },
   {
    "duration": 841,
    "start_time": "2022-11-24T15:35:05.073Z"
   },
   {
    "duration": 16,
    "start_time": "2022-11-24T15:35:05.916Z"
   },
   {
    "duration": 9,
    "start_time": "2022-11-24T15:35:05.934Z"
   },
   {
    "duration": 12,
    "start_time": "2022-11-24T15:35:05.945Z"
   },
   {
    "duration": 48,
    "start_time": "2022-11-24T15:35:05.959Z"
   },
   {
    "duration": 35,
    "start_time": "2022-11-24T15:35:06.009Z"
   },
   {
    "duration": 34,
    "start_time": "2022-11-24T15:35:06.046Z"
   },
   {
    "duration": 40,
    "start_time": "2022-11-24T15:35:06.095Z"
   },
   {
    "duration": 17,
    "start_time": "2022-11-24T15:35:06.137Z"
   },
   {
    "duration": 41,
    "start_time": "2022-11-24T15:35:06.156Z"
   },
   {
    "duration": 23,
    "start_time": "2022-11-24T15:35:06.199Z"
   },
   {
    "duration": 200,
    "start_time": "2022-11-24T15:35:06.223Z"
   },
   {
    "duration": 43,
    "start_time": "2022-11-24T15:35:06.425Z"
   },
   {
    "duration": 156,
    "start_time": "2022-11-24T15:35:06.470Z"
   },
   {
    "duration": 14,
    "start_time": "2022-11-24T15:35:06.627Z"
   },
   {
    "duration": 12,
    "start_time": "2022-11-24T15:35:06.643Z"
   },
   {
    "duration": 39,
    "start_time": "2022-11-24T15:35:06.657Z"
   },
   {
    "duration": 4,
    "start_time": "2022-11-24T15:35:06.698Z"
   },
   {
    "duration": 74,
    "start_time": "2022-11-24T15:35:06.704Z"
   },
   {
    "duration": 17,
    "start_time": "2022-11-24T15:35:06.779Z"
   },
   {
    "duration": 108,
    "start_time": "2022-11-24T15:35:06.798Z"
   },
   {
    "duration": 106,
    "start_time": "2022-11-24T15:35:06.909Z"
   },
   {
    "duration": 102,
    "start_time": "2022-11-24T15:35:07.100Z"
   },
   {
    "duration": 18,
    "start_time": "2022-11-24T15:37:54.570Z"
   },
   {
    "duration": 22,
    "start_time": "2022-11-24T15:37:55.332Z"
   },
   {
    "duration": 3,
    "start_time": "2022-11-24T15:41:23.146Z"
   },
   {
    "duration": 4,
    "start_time": "2022-11-24T15:46:02.094Z"
   },
   {
    "duration": 1456,
    "start_time": "2022-11-25T05:31:13.349Z"
   },
   {
    "duration": 1568,
    "start_time": "2022-11-25T05:31:14.806Z"
   },
   {
    "duration": 12,
    "start_time": "2022-11-25T05:31:16.375Z"
   },
   {
    "duration": 8,
    "start_time": "2022-11-25T05:31:16.389Z"
   },
   {
    "duration": 11,
    "start_time": "2022-11-25T05:31:16.398Z"
   },
   {
    "duration": 35,
    "start_time": "2022-11-25T05:31:16.410Z"
   },
   {
    "duration": 34,
    "start_time": "2022-11-25T05:31:16.446Z"
   },
   {
    "duration": 44,
    "start_time": "2022-11-25T05:31:16.481Z"
   },
   {
    "duration": 31,
    "start_time": "2022-11-25T05:31:16.526Z"
   },
   {
    "duration": 13,
    "start_time": "2022-11-25T05:31:16.559Z"
   },
   {
    "duration": 13,
    "start_time": "2022-11-25T05:31:16.574Z"
   },
   {
    "duration": 33,
    "start_time": "2022-11-25T05:31:16.588Z"
   },
   {
    "duration": 127,
    "start_time": "2022-11-25T05:31:16.623Z"
   },
   {
    "duration": 39,
    "start_time": "2022-11-25T05:31:16.752Z"
   },
   {
    "duration": 184,
    "start_time": "2022-11-25T05:31:16.792Z"
   },
   {
    "duration": 13,
    "start_time": "2022-11-25T05:31:16.978Z"
   },
   {
    "duration": 25,
    "start_time": "2022-11-25T05:31:16.993Z"
   },
   {
    "duration": 23,
    "start_time": "2022-11-25T05:31:17.020Z"
   },
   {
    "duration": 4,
    "start_time": "2022-11-25T05:31:17.045Z"
   },
   {
    "duration": 84,
    "start_time": "2022-11-25T05:31:17.050Z"
   },
   {
    "duration": 3,
    "start_time": "2022-11-25T05:31:17.136Z"
   },
   {
    "duration": 173,
    "start_time": "2022-11-25T05:31:17.141Z"
   },
   {
    "duration": 116,
    "start_time": "2022-11-25T05:31:17.317Z"
   },
   {
    "duration": 102,
    "start_time": "2022-11-25T05:31:17.517Z"
   },
   {
    "duration": 192,
    "start_time": "2022-11-25T05:31:17.621Z"
   },
   {
    "duration": 43,
    "start_time": "2022-11-25T09:19:05.840Z"
   },
   {
    "duration": 1483,
    "start_time": "2022-11-25T09:19:15.214Z"
   },
   {
    "duration": 1544,
    "start_time": "2022-11-25T09:19:16.699Z"
   },
   {
    "duration": 17,
    "start_time": "2022-11-25T09:19:18.245Z"
   },
   {
    "duration": 11,
    "start_time": "2022-11-25T09:19:18.265Z"
   },
   {
    "duration": 11,
    "start_time": "2022-11-25T09:19:18.277Z"
   },
   {
    "duration": 38,
    "start_time": "2022-11-25T09:19:18.290Z"
   },
   {
    "duration": 34,
    "start_time": "2022-11-25T09:19:18.330Z"
   },
   {
    "duration": 52,
    "start_time": "2022-11-25T09:19:18.366Z"
   },
   {
    "duration": 33,
    "start_time": "2022-11-25T09:19:18.420Z"
   },
   {
    "duration": 15,
    "start_time": "2022-11-25T09:19:18.456Z"
   },
   {
    "duration": 14,
    "start_time": "2022-11-25T09:19:18.472Z"
   },
   {
    "duration": 15,
    "start_time": "2022-11-25T09:19:18.512Z"
   },
   {
    "duration": 140,
    "start_time": "2022-11-25T09:19:18.529Z"
   },
   {
    "duration": 47,
    "start_time": "2022-11-25T09:19:18.671Z"
   },
   {
    "duration": 141,
    "start_time": "2022-11-25T09:19:18.719Z"
   },
   {
    "duration": 14,
    "start_time": "2022-11-25T09:19:18.861Z"
   },
   {
    "duration": 11,
    "start_time": "2022-11-25T09:19:18.876Z"
   },
   {
    "duration": 42,
    "start_time": "2022-11-25T09:19:18.888Z"
   },
   {
    "duration": 5,
    "start_time": "2022-11-25T09:19:18.932Z"
   },
   {
    "duration": 90,
    "start_time": "2022-11-25T09:19:18.938Z"
   },
   {
    "duration": 4,
    "start_time": "2022-11-25T09:19:19.030Z"
   },
   {
    "duration": 176,
    "start_time": "2022-11-25T09:19:19.036Z"
   },
   {
    "duration": 100,
    "start_time": "2022-11-25T09:19:19.214Z"
   },
   {
    "duration": 100,
    "start_time": "2022-11-25T09:19:19.318Z"
   },
   {
    "duration": 102,
    "start_time": "2022-11-25T09:19:19.420Z"
   },
   {
    "duration": 91,
    "start_time": "2022-11-25T09:19:19.523Z"
   },
   {
    "duration": 3,
    "start_time": "2022-11-25T09:20:04.613Z"
   },
   {
    "duration": 5,
    "start_time": "2022-11-25T09:20:08.655Z"
   },
   {
    "duration": 3,
    "start_time": "2022-11-25T09:23:27.196Z"
   },
   {
    "duration": 4,
    "start_time": "2022-11-25T09:23:32.044Z"
   },
   {
    "duration": 3,
    "start_time": "2022-11-25T09:24:25.875Z"
   },
   {
    "duration": 4,
    "start_time": "2022-11-25T09:28:19.065Z"
   },
   {
    "duration": 5,
    "start_time": "2022-11-25T09:29:21.121Z"
   },
   {
    "duration": 47,
    "start_time": "2022-11-26T09:14:43.339Z"
   },
   {
    "duration": 1522,
    "start_time": "2022-11-26T09:14:49.021Z"
   },
   {
    "duration": 763,
    "start_time": "2022-11-26T09:14:50.546Z"
   },
   {
    "duration": 14,
    "start_time": "2022-11-26T09:14:51.311Z"
   },
   {
    "duration": 8,
    "start_time": "2022-11-26T09:14:51.327Z"
   },
   {
    "duration": 12,
    "start_time": "2022-11-26T09:14:51.337Z"
   },
   {
    "duration": 42,
    "start_time": "2022-11-26T09:14:51.350Z"
   },
   {
    "duration": 37,
    "start_time": "2022-11-26T09:14:51.394Z"
   },
   {
    "duration": 50,
    "start_time": "2022-11-26T09:14:51.432Z"
   },
   {
    "duration": 33,
    "start_time": "2022-11-26T09:14:51.484Z"
   },
   {
    "duration": 36,
    "start_time": "2022-11-26T09:14:51.520Z"
   },
   {
    "duration": 15,
    "start_time": "2022-11-26T09:14:51.558Z"
   },
   {
    "duration": 16,
    "start_time": "2022-11-26T09:14:51.575Z"
   },
   {
    "duration": 153,
    "start_time": "2022-11-26T09:14:51.592Z"
   },
   {
    "duration": 42,
    "start_time": "2022-11-26T09:14:51.746Z"
   },
   {
    "duration": 210,
    "start_time": "2022-11-26T09:14:51.790Z"
   },
   {
    "duration": 16,
    "start_time": "2022-11-26T09:14:52.002Z"
   },
   {
    "duration": 15,
    "start_time": "2022-11-26T09:14:52.020Z"
   },
   {
    "duration": 35,
    "start_time": "2022-11-26T09:14:52.037Z"
   },
   {
    "duration": 5,
    "start_time": "2022-11-26T09:14:52.073Z"
   },
   {
    "duration": 95,
    "start_time": "2022-11-26T09:14:52.080Z"
   },
   {
    "duration": 3,
    "start_time": "2022-11-26T09:14:52.178Z"
   },
   {
    "duration": 85,
    "start_time": "2022-11-26T09:14:52.182Z"
   },
   {
    "duration": 187,
    "start_time": "2022-11-26T09:14:52.270Z"
   },
   {
    "duration": 115,
    "start_time": "2022-11-26T09:14:52.459Z"
   },
   {
    "duration": 98,
    "start_time": "2022-11-26T09:14:52.658Z"
   },
   {
    "duration": 9,
    "start_time": "2022-11-26T09:14:52.759Z"
   },
   {
    "duration": 6,
    "start_time": "2022-11-26T09:14:52.770Z"
   },
   {
    "duration": 5,
    "start_time": "2022-11-26T09:14:59.872Z"
   },
   {
    "duration": 6,
    "start_time": "2022-11-26T09:15:33.042Z"
   },
   {
    "duration": 122,
    "start_time": "2022-11-26T09:15:43.531Z"
   },
   {
    "duration": 10,
    "start_time": "2022-11-26T09:15:50.923Z"
   },
   {
    "duration": 10,
    "start_time": "2022-11-26T09:16:02.071Z"
   },
   {
    "duration": 16,
    "start_time": "2022-11-26T09:16:22.954Z"
   },
   {
    "duration": 14,
    "start_time": "2022-11-26T09:16:29.137Z"
   },
   {
    "duration": 8,
    "start_time": "2022-11-26T09:16:31.518Z"
   },
   {
    "duration": 7,
    "start_time": "2022-11-26T09:16:40.984Z"
   },
   {
    "duration": 9,
    "start_time": "2022-11-26T09:16:53.772Z"
   },
   {
    "duration": 9,
    "start_time": "2022-11-26T09:17:12.384Z"
   },
   {
    "duration": 8,
    "start_time": "2022-11-26T09:17:55.246Z"
   },
   {
    "duration": 28,
    "start_time": "2022-11-26T09:18:04.740Z"
   },
   {
    "duration": 17,
    "start_time": "2022-11-26T09:18:11.766Z"
   },
   {
    "duration": 10,
    "start_time": "2022-11-26T09:18:38.395Z"
   },
   {
    "duration": 9,
    "start_time": "2022-11-26T09:18:42.731Z"
   },
   {
    "duration": 8,
    "start_time": "2022-11-26T09:18:49.872Z"
   },
   {
    "duration": 8,
    "start_time": "2022-11-26T09:18:51.918Z"
   },
   {
    "duration": 10,
    "start_time": "2022-11-26T09:19:00.016Z"
   },
   {
    "duration": 9,
    "start_time": "2022-11-26T09:19:01.505Z"
   },
   {
    "duration": 10,
    "start_time": "2022-11-26T09:19:45.830Z"
   },
   {
    "duration": 8,
    "start_time": "2022-11-26T09:19:57.531Z"
   },
   {
    "duration": 7,
    "start_time": "2022-11-26T09:21:07.517Z"
   },
   {
    "duration": 43,
    "start_time": "2022-11-26T09:21:10.599Z"
   },
   {
    "duration": 11,
    "start_time": "2022-11-26T09:21:12.232Z"
   },
   {
    "duration": 9,
    "start_time": "2022-11-26T09:21:18.630Z"
   },
   {
    "duration": 3,
    "start_time": "2022-11-26T09:23:25.724Z"
   },
   {
    "duration": 10,
    "start_time": "2022-11-26T09:24:04.590Z"
   },
   {
    "duration": 9,
    "start_time": "2022-11-26T09:25:00.094Z"
   },
   {
    "duration": 8,
    "start_time": "2022-11-26T09:25:15.054Z"
   },
   {
    "duration": 8,
    "start_time": "2022-11-26T09:25:16.421Z"
   },
   {
    "duration": 9,
    "start_time": "2022-11-26T09:25:17.766Z"
   },
   {
    "duration": 3,
    "start_time": "2022-11-26T09:25:38.497Z"
   },
   {
    "duration": 4,
    "start_time": "2022-11-26T09:25:40.336Z"
   },
   {
    "duration": 3,
    "start_time": "2022-11-26T09:25:41.677Z"
   },
   {
    "duration": 7,
    "start_time": "2022-11-26T09:25:43.199Z"
   },
   {
    "duration": 3,
    "start_time": "2022-11-26T09:25:45.341Z"
   },
   {
    "duration": 5,
    "start_time": "2022-11-26T09:25:46.696Z"
   },
   {
    "duration": 3,
    "start_time": "2022-11-26T09:25:47.982Z"
   },
   {
    "duration": 8,
    "start_time": "2022-11-26T09:25:49.384Z"
   },
   {
    "duration": 9,
    "start_time": "2022-11-26T09:25:54.969Z"
   },
   {
    "duration": 9,
    "start_time": "2022-11-26T09:25:56.814Z"
   },
   {
    "duration": 8,
    "start_time": "2022-11-26T09:25:59.392Z"
   },
   {
    "duration": 3,
    "start_time": "2022-11-26T09:26:30.254Z"
   },
   {
    "duration": 8,
    "start_time": "2022-11-26T09:30:02.213Z"
   },
   {
    "duration": 3,
    "start_time": "2022-11-26T09:34:34.356Z"
   },
   {
    "duration": 48,
    "start_time": "2022-11-28T07:01:09.590Z"
   },
   {
    "duration": 1571,
    "start_time": "2022-11-28T07:01:15.712Z"
   },
   {
    "duration": 766,
    "start_time": "2022-11-28T07:01:17.286Z"
   },
   {
    "duration": 15,
    "start_time": "2022-11-28T07:01:18.054Z"
   },
   {
    "duration": 10,
    "start_time": "2022-11-28T07:01:18.072Z"
   },
   {
    "duration": 18,
    "start_time": "2022-11-28T07:01:18.083Z"
   },
   {
    "duration": 45,
    "start_time": "2022-11-28T07:01:18.103Z"
   },
   {
    "duration": 39,
    "start_time": "2022-11-28T07:01:18.149Z"
   },
   {
    "duration": 53,
    "start_time": "2022-11-28T07:01:18.190Z"
   },
   {
    "duration": 35,
    "start_time": "2022-11-28T07:01:18.245Z"
   },
   {
    "duration": 31,
    "start_time": "2022-11-28T07:01:18.282Z"
   },
   {
    "duration": 15,
    "start_time": "2022-11-28T07:01:18.315Z"
   },
   {
    "duration": 17,
    "start_time": "2022-11-28T07:01:18.332Z"
   },
   {
    "duration": 162,
    "start_time": "2022-11-28T07:01:18.351Z"
   },
   {
    "duration": 44,
    "start_time": "2022-11-28T07:01:18.515Z"
   },
   {
    "duration": 197,
    "start_time": "2022-11-28T07:01:18.561Z"
   },
   {
    "duration": 15,
    "start_time": "2022-11-28T07:01:18.759Z"
   },
   {
    "duration": 13,
    "start_time": "2022-11-28T07:01:18.775Z"
   },
   {
    "duration": 41,
    "start_time": "2022-11-28T07:01:18.789Z"
   },
   {
    "duration": 4,
    "start_time": "2022-11-28T07:01:18.832Z"
   },
   {
    "duration": 100,
    "start_time": "2022-11-28T07:01:18.837Z"
   },
   {
    "duration": 4,
    "start_time": "2022-11-28T07:01:18.939Z"
   },
   {
    "duration": 172,
    "start_time": "2022-11-28T07:01:18.944Z"
   },
   {
    "duration": 106,
    "start_time": "2022-11-28T07:01:19.119Z"
   },
   {
    "duration": 96,
    "start_time": "2022-11-28T07:01:19.227Z"
   },
   {
    "duration": 100,
    "start_time": "2022-11-28T07:01:19.413Z"
   },
   {
    "duration": 6,
    "start_time": "2022-11-28T07:01:19.516Z"
   },
   {
    "duration": 12,
    "start_time": "2022-11-28T07:01:19.524Z"
   },
   {
    "duration": 8,
    "start_time": "2022-11-28T07:01:19.539Z"
   },
   {
    "duration": 6,
    "start_time": "2022-11-28T07:01:19.549Z"
   },
   {
    "duration": 8,
    "start_time": "2022-11-28T07:01:19.557Z"
   },
   {
    "duration": 8,
    "start_time": "2022-11-28T07:08:46.294Z"
   },
   {
    "duration": 8,
    "start_time": "2022-11-28T07:18:32.659Z"
   },
   {
    "duration": 4,
    "start_time": "2022-11-28T07:23:57.658Z"
   },
   {
    "duration": 58,
    "start_time": "2022-11-28T08:04:42.658Z"
   },
   {
    "duration": 56,
    "start_time": "2022-11-28T08:21:54.072Z"
   },
   {
    "duration": 5,
    "start_time": "2022-11-28T08:22:02.358Z"
   },
   {
    "duration": 4,
    "start_time": "2022-11-28T08:30:51.640Z"
   },
   {
    "duration": 5,
    "start_time": "2022-11-28T08:31:19.101Z"
   },
   {
    "duration": 6,
    "start_time": "2022-11-28T08:34:06.600Z"
   },
   {
    "duration": 4,
    "start_time": "2022-11-28T08:51:52.150Z"
   },
   {
    "duration": 4,
    "start_time": "2022-11-28T08:52:56.267Z"
   },
   {
    "duration": 4,
    "start_time": "2022-11-28T08:53:01.159Z"
   },
   {
    "duration": 4,
    "start_time": "2022-11-28T08:53:04.791Z"
   },
   {
    "duration": 4,
    "start_time": "2022-11-28T09:13:49.932Z"
   },
   {
    "duration": 50,
    "start_time": "2022-11-28T09:14:54.816Z"
   },
   {
    "duration": 119,
    "start_time": "2022-11-28T09:16:11.626Z"
   },
   {
    "duration": 5,
    "start_time": "2022-11-28T09:16:22.666Z"
   },
   {
    "duration": 14,
    "start_time": "2022-11-28T09:16:25.982Z"
   },
   {
    "duration": 5,
    "start_time": "2022-11-28T09:16:40.173Z"
   },
   {
    "duration": 13,
    "start_time": "2022-11-28T09:16:41.154Z"
   },
   {
    "duration": 13,
    "start_time": "2022-11-28T09:22:05.381Z"
   },
   {
    "duration": 5,
    "start_time": "2022-11-28T09:39:47.442Z"
   },
   {
    "duration": 13,
    "start_time": "2022-11-28T09:39:48.934Z"
   },
   {
    "duration": 13,
    "start_time": "2022-11-28T09:40:16.893Z"
   },
   {
    "duration": 4,
    "start_time": "2022-11-28T09:59:56.142Z"
   },
   {
    "duration": 14,
    "start_time": "2022-11-28T09:59:58.402Z"
   },
   {
    "duration": 5,
    "start_time": "2022-11-28T10:00:04.108Z"
   },
   {
    "duration": 5,
    "start_time": "2022-11-28T10:03:57.973Z"
   },
   {
    "duration": 18,
    "start_time": "2022-11-28T10:03:59.492Z"
   },
   {
    "duration": 7,
    "start_time": "2022-11-28T10:04:09.321Z"
   },
   {
    "duration": 14,
    "start_time": "2022-11-28T10:04:10.739Z"
   },
   {
    "duration": 5,
    "start_time": "2022-11-28T10:04:53.541Z"
   },
   {
    "duration": 15,
    "start_time": "2022-11-28T10:04:55.017Z"
   },
   {
    "duration": 14,
    "start_time": "2022-11-28T10:05:13.937Z"
   },
   {
    "duration": 14,
    "start_time": "2022-11-28T10:05:15.868Z"
   },
   {
    "duration": 1417,
    "start_time": "2022-11-29T08:00:13.268Z"
   },
   {
    "duration": 757,
    "start_time": "2022-11-29T08:00:14.687Z"
   },
   {
    "duration": 13,
    "start_time": "2022-11-29T08:00:15.446Z"
   },
   {
    "duration": 28,
    "start_time": "2022-11-29T08:00:15.461Z"
   },
   {
    "duration": 25,
    "start_time": "2022-11-29T08:00:15.491Z"
   },
   {
    "duration": 56,
    "start_time": "2022-11-29T08:00:15.517Z"
   },
   {
    "duration": 34,
    "start_time": "2022-11-29T08:00:15.575Z"
   },
   {
    "duration": 43,
    "start_time": "2022-11-29T08:00:15.611Z"
   },
   {
    "duration": 35,
    "start_time": "2022-11-29T08:00:15.655Z"
   },
   {
    "duration": 21,
    "start_time": "2022-11-29T08:00:15.692Z"
   },
   {
    "duration": 34,
    "start_time": "2022-11-29T08:00:15.715Z"
   },
   {
    "duration": 14,
    "start_time": "2022-11-29T08:00:15.751Z"
   },
   {
    "duration": 144,
    "start_time": "2022-11-29T08:00:15.766Z"
   },
   {
    "duration": 48,
    "start_time": "2022-11-29T08:00:15.912Z"
   },
   {
    "duration": 176,
    "start_time": "2022-11-29T08:00:15.961Z"
   },
   {
    "duration": 15,
    "start_time": "2022-11-29T08:00:16.138Z"
   },
   {
    "duration": 35,
    "start_time": "2022-11-29T08:00:16.154Z"
   },
   {
    "duration": 51,
    "start_time": "2022-11-29T08:00:16.190Z"
   },
   {
    "duration": 5,
    "start_time": "2022-11-29T08:00:16.243Z"
   },
   {
    "duration": 90,
    "start_time": "2022-11-29T08:00:16.250Z"
   },
   {
    "duration": 4,
    "start_time": "2022-11-29T08:00:16.342Z"
   },
   {
    "duration": 97,
    "start_time": "2022-11-29T08:00:16.348Z"
   },
   {
    "duration": 105,
    "start_time": "2022-11-29T08:00:16.537Z"
   },
   {
    "duration": 21,
    "start_time": "2022-11-29T08:00:16.736Z"
   },
   {
    "duration": 89,
    "start_time": "2022-11-29T08:00:16.758Z"
   },
   {
    "duration": 10,
    "start_time": "2022-11-29T08:00:16.936Z"
   },
   {
    "duration": 6,
    "start_time": "2022-11-29T08:00:16.948Z"
   },
   {
    "duration": 10,
    "start_time": "2022-11-29T08:00:16.957Z"
   },
   {
    "duration": 8,
    "start_time": "2022-11-29T08:00:16.969Z"
   },
   {
    "duration": 8,
    "start_time": "2022-11-29T08:00:16.978Z"
   },
   {
    "duration": 7,
    "start_time": "2022-11-29T08:00:16.988Z"
   },
   {
    "duration": 141,
    "start_time": "2022-11-29T08:00:16.996Z"
   },
   {
    "duration": 5,
    "start_time": "2022-11-29T08:00:35.035Z"
   },
   {
    "duration": 2608,
    "start_time": "2022-11-29T08:00:37.694Z"
   },
   {
    "duration": 6,
    "start_time": "2022-11-29T08:03:18.944Z"
   },
   {
    "duration": 3226,
    "start_time": "2022-11-29T08:03:20.807Z"
   },
   {
    "duration": 50,
    "start_time": "2022-11-29T08:03:41.025Z"
   },
   {
    "duration": 52,
    "start_time": "2022-11-29T08:03:44.778Z"
   },
   {
    "duration": 4,
    "start_time": "2022-11-29T08:04:20.046Z"
   },
   {
    "duration": 3100,
    "start_time": "2022-11-29T08:04:22.968Z"
   },
   {
    "duration": 5,
    "start_time": "2022-11-29T08:04:44.058Z"
   },
   {
    "duration": 3001,
    "start_time": "2022-11-29T08:04:46.919Z"
   },
   {
    "duration": 3180,
    "start_time": "2022-11-29T08:05:16.934Z"
   },
   {
    "duration": 3,
    "start_time": "2022-11-29T08:05:25.355Z"
   },
   {
    "duration": 4,
    "start_time": "2022-11-29T08:05:39.441Z"
   },
   {
    "duration": 3,
    "start_time": "2022-11-29T08:05:47.924Z"
   },
   {
    "duration": 3,
    "start_time": "2022-11-29T08:05:50.038Z"
   },
   {
    "duration": 3,
    "start_time": "2022-11-29T08:05:53.268Z"
   },
   {
    "duration": 4,
    "start_time": "2022-11-29T08:05:58.643Z"
   },
   {
    "duration": 7,
    "start_time": "2022-11-29T08:10:42.382Z"
   },
   {
    "duration": 5,
    "start_time": "2022-11-29T08:10:45.568Z"
   },
   {
    "duration": 4,
    "start_time": "2022-11-29T08:24:46.926Z"
   },
   {
    "duration": 8,
    "start_time": "2022-11-29T10:14:46.607Z"
   },
   {
    "duration": 7,
    "start_time": "2022-11-29T10:14:48.383Z"
   },
   {
    "duration": 7,
    "start_time": "2022-11-29T10:14:50.295Z"
   },
   {
    "duration": 551,
    "start_time": "2022-11-29T10:23:34.117Z"
   },
   {
    "duration": 4,
    "start_time": "2022-11-29T10:23:35.536Z"
   },
   {
    "duration": 550,
    "start_time": "2022-11-29T10:23:37.515Z"
   },
   {
    "duration": 4,
    "start_time": "2022-11-29T10:23:59.379Z"
   },
   {
    "duration": 6,
    "start_time": "2022-11-29T10:27:00.169Z"
   },
   {
    "duration": 535,
    "start_time": "2022-11-29T10:27:03.110Z"
   },
   {
    "duration": 20,
    "start_time": "2022-11-29T10:27:04.861Z"
   },
   {
    "duration": 5,
    "start_time": "2022-11-29T10:35:43.170Z"
   },
   {
    "duration": 587,
    "start_time": "2022-11-29T10:35:44.836Z"
   },
   {
    "duration": 18,
    "start_time": "2022-11-29T10:35:46.084Z"
   },
   {
    "duration": 10,
    "start_time": "2022-11-29T10:36:02.110Z"
   },
   {
    "duration": 9,
    "start_time": "2022-11-29T10:36:08.617Z"
   },
   {
    "duration": 621,
    "start_time": "2022-11-29T10:36:18.668Z"
   },
   {
    "duration": 17,
    "start_time": "2022-11-29T10:36:27.270Z"
   },
   {
    "duration": 17,
    "start_time": "2022-11-29T10:36:37.596Z"
   },
   {
    "duration": 3,
    "start_time": "2022-11-29T10:40:13.345Z"
   },
   {
    "duration": 4,
    "start_time": "2022-11-29T10:40:14.642Z"
   },
   {
    "duration": 4,
    "start_time": "2022-11-29T10:40:17.011Z"
   },
   {
    "duration": 7,
    "start_time": "2022-11-29T10:40:19.215Z"
   },
   {
    "duration": 9,
    "start_time": "2022-11-29T10:40:20.693Z"
   },
   {
    "duration": 7,
    "start_time": "2022-11-29T10:40:22.212Z"
   },
   {
    "duration": 4,
    "start_time": "2022-11-29T10:40:24.888Z"
   },
   {
    "duration": 596,
    "start_time": "2022-11-29T10:40:27.676Z"
   },
   {
    "duration": 16,
    "start_time": "2022-11-29T10:40:29.178Z"
   },
   {
    "duration": 557,
    "start_time": "2022-11-29T10:41:33.865Z"
   },
   {
    "duration": 18,
    "start_time": "2022-11-29T10:41:35.405Z"
   },
   {
    "duration": 592,
    "start_time": "2022-11-29T10:41:41.467Z"
   },
   {
    "duration": 17,
    "start_time": "2022-11-29T10:41:42.976Z"
   },
   {
    "duration": 575,
    "start_time": "2022-11-29T10:44:44.676Z"
   },
   {
    "duration": 16,
    "start_time": "2022-11-29T10:44:45.879Z"
   },
   {
    "duration": 4,
    "start_time": "2022-11-29T10:45:00.480Z"
   },
   {
    "duration": 556,
    "start_time": "2022-11-29T10:45:01.627Z"
   },
   {
    "duration": 4,
    "start_time": "2022-11-29T10:45:02.707Z"
   },
   {
    "duration": 1529,
    "start_time": "2022-11-29T10:50:41.324Z"
   },
   {
    "duration": 419,
    "start_time": "2022-11-29T10:50:42.855Z"
   },
   {
    "duration": 13,
    "start_time": "2022-11-29T10:50:43.276Z"
   },
   {
    "duration": 11,
    "start_time": "2022-11-29T10:50:43.291Z"
   },
   {
    "duration": 20,
    "start_time": "2022-11-29T10:50:43.303Z"
   },
   {
    "duration": 58,
    "start_time": "2022-11-29T10:50:43.325Z"
   },
   {
    "duration": 37,
    "start_time": "2022-11-29T10:50:43.385Z"
   },
   {
    "duration": 55,
    "start_time": "2022-11-29T10:50:43.423Z"
   },
   {
    "duration": 36,
    "start_time": "2022-11-29T10:50:43.479Z"
   },
   {
    "duration": 20,
    "start_time": "2022-11-29T10:50:43.537Z"
   },
   {
    "duration": 19,
    "start_time": "2022-11-29T10:50:43.559Z"
   },
   {
    "duration": 15,
    "start_time": "2022-11-29T10:50:43.580Z"
   },
   {
    "duration": 169,
    "start_time": "2022-11-29T10:50:43.596Z"
   },
   {
    "duration": 40,
    "start_time": "2022-11-29T10:50:43.767Z"
   },
   {
    "duration": 185,
    "start_time": "2022-11-29T10:50:43.809Z"
   },
   {
    "duration": 15,
    "start_time": "2022-11-29T10:50:43.997Z"
   },
   {
    "duration": 27,
    "start_time": "2022-11-29T10:50:44.014Z"
   },
   {
    "duration": 44,
    "start_time": "2022-11-29T10:50:44.042Z"
   },
   {
    "duration": 4,
    "start_time": "2022-11-29T10:50:44.088Z"
   },
   {
    "duration": 89,
    "start_time": "2022-11-29T10:50:44.093Z"
   },
   {
    "duration": 3,
    "start_time": "2022-11-29T10:50:44.184Z"
   },
   {
    "duration": 61,
    "start_time": "2022-11-29T10:50:44.189Z"
   },
   {
    "duration": 199,
    "start_time": "2022-11-29T10:50:44.252Z"
   },
   {
    "duration": 25,
    "start_time": "2022-11-29T10:50:44.543Z"
   },
   {
    "duration": 9,
    "start_time": "2022-11-29T10:50:44.634Z"
   },
   {
    "duration": 91,
    "start_time": "2022-11-29T10:50:44.651Z"
   },
   {
    "duration": 22,
    "start_time": "2022-11-29T10:50:44.744Z"
   },
   {
    "duration": 9,
    "start_time": "2022-11-29T10:50:44.772Z"
   },
   {
    "duration": 10,
    "start_time": "2022-11-29T10:50:44.782Z"
   },
   {
    "duration": 15,
    "start_time": "2022-11-29T10:50:44.793Z"
   },
   {
    "duration": 98,
    "start_time": "2022-11-29T10:50:44.810Z"
   },
   {
    "duration": 0,
    "start_time": "2022-11-29T10:50:44.910Z"
   },
   {
    "duration": 0,
    "start_time": "2022-11-29T10:50:44.911Z"
   },
   {
    "duration": 6,
    "start_time": "2022-11-29T10:52:47.209Z"
   },
   {
    "duration": 811,
    "start_time": "2022-11-29T10:52:50.038Z"
   },
   {
    "duration": 5,
    "start_time": "2022-11-29T10:52:54.831Z"
   },
   {
    "duration": 8,
    "start_time": "2022-11-29T10:53:26.522Z"
   },
   {
    "duration": 1098,
    "start_time": "2022-11-29T10:53:27.613Z"
   },
   {
    "duration": 585,
    "start_time": "2022-11-29T10:53:33.389Z"
   },
   {
    "duration": 4,
    "start_time": "2022-11-29T10:53:37.998Z"
   },
   {
    "duration": 653,
    "start_time": "2022-11-29T10:53:44.858Z"
   },
   {
    "duration": 4,
    "start_time": "2022-11-29T10:53:45.916Z"
   },
   {
    "duration": 686,
    "start_time": "2022-11-29T10:53:55.533Z"
   },
   {
    "duration": 9,
    "start_time": "2022-11-29T10:53:56.682Z"
   },
   {
    "duration": 714,
    "start_time": "2022-11-29T10:54:23.578Z"
   },
   {
    "duration": 4,
    "start_time": "2022-11-29T10:54:25.188Z"
   },
   {
    "duration": 705,
    "start_time": "2022-11-29T10:54:33.745Z"
   },
   {
    "duration": 5,
    "start_time": "2022-11-29T10:54:35.574Z"
   },
   {
    "duration": 792,
    "start_time": "2022-11-29T10:56:45.487Z"
   },
   {
    "duration": 4,
    "start_time": "2022-11-29T10:56:46.668Z"
   },
   {
    "duration": 621,
    "start_time": "2022-11-29T10:59:11.459Z"
   },
   {
    "duration": 5,
    "start_time": "2022-11-29T10:59:26.241Z"
   },
   {
    "duration": 589,
    "start_time": "2022-11-29T10:59:27.354Z"
   },
   {
    "duration": 4,
    "start_time": "2022-11-29T10:59:41.753Z"
   },
   {
    "duration": 5,
    "start_time": "2022-11-29T10:59:42.923Z"
   },
   {
    "duration": 617,
    "start_time": "2022-11-29T10:59:44.008Z"
   },
   {
    "duration": 584,
    "start_time": "2022-11-29T11:01:38.134Z"
   },
   {
    "duration": 553,
    "start_time": "2022-11-29T11:01:44.608Z"
   },
   {
    "duration": 567,
    "start_time": "2022-11-29T11:01:52.778Z"
   },
   {
    "duration": 599,
    "start_time": "2022-11-29T11:02:43.133Z"
   },
   {
    "duration": 771,
    "start_time": "2022-11-29T11:03:42.298Z"
   },
   {
    "duration": 991,
    "start_time": "2022-11-29T11:04:16.222Z"
   },
   {
    "duration": 802,
    "start_time": "2022-11-29T11:04:23.153Z"
   },
   {
    "duration": 947,
    "start_time": "2022-11-29T11:04:56.919Z"
   },
   {
    "duration": 652,
    "start_time": "2022-11-29T11:05:39.519Z"
   },
   {
    "duration": 8,
    "start_time": "2022-11-29T11:11:29.142Z"
   }
  ],
  "hide_input": false,
  "kernelspec": {
   "display_name": "Python 3 (ipykernel)",
   "language": "python",
   "name": "python3"
  },
  "language_info": {
   "codemirror_mode": {
    "name": "ipython",
    "version": 3
   },
   "file_extension": ".py",
   "mimetype": "text/x-python",
   "name": "python",
   "nbconvert_exporter": "python",
   "pygments_lexer": "ipython3",
   "version": "3.9.12"
  },
  "toc": {
   "base_numbering": 1,
   "nav_menu": {},
   "number_sections": true,
   "sideBar": true,
   "skip_h1_title": true,
   "title_cell": "Table of Contents",
   "title_sidebar": "Contents",
   "toc_cell": false,
   "toc_position": {},
   "toc_section_display": true,
   "toc_window_display": false
  }
 },
 "nbformat": 4,
 "nbformat_minor": 2
}
