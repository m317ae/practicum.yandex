{
 "cells": [
  {
   "cell_type": "markdown",
   "metadata": {},
   "source": [
    "# Защита персональных данных клиентов"
   ]
  },
  {
   "cell_type": "markdown",
   "metadata": {},
   "source": [
    "Вам нужно защитить данные клиентов страховой компании «Хоть потоп». Разработайте такой метод преобразования данных, чтобы по ним было сложно восстановить персональную информацию. Обоснуйте корректность его работы.\n",
    "\n",
    "Нужно защитить данные, чтобы при преобразовании качество моделей машинного обучения не ухудшилось. Подбирать наилучшую модель не требуется."
   ]
  },
  {
   "cell_type": "markdown",
   "metadata": {},
   "source": [
    "## Загрузка данных"
   ]
  },
  {
   "cell_type": "code",
   "execution_count": 1,
   "metadata": {},
   "outputs": [],
   "source": [
    "import pandas as pd\n",
    "import numpy  as np\n",
    "from sklearn.linear_model import LinearRegression\n",
    "from sklearn.model_selection import train_test_split\n",
    "from sklearn.metrics import r2_score"
   ]
  },
  {
   "cell_type": "code",
   "execution_count": 2,
   "metadata": {},
   "outputs": [
    {
     "data": {
      "text/html": [
       "<div>\n",
       "<style scoped>\n",
       "    .dataframe tbody tr th:only-of-type {\n",
       "        vertical-align: middle;\n",
       "    }\n",
       "\n",
       "    .dataframe tbody tr th {\n",
       "        vertical-align: top;\n",
       "    }\n",
       "\n",
       "    .dataframe thead th {\n",
       "        text-align: right;\n",
       "    }\n",
       "</style>\n",
       "<table border=\"1\" class=\"dataframe\">\n",
       "  <thead>\n",
       "    <tr style=\"text-align: right;\">\n",
       "      <th></th>\n",
       "      <th>Пол</th>\n",
       "      <th>Возраст</th>\n",
       "      <th>Зарплата</th>\n",
       "      <th>Члены семьи</th>\n",
       "      <th>Страховые выплаты</th>\n",
       "    </tr>\n",
       "  </thead>\n",
       "  <tbody>\n",
       "    <tr>\n",
       "      <th>0</th>\n",
       "      <td>1</td>\n",
       "      <td>41.0</td>\n",
       "      <td>49600.0</td>\n",
       "      <td>1</td>\n",
       "      <td>0</td>\n",
       "    </tr>\n",
       "    <tr>\n",
       "      <th>1</th>\n",
       "      <td>0</td>\n",
       "      <td>46.0</td>\n",
       "      <td>38000.0</td>\n",
       "      <td>1</td>\n",
       "      <td>1</td>\n",
       "    </tr>\n",
       "    <tr>\n",
       "      <th>2</th>\n",
       "      <td>0</td>\n",
       "      <td>29.0</td>\n",
       "      <td>21000.0</td>\n",
       "      <td>0</td>\n",
       "      <td>0</td>\n",
       "    </tr>\n",
       "    <tr>\n",
       "      <th>3</th>\n",
       "      <td>0</td>\n",
       "      <td>21.0</td>\n",
       "      <td>41700.0</td>\n",
       "      <td>2</td>\n",
       "      <td>0</td>\n",
       "    </tr>\n",
       "    <tr>\n",
       "      <th>4</th>\n",
       "      <td>1</td>\n",
       "      <td>28.0</td>\n",
       "      <td>26100.0</td>\n",
       "      <td>0</td>\n",
       "      <td>0</td>\n",
       "    </tr>\n",
       "  </tbody>\n",
       "</table>\n",
       "</div>"
      ],
      "text/plain": [
       "   Пол  Возраст  Зарплата  Члены семьи  Страховые выплаты\n",
       "0    1     41.0   49600.0            1                  0\n",
       "1    0     46.0   38000.0            1                  1\n",
       "2    0     29.0   21000.0            0                  0\n",
       "3    0     21.0   41700.0            2                  0\n",
       "4    1     28.0   26100.0            0                  0"
      ]
     },
     "execution_count": 2,
     "metadata": {},
     "output_type": "execute_result"
    }
   ],
   "source": [
    "df = pd.read_csv('/datasets/insurance.csv')\n",
    "df.head()"
   ]
  },
  {
   "cell_type": "markdown",
   "metadata": {},
   "source": [
    "Приведем названия признаков к человеческому виду"
   ]
  },
  {
   "cell_type": "code",
   "execution_count": 3,
   "metadata": {},
   "outputs": [],
   "source": [
    "df.columns = ['sex', 'age', 'income', 'famaly_members', 'claim']"
   ]
  },
  {
   "cell_type": "code",
   "execution_count": 4,
   "metadata": {},
   "outputs": [
    {
     "name": "stdout",
     "output_type": "stream",
     "text": [
      "<class 'pandas.core.frame.DataFrame'>\n",
      "RangeIndex: 5000 entries, 0 to 4999\n",
      "Data columns (total 5 columns):\n",
      " #   Column          Non-Null Count  Dtype  \n",
      "---  ------          --------------  -----  \n",
      " 0   sex             5000 non-null   int64  \n",
      " 1   age             5000 non-null   float64\n",
      " 2   income          5000 non-null   float64\n",
      " 3   famaly_members  5000 non-null   int64  \n",
      " 4   claim           5000 non-null   int64  \n",
      "dtypes: float64(2), int64(3)\n",
      "memory usage: 195.4 KB\n"
     ]
    }
   ],
   "source": [
    "df.info()"
   ]
  },
  {
   "cell_type": "markdown",
   "metadata": {},
   "source": [
    "Проверим, за одно и избавимся от явных дублей"
   ]
  },
  {
   "cell_type": "code",
   "execution_count": 6,
   "metadata": {},
   "outputs": [
    {
     "name": "stdout",
     "output_type": "stream",
     "text": [
      "<class 'pandas.core.frame.DataFrame'>\n",
      "RangeIndex: 5000 entries, 0 to 4999\n",
      "Data columns (total 5 columns):\n",
      " #   Column          Non-Null Count  Dtype  \n",
      "---  ------          --------------  -----  \n",
      " 0   sex             5000 non-null   int64  \n",
      " 1   age             5000 non-null   float64\n",
      " 2   income          5000 non-null   float64\n",
      " 3   famaly_members  5000 non-null   int64  \n",
      " 4   claim           5000 non-null   int64  \n",
      "dtypes: float64(2), int64(3)\n",
      "memory usage: 195.4 KB\n"
     ]
    }
   ],
   "source": [
    "df.info()"
   ]
  },
  {
   "cell_type": "code",
   "execution_count": 7,
   "metadata": {},
   "outputs": [
    {
     "data": {
      "text/html": [
       "<div>\n",
       "<style scoped>\n",
       "    .dataframe tbody tr th:only-of-type {\n",
       "        vertical-align: middle;\n",
       "    }\n",
       "\n",
       "    .dataframe tbody tr th {\n",
       "        vertical-align: top;\n",
       "    }\n",
       "\n",
       "    .dataframe thead th {\n",
       "        text-align: right;\n",
       "    }\n",
       "</style>\n",
       "<table border=\"1\" class=\"dataframe\">\n",
       "  <thead>\n",
       "    <tr style=\"text-align: right;\">\n",
       "      <th></th>\n",
       "      <th>claim</th>\n",
       "    </tr>\n",
       "    <tr>\n",
       "      <th>claim</th>\n",
       "      <th></th>\n",
       "    </tr>\n",
       "  </thead>\n",
       "  <tbody>\n",
       "    <tr>\n",
       "      <th>0</th>\n",
       "      <td>4436</td>\n",
       "    </tr>\n",
       "    <tr>\n",
       "      <th>1</th>\n",
       "      <td>423</td>\n",
       "    </tr>\n",
       "    <tr>\n",
       "      <th>2</th>\n",
       "      <td>115</td>\n",
       "    </tr>\n",
       "    <tr>\n",
       "      <th>3</th>\n",
       "      <td>18</td>\n",
       "    </tr>\n",
       "    <tr>\n",
       "      <th>4</th>\n",
       "      <td>7</td>\n",
       "    </tr>\n",
       "    <tr>\n",
       "      <th>5</th>\n",
       "      <td>1</td>\n",
       "    </tr>\n",
       "  </tbody>\n",
       "</table>\n",
       "</div>"
      ],
      "text/plain": [
       "       claim\n",
       "claim       \n",
       "0       4436\n",
       "1        423\n",
       "2        115\n",
       "3         18\n",
       "4          7\n",
       "5          1"
      ]
     },
     "execution_count": 7,
     "metadata": {},
     "output_type": "execute_result"
    }
   ],
   "source": [
    "df.groupby(['claim']).agg({'claim':'count'})"
   ]
  },
  {
   "cell_type": "code",
   "execution_count": 8,
   "metadata": {},
   "outputs": [
    {
     "data": {
      "text/html": [
       "<div>\n",
       "<style scoped>\n",
       "    .dataframe tbody tr th:only-of-type {\n",
       "        vertical-align: middle;\n",
       "    }\n",
       "\n",
       "    .dataframe tbody tr th {\n",
       "        vertical-align: top;\n",
       "    }\n",
       "\n",
       "    .dataframe thead th {\n",
       "        text-align: right;\n",
       "    }\n",
       "</style>\n",
       "<table border=\"1\" class=\"dataframe\">\n",
       "  <thead>\n",
       "    <tr style=\"text-align: right;\">\n",
       "      <th></th>\n",
       "      <th>sex</th>\n",
       "      <th>age</th>\n",
       "      <th>income</th>\n",
       "      <th>famaly_members</th>\n",
       "      <th>claim</th>\n",
       "    </tr>\n",
       "  </thead>\n",
       "  <tbody>\n",
       "    <tr>\n",
       "      <th>1568</th>\n",
       "      <td>1</td>\n",
       "      <td>59.0</td>\n",
       "      <td>32100.0</td>\n",
       "      <td>0</td>\n",
       "      <td>4</td>\n",
       "    </tr>\n",
       "    <tr>\n",
       "      <th>2240</th>\n",
       "      <td>0</td>\n",
       "      <td>60.0</td>\n",
       "      <td>27900.0</td>\n",
       "      <td>0</td>\n",
       "      <td>4</td>\n",
       "    </tr>\n",
       "    <tr>\n",
       "      <th>3117</th>\n",
       "      <td>0</td>\n",
       "      <td>60.0</td>\n",
       "      <td>43400.0</td>\n",
       "      <td>2</td>\n",
       "      <td>4</td>\n",
       "    </tr>\n",
       "    <tr>\n",
       "      <th>3209</th>\n",
       "      <td>1</td>\n",
       "      <td>59.0</td>\n",
       "      <td>51700.0</td>\n",
       "      <td>2</td>\n",
       "      <td>4</td>\n",
       "    </tr>\n",
       "    <tr>\n",
       "      <th>3674</th>\n",
       "      <td>1</td>\n",
       "      <td>59.0</td>\n",
       "      <td>29600.0</td>\n",
       "      <td>0</td>\n",
       "      <td>4</td>\n",
       "    </tr>\n",
       "    <tr>\n",
       "      <th>3907</th>\n",
       "      <td>1</td>\n",
       "      <td>61.0</td>\n",
       "      <td>39600.0</td>\n",
       "      <td>1</td>\n",
       "      <td>4</td>\n",
       "    </tr>\n",
       "    <tr>\n",
       "      <th>4019</th>\n",
       "      <td>0</td>\n",
       "      <td>62.0</td>\n",
       "      <td>14100.0</td>\n",
       "      <td>0</td>\n",
       "      <td>4</td>\n",
       "    </tr>\n",
       "  </tbody>\n",
       "</table>\n",
       "</div>"
      ],
      "text/plain": [
       "      sex   age   income  famaly_members  claim\n",
       "1568    1  59.0  32100.0               0      4\n",
       "2240    0  60.0  27900.0               0      4\n",
       "3117    0  60.0  43400.0               2      4\n",
       "3209    1  59.0  51700.0               2      4\n",
       "3674    1  59.0  29600.0               0      4\n",
       "3907    1  61.0  39600.0               1      4\n",
       "4019    0  62.0  14100.0               0      4"
      ]
     },
     "execution_count": 8,
     "metadata": {},
     "output_type": "execute_result"
    }
   ],
   "source": [
    "df[df[\"claim\"]==4]"
   ]
  },
  {
   "cell_type": "markdown",
   "metadata": {},
   "source": [
    "В представленном ДФ было некоторое кол-во явных дубликатов, в остальном данные предподготовенные, полные. Страховые выплаты получают ~11% заявителей. Наиболее часто встречается 1 выплата, но дохоодит и до пяти.  "
   ]
  },
  {
   "cell_type": "markdown",
   "metadata": {},
   "source": [
    "## Умножение матриц"
   ]
  },
  {
   "cell_type": "markdown",
   "metadata": {},
   "source": [
    "Обозначения:\n",
    "\n",
    "- $X$ — матрица признаков (нулевой столбец состоит из единиц)\n",
    "\n",
    "- $y$ — вектор целевого признака\n",
    "\n",
    "- $P$ — матрица, на которую умножаются признаки\n",
    "\n",
    "- $w$ — вектор весов линейной регрессии (нулевой элемент равен сдвигу)"
   ]
  },
  {
   "cell_type": "markdown",
   "metadata": {},
   "source": [
    "Предсказания:\n",
    "\n",
    "$$\n",
    "a = Xw\n",
    "$$\n",
    "\n",
    "Задача обучения:\n",
    "\n",
    "$$\n",
    "w = \\arg\\min_w MSE(Xw, y)\n",
    "$$\n",
    "\n",
    "Формула обучения:\n",
    "\n",
    "$$\n",
    "w = (X^T X)^{-1} X^T y\n",
    "$$"
   ]
  },
  {
   "cell_type": "markdown",
   "metadata": {},
   "source": [
    "\n",
    "Свойства матриц, необходимые для обоснования:\n",
    "\n",
    "$(A+B)^T = A^T + B^T$\n",
    "\n",
    "$(A^{-1})^T = (A^T)^{-1}$\n",
    "\n",
    "$(AB)C = (AB)С$, важна последовательность умножения матриц\n",
    "\n",
    "$AE = EA = A, где   Е - единичная  матрица$\n",
    "\n",
    "$AA^{-1} = A^{-1}A = E, где   Е - единичная  матрица$\n",
    "\n",
    "$(A^{-1})^{-1} = A$\n",
    "\n",
    "$(A^T)^T = A$\n",
    "\n",
    "$(AB)^T=B^T A^T$, Важно, что при раскрытии скобок матрицы меняются местами\n",
    "\n",
    "$(AB)^{-1} = B^{-1} A^{-1}$, Важно, что при раскрытии скобок матрицы меняются местами"
   ]
  },
  {
   "cell_type": "markdown",
   "metadata": {},
   "source": [
    "**Ответ:** качество линейной регрессии не изменится при умножении марицы признаков на произвольную обратимую марицу\n",
    "\n",
    "**Обоснование:**"
   ]
  },
  {
   "cell_type": "markdown",
   "metadata": {},
   "source": [
    "Формула предсказания:\n",
    "    \n",
    "$a=X(X^T X)^{-1} X^T y$\n",
    "\n",
    "Умножим матрицу фич из этой формулы на случайную матрицу P. Получим:\n",
    "\n",
    "$a' = XP((XP)^T XP)^{-1} (XP)^T y$\n",
    "\n",
    "Вынесем P из скобок:\n",
    "\n",
    "$a' = XP P^{-1}(X^T X)^{-1}(P^T)^{-1} P^T X^T y$\n",
    "\n",
    "Из свойств матриц известно, что при перемоножени $P^{-1}$ и $P$,  $(P^T)^{-1}$ и $P^T$ получаются единичные матрицы $E$:\n",
    "\n",
    "$a' = X E  (X^T X)^{-1} E X^T y$\n",
    "\n",
    "При умнодении марицы на единичную, марица остается неизменной, таким образуо молучаем:\n",
    "\n",
    "$a'=X(X^T X)^{-1} X^T y = a$ \n",
    "\n",
    "Ч.т.д"
   ]
  },
  {
   "cell_type": "markdown",
   "metadata": {},
   "source": [
    "## Алгоритм преобразования"
   ]
  },
  {
   "cell_type": "markdown",
   "metadata": {},
   "source": [
    "**Алгоритм**\n",
    "\n",
    "1) обучаем линейную регресси на признаках без изменений\n",
    "\n",
    "2) вычисляем метрику R2\n",
    "\n",
    "3) создаем случайную матрицу, проверяем ее на обратимость\n",
    "\n",
    "4) домножаем матрицу признаков на случайную матрицу P\n",
    "\n",
    "5) обучаем линейную регресси на признаках, умноженных на случайную матрицу P\n",
    "\n",
    "6) вычисляем метрику R2 для можифицированной регресси\n",
    "\n",
    "7) сравниваем значения метрик, деаем выводы"
   ]
  },
  {
   "cell_type": "markdown",
   "metadata": {},
   "source": [
    "### Проверка алгоритма"
   ]
  },
  {
   "cell_type": "markdown",
   "metadata": {},
   "source": [
    "#### обучаем линейную регресси на признаках без изменений"
   ]
  },
  {
   "cell_type": "code",
   "execution_count": 9,
   "metadata": {},
   "outputs": [],
   "source": [
    "features = df.drop(['claim'], axis=1)\n",
    "target = df['claim'] \n",
    "\n",
    "features_train, features_valid, target_train, target_valid = train_test_split(\n",
    "   features, target, test_size=0.25, random_state=12345) # отделите 25% данных для валидационной выборки\n",
    " \n",
    "model = LinearRegression() # инициализируйте модель LinearRegression\n",
    "model.fit(features_train, target_train) # обучите модель на тренировочной выборке\n",
    "predictions_valid = model.predict(features_valid) # получите предсказания модели на валидационной выборке"
   ]
  },
  {
   "cell_type": "markdown",
   "metadata": {},
   "source": [
    "#### вычислим r2 признаках без изменений"
   ]
  },
  {
   "cell_type": "code",
   "execution_count": 10,
   "metadata": {},
   "outputs": [
    {
     "data": {
      "text/plain": [
       "0.43522757127026546"
      ]
     },
     "execution_count": 10,
     "metadata": {},
     "output_type": "execute_result"
    }
   ],
   "source": [
    "r2 =r2_score(target_valid, predictions_valid)\n",
    "r2"
   ]
  },
  {
   "cell_type": "markdown",
   "metadata": {},
   "source": [
    "#### создаем случайную матрицу, проверяем ее на обратимость"
   ]
  },
  {
   "cell_type": "code",
   "execution_count": 11,
   "metadata": {},
   "outputs": [
    {
     "data": {
      "text/plain": [
       "array([[ 1.62434536, -0.61175641, -0.52817175, -1.07296862],\n",
       "       [ 0.86540763, -2.3015387 ,  1.74481176, -0.7612069 ],\n",
       "       [ 0.3190391 , -0.24937038,  1.46210794, -2.06014071],\n",
       "       [-0.3224172 , -0.38405435,  1.13376944, -1.09989127]])"
      ]
     },
     "metadata": {},
     "output_type": "display_data"
    },
    {
     "data": {
      "text/plain": [
       "array([[-0.35094377,  0.36251002,  1.39318587, -2.51802381],\n",
       "       [-0.62956985, -0.08847157,  1.42691875, -1.9972879 ],\n",
       "       [-0.93695498,  0.4429333 ,  1.44590393, -2.10075869],\n",
       "       [-0.64311046,  0.38120375,  0.58380338, -1.63912083]])"
      ]
     },
     "metadata": {},
     "output_type": "display_data"
    }
   ],
   "source": [
    "np.random.seed(1) #зафиксируем гпсч\n",
    "p = np.random.normal(size = (4,4)) # генерим матрицу, т.к. у фич 4 столбцов, то марица 4х4, для соблюдений праивла матричного умножения\n",
    "display(p)\n",
    "display(np.linalg.inv(p))"
   ]
  },
  {
   "cell_type": "markdown",
   "metadata": {},
   "source": [
    "#### домножаем матрицу признаков на случайную матрицу P"
   ]
  },
  {
   "cell_type": "code",
   "execution_count": 12,
   "metadata": {},
   "outputs": [],
   "source": [
    "features_mod = df.drop(['claim'], axis=1)@p #непосредсвенно умнодаем фичи на матрицу P\n",
    "target_mod = df['claim'] \n",
    "\n",
    "features_train_mod, features_valid_mod, target_train_mod, target_valid_mod = train_test_split(\n",
    "   features_mod, target_mod, test_size=0.25, random_state=12345) # отделите 25% данных для валидационной выборки\n",
    " \n",
    "model_mod = LinearRegression() # инициализируйте модель LinearRegression\n",
    "model_mod.fit(features_train_mod, target_train_mod) # обучите модель на тренировочной выборке\n",
    "predictions_valid_mod = model_mod.predict(features_valid_mod) # получите предсказания модели на валидационной выборке"
   ]
  },
  {
   "cell_type": "markdown",
   "metadata": {},
   "source": [
    "#### вычисляем метрику R2 для можифицированной регресси"
   ]
  },
  {
   "cell_type": "code",
   "execution_count": 13,
   "metadata": {},
   "outputs": [
    {
     "data": {
      "text/plain": [
       "0.43522757127035283"
      ]
     },
     "execution_count": 13,
     "metadata": {},
     "output_type": "execute_result"
    }
   ],
   "source": [
    "r2_mod =r2_score(target_valid_mod, predictions_valid_mod)\n",
    "r2_mod"
   ]
  },
  {
   "cell_type": "markdown",
   "metadata": {},
   "source": [
    "***Вывод:***\n",
    "\n",
    "В ходе данной работы обосновано и доказано на практике предположение о возможности шифрования исходных данных для обучения путем матричного умножения матрицы признаков на случайную матрицу. Обучены 2 можели линейной регресси: на открытых и на шифрованных данных. Метрики r2 обоих моделей совпадают из чиге можно сдлеать вывод, что подобная методика шифрования не влияет на качество моделей."
   ]
  }
 ],
 "metadata": {
  "ExecuteTimeLog": [
   {
    "duration": 462,
    "start_time": "2023-02-01T09:41:58.256Z"
   },
   {
    "duration": 103,
    "start_time": "2023-02-01T09:41:59.475Z"
   },
   {
    "duration": 87,
    "start_time": "2023-02-01T09:42:10.831Z"
   },
   {
    "duration": 31,
    "start_time": "2023-02-01T09:42:14.964Z"
   },
   {
    "duration": 30,
    "start_time": "2023-02-01T09:42:16.050Z"
   },
   {
    "duration": 13,
    "start_time": "2023-02-01T09:42:29.144Z"
   },
   {
    "duration": 11,
    "start_time": "2023-02-01T09:44:08.570Z"
   },
   {
    "duration": 13,
    "start_time": "2023-02-01T09:44:26.698Z"
   },
   {
    "duration": 16,
    "start_time": "2023-02-01T09:44:57.378Z"
   },
   {
    "duration": 11,
    "start_time": "2023-02-01T09:45:11.308Z"
   },
   {
    "duration": 10,
    "start_time": "2023-02-01T09:45:19.447Z"
   },
   {
    "duration": 11,
    "start_time": "2023-02-01T09:45:23.599Z"
   },
   {
    "duration": 9,
    "start_time": "2023-02-01T09:46:08.632Z"
   },
   {
    "duration": 9,
    "start_time": "2023-02-01T09:46:20.460Z"
   },
   {
    "duration": 49,
    "start_time": "2023-02-01T09:47:51.067Z"
   },
   {
    "duration": 16,
    "start_time": "2023-02-01T09:48:00.340Z"
   },
   {
    "duration": 16,
    "start_time": "2023-02-01T09:48:54.321Z"
   },
   {
    "duration": 24,
    "start_time": "2023-02-01T09:49:00.420Z"
   },
   {
    "duration": 14,
    "start_time": "2023-02-01T09:49:18.654Z"
   },
   {
    "duration": 17,
    "start_time": "2023-02-01T09:49:20.618Z"
   },
   {
    "duration": 18,
    "start_time": "2023-02-01T09:49:35.272Z"
   },
   {
    "duration": 8,
    "start_time": "2023-02-01T09:49:51.551Z"
   },
   {
    "duration": 20,
    "start_time": "2023-02-01T09:50:01.518Z"
   },
   {
    "duration": 14,
    "start_time": "2023-02-01T09:50:17.045Z"
   },
   {
    "duration": 6,
    "start_time": "2023-02-01T09:54:42.456Z"
   },
   {
    "duration": 12,
    "start_time": "2023-02-01T09:54:43.774Z"
   },
   {
    "duration": 10,
    "start_time": "2023-02-01T09:55:02.998Z"
   },
   {
    "duration": 11,
    "start_time": "2023-02-01T09:55:04.330Z"
   },
   {
    "duration": 3,
    "start_time": "2023-02-01T09:55:07.252Z"
   },
   {
    "duration": 31,
    "start_time": "2023-02-01T09:55:08.382Z"
   },
   {
    "duration": 12,
    "start_time": "2023-02-01T09:55:09.792Z"
   },
   {
    "duration": 7,
    "start_time": "2023-02-01T09:55:11.862Z"
   },
   {
    "duration": 11,
    "start_time": "2023-02-01T09:55:13.118Z"
   },
   {
    "duration": 9,
    "start_time": "2023-02-01T09:55:18.837Z"
   },
   {
    "duration": 12,
    "start_time": "2023-02-01T09:55:23.692Z"
   },
   {
    "duration": 417,
    "start_time": "2023-02-02T06:28:54.084Z"
   },
   {
    "duration": 127,
    "start_time": "2023-02-02T06:28:54.503Z"
   },
   {
    "duration": 28,
    "start_time": "2023-02-02T06:28:54.633Z"
   },
   {
    "duration": 11,
    "start_time": "2023-02-02T06:28:54.668Z"
   },
   {
    "duration": 15,
    "start_time": "2023-02-02T06:28:54.681Z"
   },
   {
    "duration": 9,
    "start_time": "2023-02-02T06:28:54.698Z"
   },
   {
    "duration": 14,
    "start_time": "2023-02-02T06:28:54.709Z"
   },
   {
    "duration": 112,
    "start_time": "2023-02-02T16:37:55.058Z"
   },
   {
    "duration": 53,
    "start_time": "2023-02-02T16:52:18.984Z"
   },
   {
    "duration": 1221,
    "start_time": "2023-02-02T16:52:26.178Z"
   },
   {
    "duration": 98,
    "start_time": "2023-02-02T16:52:27.401Z"
   },
   {
    "duration": 12,
    "start_time": "2023-02-02T16:52:27.501Z"
   },
   {
    "duration": 9,
    "start_time": "2023-02-02T16:52:27.515Z"
   },
   {
    "duration": 21,
    "start_time": "2023-02-02T16:52:27.525Z"
   },
   {
    "duration": 17,
    "start_time": "2023-02-02T16:52:27.548Z"
   },
   {
    "duration": 14,
    "start_time": "2023-02-02T16:52:27.584Z"
   },
   {
    "duration": 16,
    "start_time": "2023-02-02T16:52:27.600Z"
   },
   {
    "duration": 144,
    "start_time": "2023-02-02T16:52:27.617Z"
   },
   {
    "duration": 31,
    "start_time": "2023-02-02T16:55:41.593Z"
   },
   {
    "duration": 4,
    "start_time": "2023-02-02T16:56:27.473Z"
   },
   {
    "duration": 14,
    "start_time": "2023-02-02T16:56:29.532Z"
   },
   {
    "duration": 32,
    "start_time": "2023-02-02T16:56:37.356Z"
   },
   {
    "duration": 4,
    "start_time": "2023-02-02T16:56:39.291Z"
   },
   {
    "duration": 16,
    "start_time": "2023-02-02T16:56:40.762Z"
   },
   {
    "duration": 1316,
    "start_time": "2023-02-02T16:57:21.754Z"
   },
   {
    "duration": 45,
    "start_time": "2023-02-02T16:57:23.072Z"
   },
   {
    "duration": 4,
    "start_time": "2023-02-02T16:57:23.119Z"
   },
   {
    "duration": 153,
    "start_time": "2023-02-02T16:57:23.125Z"
   },
   {
    "duration": 0,
    "start_time": "2023-02-02T16:57:23.284Z"
   },
   {
    "duration": 0,
    "start_time": "2023-02-02T16:57:23.285Z"
   },
   {
    "duration": 0,
    "start_time": "2023-02-02T16:57:23.286Z"
   },
   {
    "duration": 0,
    "start_time": "2023-02-02T16:57:23.287Z"
   },
   {
    "duration": 0,
    "start_time": "2023-02-02T16:57:23.289Z"
   },
   {
    "duration": 0,
    "start_time": "2023-02-02T16:57:23.290Z"
   },
   {
    "duration": 17,
    "start_time": "2023-02-02T16:57:31.305Z"
   },
   {
    "duration": 16,
    "start_time": "2023-02-02T16:58:02.948Z"
   },
   {
    "duration": 9,
    "start_time": "2023-02-02T16:58:04.245Z"
   },
   {
    "duration": 12,
    "start_time": "2023-02-02T16:58:05.771Z"
   },
   {
    "duration": 8,
    "start_time": "2023-02-02T16:58:11.963Z"
   },
   {
    "duration": 15,
    "start_time": "2023-02-02T16:58:13.676Z"
   },
   {
    "duration": 10,
    "start_time": "2023-02-02T16:58:16.180Z"
   },
   {
    "duration": 12,
    "start_time": "2023-02-02T16:58:18.534Z"
   },
   {
    "duration": 106,
    "start_time": "2023-02-02T16:58:38.448Z"
   },
   {
    "duration": 101,
    "start_time": "2023-02-02T16:59:02.959Z"
   },
   {
    "duration": 13,
    "start_time": "2023-02-02T16:59:21.595Z"
   },
   {
    "duration": 15,
    "start_time": "2023-02-02T16:59:23.910Z"
   },
   {
    "duration": 22,
    "start_time": "2023-02-02T17:00:10.153Z"
   },
   {
    "duration": 12,
    "start_time": "2023-02-02T17:00:16.325Z"
   },
   {
    "duration": 12,
    "start_time": "2023-02-02T17:01:26.600Z"
   },
   {
    "duration": 3,
    "start_time": "2023-02-02T17:03:28.947Z"
   },
   {
    "duration": 9,
    "start_time": "2023-02-02T17:03:41.035Z"
   },
   {
    "duration": 4,
    "start_time": "2023-02-02T17:03:53.639Z"
   },
   {
    "duration": 7,
    "start_time": "2023-02-02T17:03:58.812Z"
   },
   {
    "duration": 13,
    "start_time": "2023-02-02T17:08:19.875Z"
   },
   {
    "duration": 3,
    "start_time": "2023-02-02T17:08:34.661Z"
   },
   {
    "duration": 4,
    "start_time": "2023-02-02T17:08:38.086Z"
   },
   {
    "duration": 6,
    "start_time": "2023-02-02T17:08:40.533Z"
   },
   {
    "duration": 5,
    "start_time": "2023-02-02T17:08:44.635Z"
   },
   {
    "duration": 5,
    "start_time": "2023-02-02T17:08:45.265Z"
   },
   {
    "duration": 5,
    "start_time": "2023-02-02T17:08:45.799Z"
   },
   {
    "duration": 6,
    "start_time": "2023-02-02T17:08:46.317Z"
   },
   {
    "duration": 6,
    "start_time": "2023-02-02T17:08:46.752Z"
   },
   {
    "duration": 5,
    "start_time": "2023-02-02T17:08:47.302Z"
   },
   {
    "duration": 6,
    "start_time": "2023-02-02T17:08:47.736Z"
   },
   {
    "duration": 6,
    "start_time": "2023-02-02T17:08:48.030Z"
   },
   {
    "duration": 4,
    "start_time": "2023-02-02T17:08:48.161Z"
   },
   {
    "duration": 5,
    "start_time": "2023-02-02T17:08:48.311Z"
   },
   {
    "duration": 550,
    "start_time": "2023-02-02T17:09:00.674Z"
   },
   {
    "duration": 136,
    "start_time": "2023-02-02T17:09:03.752Z"
   },
   {
    "duration": 109,
    "start_time": "2023-02-02T17:12:03.815Z"
   },
   {
    "duration": 5,
    "start_time": "2023-02-02T17:12:08.543Z"
   },
   {
    "duration": 5,
    "start_time": "2023-02-02T17:12:14.171Z"
   },
   {
    "duration": 5,
    "start_time": "2023-02-02T17:12:19.228Z"
   },
   {
    "duration": 5,
    "start_time": "2023-02-02T17:12:53.091Z"
   },
   {
    "duration": 6,
    "start_time": "2023-02-02T17:12:54.169Z"
   },
   {
    "duration": 5,
    "start_time": "2023-02-02T17:12:55.885Z"
   },
   {
    "duration": 5,
    "start_time": "2023-02-02T17:12:58.550Z"
   },
   {
    "duration": 6,
    "start_time": "2023-02-02T17:12:59.585Z"
   },
   {
    "duration": 5,
    "start_time": "2023-02-02T17:13:00.217Z"
   },
   {
    "duration": 6,
    "start_time": "2023-02-02T17:13:00.682Z"
   },
   {
    "duration": 4,
    "start_time": "2023-02-02T17:13:04.633Z"
   },
   {
    "duration": 5,
    "start_time": "2023-02-02T17:13:10.268Z"
   },
   {
    "duration": 6,
    "start_time": "2023-02-02T17:13:11.033Z"
   },
   {
    "duration": 6,
    "start_time": "2023-02-02T17:13:11.535Z"
   },
   {
    "duration": 5,
    "start_time": "2023-02-02T17:13:11.907Z"
   },
   {
    "duration": 5,
    "start_time": "2023-02-02T17:13:14.052Z"
   },
   {
    "duration": 4,
    "start_time": "2023-02-02T17:13:14.591Z"
   },
   {
    "duration": 5,
    "start_time": "2023-02-02T17:13:14.912Z"
   },
   {
    "duration": 5,
    "start_time": "2023-02-02T17:13:15.109Z"
   },
   {
    "duration": 5,
    "start_time": "2023-02-02T17:13:15.284Z"
   },
   {
    "duration": 4,
    "start_time": "2023-02-02T17:13:53.474Z"
   },
   {
    "duration": 3,
    "start_time": "2023-02-02T17:13:55.957Z"
   },
   {
    "duration": 6,
    "start_time": "2023-02-02T17:13:58.898Z"
   },
   {
    "duration": 18,
    "start_time": "2023-02-02T17:14:55.669Z"
   },
   {
    "duration": 4,
    "start_time": "2023-02-02T17:17:06.068Z"
   },
   {
    "duration": 16,
    "start_time": "2023-02-02T17:17:07.424Z"
   },
   {
    "duration": 11,
    "start_time": "2023-02-02T17:17:20.149Z"
   },
   {
    "duration": 6,
    "start_time": "2023-02-02T17:17:38.711Z"
   },
   {
    "duration": 10,
    "start_time": "2023-02-02T17:18:05.570Z"
   },
   {
    "duration": 5,
    "start_time": "2023-02-02T17:18:44.205Z"
   },
   {
    "duration": 5,
    "start_time": "2023-02-02T17:18:56.477Z"
   },
   {
    "duration": 12,
    "start_time": "2023-02-02T17:18:58.939Z"
   },
   {
    "duration": 99,
    "start_time": "2023-02-02T17:19:57.591Z"
   },
   {
    "duration": 1548,
    "start_time": "2023-02-02T17:51:05.809Z"
   },
   {
    "duration": 139,
    "start_time": "2023-02-02T17:51:07.359Z"
   },
   {
    "duration": 3,
    "start_time": "2023-02-02T17:51:07.500Z"
   },
   {
    "duration": 13,
    "start_time": "2023-02-02T17:51:07.505Z"
   },
   {
    "duration": 4,
    "start_time": "2023-02-02T17:51:07.520Z"
   },
   {
    "duration": 9,
    "start_time": "2023-02-02T17:51:07.526Z"
   },
   {
    "duration": 7,
    "start_time": "2023-02-02T17:51:07.536Z"
   },
   {
    "duration": 11,
    "start_time": "2023-02-02T17:51:07.544Z"
   },
   {
    "duration": 10,
    "start_time": "2023-02-02T17:51:07.557Z"
   },
   {
    "duration": 15,
    "start_time": "2023-02-02T17:51:07.569Z"
   },
   {
    "duration": 5,
    "start_time": "2023-02-02T17:51:07.586Z"
   },
   {
    "duration": 17,
    "start_time": "2023-02-02T17:51:07.592Z"
   },
   {
    "duration": 4,
    "start_time": "2023-02-02T17:51:07.611Z"
   },
   {
    "duration": 11,
    "start_time": "2023-02-02T18:02:23.783Z"
   },
   {
    "duration": 12,
    "start_time": "2023-02-02T18:03:02.203Z"
   },
   {
    "duration": 4,
    "start_time": "2023-02-02T18:18:29.620Z"
   },
   {
    "duration": 86,
    "start_time": "2023-02-02T18:20:07.369Z"
   },
   {
    "duration": 1555,
    "start_time": "2023-02-02T18:20:20.346Z"
   },
   {
    "duration": 35,
    "start_time": "2023-02-02T18:20:21.903Z"
   },
   {
    "duration": 2,
    "start_time": "2023-02-02T18:20:21.939Z"
   },
   {
    "duration": 14,
    "start_time": "2023-02-02T18:20:21.943Z"
   },
   {
    "duration": 6,
    "start_time": "2023-02-02T18:20:21.958Z"
   },
   {
    "duration": 14,
    "start_time": "2023-02-02T18:20:21.965Z"
   },
   {
    "duration": 7,
    "start_time": "2023-02-02T18:20:21.980Z"
   },
   {
    "duration": 12,
    "start_time": "2023-02-02T18:20:21.988Z"
   },
   {
    "duration": 10,
    "start_time": "2023-02-02T18:20:22.001Z"
   },
   {
    "duration": 27,
    "start_time": "2023-02-02T18:20:22.013Z"
   },
   {
    "duration": 9,
    "start_time": "2023-02-02T18:20:22.041Z"
   },
   {
    "duration": 11,
    "start_time": "2023-02-02T18:20:22.051Z"
   },
   {
    "duration": 4,
    "start_time": "2023-02-02T18:20:22.064Z"
   },
   {
    "duration": 79,
    "start_time": "2023-02-02T18:25:50.214Z"
   },
   {
    "duration": 4,
    "start_time": "2023-02-03T06:48:52.156Z"
   },
   {
    "duration": 52,
    "start_time": "2023-02-03T06:56:41.846Z"
   },
   {
    "duration": 1116,
    "start_time": "2023-02-03T06:56:47.575Z"
   },
   {
    "duration": 12,
    "start_time": "2023-02-03T06:56:53.128Z"
   },
   {
    "duration": 7,
    "start_time": "2023-02-03T09:02:30.974Z"
   },
   {
    "duration": 60,
    "start_time": "2023-02-03T09:03:40.766Z"
   },
   {
    "duration": 8,
    "start_time": "2023-02-03T09:03:41.738Z"
   },
   {
    "duration": 1143,
    "start_time": "2023-02-03T09:03:57.832Z"
   },
   {
    "duration": 97,
    "start_time": "2023-02-03T09:03:58.977Z"
   },
   {
    "duration": 3,
    "start_time": "2023-02-03T09:03:59.075Z"
   },
   {
    "duration": 17,
    "start_time": "2023-02-03T09:03:59.081Z"
   },
   {
    "duration": 7,
    "start_time": "2023-02-03T09:03:59.100Z"
   },
   {
    "duration": 14,
    "start_time": "2023-02-03T09:03:59.108Z"
   },
   {
    "duration": 8,
    "start_time": "2023-02-03T09:03:59.124Z"
   },
   {
    "duration": 19,
    "start_time": "2023-02-03T09:03:59.133Z"
   },
   {
    "duration": 11,
    "start_time": "2023-02-03T09:03:59.154Z"
   },
   {
    "duration": 8,
    "start_time": "2023-02-03T09:03:59.168Z"
   },
   {
    "duration": 13,
    "start_time": "2023-02-03T09:03:59.178Z"
   },
   {
    "duration": 208,
    "start_time": "2023-02-03T09:03:59.236Z"
   },
   {
    "duration": 0,
    "start_time": "2023-02-03T09:03:59.446Z"
   },
   {
    "duration": 13,
    "start_time": "2023-02-03T09:04:07.164Z"
   },
   {
    "duration": 7,
    "start_time": "2023-02-03T09:04:24.954Z"
   },
   {
    "duration": 11,
    "start_time": "2023-02-03T09:04:26.952Z"
   },
   {
    "duration": 8,
    "start_time": "2023-02-03T09:04:28.965Z"
   },
   {
    "duration": 5,
    "start_time": "2023-02-03T09:04:45.612Z"
   },
   {
    "duration": 12,
    "start_time": "2023-02-03T09:04:48.855Z"
   },
   {
    "duration": 6,
    "start_time": "2023-02-03T09:04:50.143Z"
   },
   {
    "duration": 73,
    "start_time": "2023-02-03T14:03:55.858Z"
   },
   {
    "duration": 1098,
    "start_time": "2023-02-04T07:04:07.860Z"
   },
   {
    "duration": 102,
    "start_time": "2023-02-04T07:04:08.960Z"
   },
   {
    "duration": 4,
    "start_time": "2023-02-04T07:04:09.064Z"
   },
   {
    "duration": 14,
    "start_time": "2023-02-04T07:04:09.070Z"
   },
   {
    "duration": 2,
    "start_time": "2023-02-04T07:04:09.086Z"
   },
   {
    "duration": 13,
    "start_time": "2023-02-04T07:04:09.090Z"
   },
   {
    "duration": 8,
    "start_time": "2023-02-04T07:04:09.105Z"
   },
   {
    "duration": 11,
    "start_time": "2023-02-04T07:04:09.115Z"
   },
   {
    "duration": 10,
    "start_time": "2023-02-04T07:04:09.127Z"
   },
   {
    "duration": 4,
    "start_time": "2023-02-04T07:04:09.140Z"
   },
   {
    "duration": 9,
    "start_time": "2023-02-04T07:04:09.145Z"
   },
   {
    "duration": 58,
    "start_time": "2023-02-04T07:04:09.156Z"
   },
   {
    "duration": 90,
    "start_time": "2023-02-04T07:04:09.216Z"
   },
   {
    "duration": 1686,
    "start_time": "2023-02-06T12:43:32.579Z"
   },
   {
    "duration": 39,
    "start_time": "2023-02-06T12:43:34.267Z"
   },
   {
    "duration": 4,
    "start_time": "2023-02-06T12:43:34.308Z"
   },
   {
    "duration": 14,
    "start_time": "2023-02-06T12:43:34.314Z"
   },
   {
    "duration": 6,
    "start_time": "2023-02-06T12:43:34.329Z"
   },
   {
    "duration": 13,
    "start_time": "2023-02-06T12:43:34.337Z"
   },
   {
    "duration": 9,
    "start_time": "2023-02-06T12:43:34.351Z"
   },
   {
    "duration": 28,
    "start_time": "2023-02-06T12:43:34.362Z"
   },
   {
    "duration": 13,
    "start_time": "2023-02-06T12:43:34.391Z"
   },
   {
    "duration": 5,
    "start_time": "2023-02-06T12:43:34.407Z"
   },
   {
    "duration": 16,
    "start_time": "2023-02-06T12:43:34.414Z"
   },
   {
    "duration": 60,
    "start_time": "2023-02-06T12:43:34.432Z"
   },
   {
    "duration": 8,
    "start_time": "2023-02-06T12:43:34.494Z"
   }
  ],
  "hide_input": false,
  "kernelspec": {
   "display_name": "Python 3 (ipykernel)",
   "language": "python",
   "name": "python3"
  },
  "language_info": {
   "codemirror_mode": {
    "name": "ipython",
    "version": 3
   },
   "file_extension": ".py",
   "mimetype": "text/x-python",
   "name": "python",
   "nbconvert_exporter": "python",
   "pygments_lexer": "ipython3",
   "version": "3.9.12"
  },
  "toc": {
   "base_numbering": 1,
   "nav_menu": {},
   "number_sections": true,
   "sideBar": true,
   "skip_h1_title": true,
   "title_cell": "Содержание",
   "title_sidebar": "Contents",
   "toc_cell": true,
   "toc_position": {},
   "toc_section_display": true,
   "toc_window_display": true
  }
 },
 "nbformat": 4,
 "nbformat_minor": 2
}
